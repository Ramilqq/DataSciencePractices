{
 "cells": [
  {
   "cell_type": "markdown",
   "metadata": {},
   "source": [
    "# 6.4. Хорошие оценки: готовые рецепты"
   ]
  },
  {
   "cell_type": "code",
   "execution_count": 21,
   "metadata": {},
   "outputs": [
    {
     "name": "stdout",
     "output_type": "stream",
     "text": [
      "10.61\n",
      "11.46\n"
     ]
    }
   ],
   "source": [
    "\n",
    "a = (((20 - 31.71)**2) + ((23 - 31.71)**2) + ((29 - 31.71)**2) + ((22 - 31.71)**2) + ((50 - 31.71)**2) + ((43 - 31.71)**2) + ((35 - 31.71)**2) )/ 7\n",
    "\n",
    "b = (((20 - 31.71)**2) + ((23 - 31.71)**2) + ((29 - 31.71)**2) + ((22 - 31.71)**2) + ((50 - 31.71)**2) + ((43 - 31.71)**2) + ((35 - 31.71)**2) )/ 6\n",
    "\n",
    "\n",
    "print(round(a**(1/2) , 2))\n",
    "print(round(b**(1/2) , 2))\n"
   ]
  },
  {
   "cell_type": "code",
   "execution_count": 24,
   "metadata": {},
   "outputs": [
    {
     "name": "stdout",
     "output_type": "stream",
     "text": [
      "13.79\n",
      "14.89\n"
     ]
    }
   ],
   "source": [
    "a = (((70 - 62.14)**2) + ((65 - 62.14)**2) + ((58 - 62.14)**2) + ((90 - 62.14)**2) + ((45 - 62.14)**2) + ((57 - 62.14)**2) + ((50 - 62.14)**2) )/ 7\n",
    "\n",
    "b = (((70 - 62.14)**2) + ((65 - 62.14)**2) + ((58 - 62.14)**2) + ((90 - 62.14)**2) + ((45 - 62.14)**2) + ((57 - 62.14)**2) + ((50 - 62.14)**2) )/ 6\n",
    "\n",
    "\n",
    "print(round(a**(1/2) , 2))\n",
    "print(round(b**(1/2) , 2))"
   ]
  },
  {
   "cell_type": "code",
   "execution_count": 32,
   "metadata": {},
   "outputs": [
    {
     "name": "stdout",
     "output_type": "stream",
     "text": [
      "-4.62\n"
     ]
    }
   ],
   "source": [
    "a = (((20 - 31.71)**2) + ((23 - 31.71)**2) + ((29 - 31.71)**2) + ((22 - 31.71)**2) + ((50 - 31.71)**2) + ((43 - 31.71)**2) + ((35 - 31.71)**2) )/ 6\n",
    "b = (((70 - 62.14)**2) + ((65 - 62.14)**2) + ((58 - 62.14)**2) + ((90 - 62.14)**2) + ((45 - 62.14)**2) + ((57 - 62.14)**2) + ((50 - 62.14)**2) )/ 6\n",
    "\n",
    "c = ((20 - 31.71) * (70 - 62.14)) +  ((23 - 31.71) * (65 - 62.14)) +  ((29 - 31.71) * (58 - 62.14)) + ((22 - 31.71) * (90 - 62.14)) + ((50 - 31.71) * (45 - 62.14)) + ((43 - 31.71) * (57 - 62.14)) + ((35 - 31.71) * (50 - 62.14))\n",
    "\n",
    "f = c / ((a*b)**(1/2))\n",
    "\n",
    "print(round(f , 2))\n"
   ]
  },
  {
   "cell_type": "code",
   "execution_count": 34,
   "metadata": {},
   "outputs": [
    {
     "name": "stdout",
     "output_type": "stream",
     "text": [
      "-0.77\n"
     ]
    }
   ],
   "source": [
    "import statistics\n",
    "\n",
    "x = [20, 23, 29, 22, 50, 43, 35]\n",
    "y = [70, 65, 58, 90, 45, 57, 50]\n",
    "\n",
    "r = statistics.correlation(x, y)\n",
    "\n",
    "print(round(r , 2))"
   ]
  },
  {
   "cell_type": "markdown",
   "metadata": {},
   "source": [
    "# Практика. Готовые рецепты\n"
   ]
  },
  {
   "cell_type": "code",
   "execution_count": 22,
   "metadata": {},
   "outputs": [
    {
     "name": "stdout",
     "output_type": "stream",
     "text": [
      "Collecting seaborn\n",
      "  Downloading seaborn-0.13.2-py3-none-any.whl.metadata (5.4 kB)\n",
      "Requirement already satisfied: numpy!=1.24.0,>=1.20 in c:\\users\\admin\\appdata\\local\\packages\\pythonsoftwarefoundation.python.3.11_qbz5n2kfra8p0\\localcache\\local-packages\\python311\\site-packages (from seaborn) (1.26.4)\n",
      "Requirement already satisfied: pandas>=1.2 in c:\\users\\admin\\appdata\\local\\packages\\pythonsoftwarefoundation.python.3.11_qbz5n2kfra8p0\\localcache\\local-packages\\python311\\site-packages (from seaborn) (2.2.3)\n",
      "Requirement already satisfied: matplotlib!=3.6.1,>=3.4 in c:\\users\\admin\\appdata\\local\\packages\\pythonsoftwarefoundation.python.3.11_qbz5n2kfra8p0\\localcache\\local-packages\\python311\\site-packages (from seaborn) (3.8.4)\n",
      "Requirement already satisfied: contourpy>=1.0.1 in c:\\users\\admin\\appdata\\local\\packages\\pythonsoftwarefoundation.python.3.11_qbz5n2kfra8p0\\localcache\\local-packages\\python311\\site-packages (from matplotlib!=3.6.1,>=3.4->seaborn) (1.2.1)\n",
      "Requirement already satisfied: cycler>=0.10 in c:\\users\\admin\\appdata\\local\\packages\\pythonsoftwarefoundation.python.3.11_qbz5n2kfra8p0\\localcache\\local-packages\\python311\\site-packages (from matplotlib!=3.6.1,>=3.4->seaborn) (0.12.1)\n",
      "Requirement already satisfied: fonttools>=4.22.0 in c:\\users\\admin\\appdata\\local\\packages\\pythonsoftwarefoundation.python.3.11_qbz5n2kfra8p0\\localcache\\local-packages\\python311\\site-packages (from matplotlib!=3.6.1,>=3.4->seaborn) (4.51.0)\n",
      "Requirement already satisfied: kiwisolver>=1.3.1 in c:\\users\\admin\\appdata\\local\\packages\\pythonsoftwarefoundation.python.3.11_qbz5n2kfra8p0\\localcache\\local-packages\\python311\\site-packages (from matplotlib!=3.6.1,>=3.4->seaborn) (1.4.5)\n",
      "Requirement already satisfied: packaging>=20.0 in c:\\users\\admin\\appdata\\local\\packages\\pythonsoftwarefoundation.python.3.11_qbz5n2kfra8p0\\localcache\\local-packages\\python311\\site-packages (from matplotlib!=3.6.1,>=3.4->seaborn) (24.0)\n",
      "Requirement already satisfied: pillow>=8 in c:\\users\\admin\\appdata\\local\\packages\\pythonsoftwarefoundation.python.3.11_qbz5n2kfra8p0\\localcache\\local-packages\\python311\\site-packages (from matplotlib!=3.6.1,>=3.4->seaborn) (10.3.0)\n",
      "Requirement already satisfied: pyparsing>=2.3.1 in c:\\users\\admin\\appdata\\local\\packages\\pythonsoftwarefoundation.python.3.11_qbz5n2kfra8p0\\localcache\\local-packages\\python311\\site-packages (from matplotlib!=3.6.1,>=3.4->seaborn) (3.1.2)\n",
      "Requirement already satisfied: python-dateutil>=2.7 in c:\\users\\admin\\appdata\\local\\packages\\pythonsoftwarefoundation.python.3.11_qbz5n2kfra8p0\\localcache\\local-packages\\python311\\site-packages (from matplotlib!=3.6.1,>=3.4->seaborn) (2.9.0.post0)\n",
      "Requirement already satisfied: pytz>=2020.1 in c:\\users\\admin\\appdata\\local\\packages\\pythonsoftwarefoundation.python.3.11_qbz5n2kfra8p0\\localcache\\local-packages\\python311\\site-packages (from pandas>=1.2->seaborn) (2024.2)\n",
      "Requirement already satisfied: tzdata>=2022.7 in c:\\users\\admin\\appdata\\local\\packages\\pythonsoftwarefoundation.python.3.11_qbz5n2kfra8p0\\localcache\\local-packages\\python311\\site-packages (from pandas>=1.2->seaborn) (2024.2)\n",
      "Requirement already satisfied: six>=1.5 in c:\\users\\admin\\appdata\\local\\packages\\pythonsoftwarefoundation.python.3.11_qbz5n2kfra8p0\\localcache\\local-packages\\python311\\site-packages (from python-dateutil>=2.7->matplotlib!=3.6.1,>=3.4->seaborn) (1.16.0)\n",
      "Downloading seaborn-0.13.2-py3-none-any.whl (294 kB)\n",
      "   ---------------------------------------- 0.0/294.9 kB ? eta -:--:--\n",
      "   ---------------------------------------- 0.0/294.9 kB ? eta -:--:--\n",
      "   - -------------------------------------- 10.2/294.9 kB ? eta -:--:--\n",
      "   -- ------------------------------------ 20.5/294.9 kB 129.6 kB/s eta 0:00:03\n",
      "   -- ------------------------------------ 20.5/294.9 kB 129.6 kB/s eta 0:00:03\n",
      "   ---- ---------------------------------- 30.7/294.9 kB 145.2 kB/s eta 0:00:02\n",
      "   ---- ---------------------------------- 30.7/294.9 kB 145.2 kB/s eta 0:00:02\n",
      "   ----- --------------------------------- 41.0/294.9 kB 130.7 kB/s eta 0:00:02\n",
      "   ----- --------------------------------- 41.0/294.9 kB 130.7 kB/s eta 0:00:02\n",
      "   -------- ------------------------------ 61.4/294.9 kB 142.2 kB/s eta 0:00:02\n",
      "   --------- ----------------------------- 71.7/294.9 kB 151.0 kB/s eta 0:00:02\n",
      "   ------------ -------------------------- 92.2/294.9 kB 180.4 kB/s eta 0:00:02\n",
      "   ------------- ------------------------ 102.4/294.9 kB 184.3 kB/s eta 0:00:02\n",
      "   ------------- ------------------------ 102.4/294.9 kB 184.3 kB/s eta 0:00:02\n",
      "   --------------- ---------------------- 122.9/294.9 kB 194.5 kB/s eta 0:00:01\n",
      "   ------------------ ------------------- 143.4/294.9 kB 207.7 kB/s eta 0:00:01\n",
      "   ------------------ ------------------- 143.4/294.9 kB 207.7 kB/s eta 0:00:01\n",
      "   ----------------------- -------------- 184.3/294.9 kB 242.1 kB/s eta 0:00:01\n",
      "   ----------------------------- -------- 225.3/294.9 kB 275.0 kB/s eta 0:00:01\n",
      "   -------------------------------- ----- 256.0/294.9 kB 302.3 kB/s eta 0:00:01\n",
      "   ------------------------------------ - 286.7/294.9 kB 310.3 kB/s eta 0:00:01\n",
      "   -------------------------------------- 294.9/294.9 kB 313.9 kB/s eta 0:00:00\n",
      "Installing collected packages: seaborn\n",
      "Successfully installed seaborn-0.13.2\n"
     ]
    },
    {
     "name": "stderr",
     "output_type": "stream",
     "text": [
      "\n",
      "[notice] A new release of pip is available: 24.0 -> 24.2\n",
      "[notice] To update, run: C:\\Users\\Admin\\AppData\\Local\\Microsoft\\WindowsApps\\PythonSoftwareFoundation.Python.3.11_qbz5n2kfra8p0\\python.exe -m pip install --upgrade pip\n"
     ]
    }
   ],
   "source": [
    "\n",
    "!pip install seaborn\n"
   ]
  },
  {
   "cell_type": "code",
   "execution_count": 23,
   "metadata": {},
   "outputs": [],
   "source": [
    "\n",
    "import pandas as pd\n",
    "import numpy as np\n",
    "import matplotlib.pyplot as plt\n",
    "import seaborn as sn\n",
    "import matplotlib.mlab as mlab\n",
    "\n"
   ]
  },
  {
   "cell_type": "code",
   "execution_count": 25,
   "metadata": {},
   "outputs": [
    {
     "data": {
      "text/html": [
       "<div>\n",
       "<style scoped>\n",
       "    .dataframe tbody tr th:only-of-type {\n",
       "        vertical-align: middle;\n",
       "    }\n",
       "\n",
       "    .dataframe tbody tr th {\n",
       "        vertical-align: top;\n",
       "    }\n",
       "\n",
       "    .dataframe thead th {\n",
       "        text-align: right;\n",
       "    }\n",
       "</style>\n",
       "<table border=\"1\" class=\"dataframe\">\n",
       "  <thead>\n",
       "    <tr style=\"text-align: right;\">\n",
       "      <th></th>\n",
       "      <th>male</th>\n",
       "      <th>age</th>\n",
       "      <th>education</th>\n",
       "      <th>currentSmoker</th>\n",
       "      <th>cigsPerDay</th>\n",
       "      <th>BPMeds</th>\n",
       "      <th>prevalentStroke</th>\n",
       "      <th>prevalentHyp</th>\n",
       "      <th>diabetes</th>\n",
       "      <th>totChol</th>\n",
       "      <th>sysBP</th>\n",
       "      <th>diaBP</th>\n",
       "      <th>BMI</th>\n",
       "      <th>heartRate</th>\n",
       "      <th>glucose</th>\n",
       "      <th>TenYearCHD</th>\n",
       "    </tr>\n",
       "  </thead>\n",
       "  <tbody>\n",
       "    <tr>\n",
       "      <th>0</th>\n",
       "      <td>1</td>\n",
       "      <td>39</td>\n",
       "      <td>4.0</td>\n",
       "      <td>0</td>\n",
       "      <td>0.0</td>\n",
       "      <td>0.0</td>\n",
       "      <td>0</td>\n",
       "      <td>0</td>\n",
       "      <td>0</td>\n",
       "      <td>195.0</td>\n",
       "      <td>106.0</td>\n",
       "      <td>70.0</td>\n",
       "      <td>26.97</td>\n",
       "      <td>80.0</td>\n",
       "      <td>77.0</td>\n",
       "      <td>0</td>\n",
       "    </tr>\n",
       "    <tr>\n",
       "      <th>1</th>\n",
       "      <td>0</td>\n",
       "      <td>46</td>\n",
       "      <td>2.0</td>\n",
       "      <td>0</td>\n",
       "      <td>0.0</td>\n",
       "      <td>0.0</td>\n",
       "      <td>0</td>\n",
       "      <td>0</td>\n",
       "      <td>0</td>\n",
       "      <td>250.0</td>\n",
       "      <td>121.0</td>\n",
       "      <td>81.0</td>\n",
       "      <td>28.73</td>\n",
       "      <td>95.0</td>\n",
       "      <td>76.0</td>\n",
       "      <td>0</td>\n",
       "    </tr>\n",
       "    <tr>\n",
       "      <th>2</th>\n",
       "      <td>1</td>\n",
       "      <td>48</td>\n",
       "      <td>1.0</td>\n",
       "      <td>1</td>\n",
       "      <td>20.0</td>\n",
       "      <td>0.0</td>\n",
       "      <td>0</td>\n",
       "      <td>0</td>\n",
       "      <td>0</td>\n",
       "      <td>245.0</td>\n",
       "      <td>127.5</td>\n",
       "      <td>80.0</td>\n",
       "      <td>25.34</td>\n",
       "      <td>75.0</td>\n",
       "      <td>70.0</td>\n",
       "      <td>0</td>\n",
       "    </tr>\n",
       "    <tr>\n",
       "      <th>3</th>\n",
       "      <td>0</td>\n",
       "      <td>61</td>\n",
       "      <td>3.0</td>\n",
       "      <td>1</td>\n",
       "      <td>30.0</td>\n",
       "      <td>0.0</td>\n",
       "      <td>0</td>\n",
       "      <td>1</td>\n",
       "      <td>0</td>\n",
       "      <td>225.0</td>\n",
       "      <td>150.0</td>\n",
       "      <td>95.0</td>\n",
       "      <td>28.58</td>\n",
       "      <td>65.0</td>\n",
       "      <td>103.0</td>\n",
       "      <td>1</td>\n",
       "    </tr>\n",
       "    <tr>\n",
       "      <th>4</th>\n",
       "      <td>0</td>\n",
       "      <td>46</td>\n",
       "      <td>3.0</td>\n",
       "      <td>1</td>\n",
       "      <td>23.0</td>\n",
       "      <td>0.0</td>\n",
       "      <td>0</td>\n",
       "      <td>0</td>\n",
       "      <td>0</td>\n",
       "      <td>285.0</td>\n",
       "      <td>130.0</td>\n",
       "      <td>84.0</td>\n",
       "      <td>23.10</td>\n",
       "      <td>85.0</td>\n",
       "      <td>85.0</td>\n",
       "      <td>0</td>\n",
       "    </tr>\n",
       "  </tbody>\n",
       "</table>\n",
       "</div>"
      ],
      "text/plain": [
       "   male  age  education  currentSmoker  cigsPerDay  BPMeds  prevalentStroke  \\\n",
       "0     1   39        4.0              0         0.0     0.0                0   \n",
       "1     0   46        2.0              0         0.0     0.0                0   \n",
       "2     1   48        1.0              1        20.0     0.0                0   \n",
       "3     0   61        3.0              1        30.0     0.0                0   \n",
       "4     0   46        3.0              1        23.0     0.0                0   \n",
       "\n",
       "   prevalentHyp  diabetes  totChol  sysBP  diaBP    BMI  heartRate  glucose  \\\n",
       "0             0         0    195.0  106.0   70.0  26.97       80.0     77.0   \n",
       "1             0         0    250.0  121.0   81.0  28.73       95.0     76.0   \n",
       "2             0         0    245.0  127.5   80.0  25.34       75.0     70.0   \n",
       "3             1         0    225.0  150.0   95.0  28.58       65.0    103.0   \n",
       "4             0         0    285.0  130.0   84.0  23.10       85.0     85.0   \n",
       "\n",
       "   TenYearCHD  \n",
       "0           0  \n",
       "1           0  \n",
       "2           0  \n",
       "3           1  \n",
       "4           0  "
      ]
     },
     "execution_count": 25,
     "metadata": {},
     "output_type": "execute_result"
    }
   ],
   "source": [
    "\n",
    "df = pd.read_csv('framingham.csv')\n",
    "df.head()\n",
    "\n"
   ]
  },
  {
   "cell_type": "code",
   "execution_count": 27,
   "metadata": {},
   "outputs": [
    {
     "data": {
      "text/plain": [
       "(4240, 16)"
      ]
     },
     "execution_count": 27,
     "metadata": {},
     "output_type": "execute_result"
    }
   ],
   "source": [
    "df.shape"
   ]
  },
  {
   "cell_type": "code",
   "execution_count": 28,
   "metadata": {},
   "outputs": [
    {
     "data": {
      "text/plain": [
       "Index(['male', 'age', 'education', 'currentSmoker', 'cigsPerDay', 'BPMeds',\n",
       "       'prevalentStroke', 'prevalentHyp', 'diabetes', 'totChol', 'sysBP',\n",
       "       'diaBP', 'BMI', 'heartRate', 'glucose', 'TenYearCHD'],\n",
       "      dtype='object')"
      ]
     },
     "execution_count": 28,
     "metadata": {},
     "output_type": "execute_result"
    }
   ],
   "source": [
    "df.columns"
   ]
  },
  {
   "cell_type": "code",
   "execution_count": 29,
   "metadata": {},
   "outputs": [
    {
     "data": {
      "text/plain": [
       "male                 0\n",
       "age                  0\n",
       "education          105\n",
       "currentSmoker        0\n",
       "cigsPerDay          29\n",
       "BPMeds              53\n",
       "prevalentStroke      0\n",
       "prevalentHyp         0\n",
       "diabetes             0\n",
       "totChol             50\n",
       "sysBP                0\n",
       "diaBP                0\n",
       "BMI                 19\n",
       "heartRate            1\n",
       "glucose            388\n",
       "TenYearCHD           0\n",
       "dtype: int64"
      ]
     },
     "execution_count": 29,
     "metadata": {},
     "output_type": "execute_result"
    }
   ],
   "source": [
    "df.isnull().sum()"
   ]
  },
  {
   "cell_type": "code",
   "execution_count": 30,
   "metadata": {},
   "outputs": [
    {
     "name": "stdout",
     "output_type": "stream",
     "text": [
      "582\n"
     ]
    }
   ],
   "source": [
    "count = 0\n",
    "\n",
    "for i in df.isnull().sum(axis=1):\n",
    "    if i > 0:\n",
    "        count = count + 1\n",
    "\n",
    "print(count)\n",
    "\n"
   ]
  },
  {
   "cell_type": "code",
   "execution_count": 35,
   "metadata": {},
   "outputs": [
    {
     "name": "stdout",
     "output_type": "stream",
     "text": [
      "0.13726415094339622\n"
     ]
    }
   ],
   "source": [
    "print(count/df.shape[0])"
   ]
  },
  {
   "cell_type": "code",
   "execution_count": 38,
   "metadata": {},
   "outputs": [],
   "source": [
    "df.dropna(axis=0, inplace=True)\n"
   ]
  },
  {
   "cell_type": "code",
   "execution_count": 39,
   "metadata": {},
   "outputs": [
    {
     "data": {
      "text/plain": [
       "(3658, 16)"
      ]
     },
     "execution_count": 39,
     "metadata": {},
     "output_type": "execute_result"
    }
   ],
   "source": [
    "df.shape"
   ]
  },
  {
   "cell_type": "code",
   "execution_count": 40,
   "metadata": {},
   "outputs": [
    {
     "data": {
      "text/html": [
       "<div>\n",
       "<style scoped>\n",
       "    .dataframe tbody tr th:only-of-type {\n",
       "        vertical-align: middle;\n",
       "    }\n",
       "\n",
       "    .dataframe tbody tr th {\n",
       "        vertical-align: top;\n",
       "    }\n",
       "\n",
       "    .dataframe thead th {\n",
       "        text-align: right;\n",
       "    }\n",
       "</style>\n",
       "<table border=\"1\" class=\"dataframe\">\n",
       "  <thead>\n",
       "    <tr style=\"text-align: right;\">\n",
       "      <th></th>\n",
       "      <th>male</th>\n",
       "      <th>age</th>\n",
       "      <th>education</th>\n",
       "      <th>currentSmoker</th>\n",
       "      <th>cigsPerDay</th>\n",
       "      <th>BPMeds</th>\n",
       "      <th>prevalentStroke</th>\n",
       "      <th>prevalentHyp</th>\n",
       "      <th>diabetes</th>\n",
       "      <th>totChol</th>\n",
       "      <th>sysBP</th>\n",
       "      <th>diaBP</th>\n",
       "      <th>BMI</th>\n",
       "      <th>heartRate</th>\n",
       "      <th>glucose</th>\n",
       "      <th>TenYearCHD</th>\n",
       "    </tr>\n",
       "  </thead>\n",
       "  <tbody>\n",
       "    <tr>\n",
       "      <th>count</th>\n",
       "      <td>3658.000000</td>\n",
       "      <td>3658.000000</td>\n",
       "      <td>3658.000000</td>\n",
       "      <td>3658.000000</td>\n",
       "      <td>3658.000000</td>\n",
       "      <td>3658.000000</td>\n",
       "      <td>3658.000000</td>\n",
       "      <td>3658.000000</td>\n",
       "      <td>3658.000000</td>\n",
       "      <td>3658.000000</td>\n",
       "      <td>3658.000000</td>\n",
       "      <td>3658.000000</td>\n",
       "      <td>3658.000000</td>\n",
       "      <td>3658.000000</td>\n",
       "      <td>3658.000000</td>\n",
       "      <td>3658.000000</td>\n",
       "    </tr>\n",
       "    <tr>\n",
       "      <th>mean</th>\n",
       "      <td>0.443685</td>\n",
       "      <td>49.551941</td>\n",
       "      <td>1.980317</td>\n",
       "      <td>0.489065</td>\n",
       "      <td>9.025424</td>\n",
       "      <td>0.030344</td>\n",
       "      <td>0.005741</td>\n",
       "      <td>0.311646</td>\n",
       "      <td>0.027064</td>\n",
       "      <td>236.847731</td>\n",
       "      <td>132.370558</td>\n",
       "      <td>82.917031</td>\n",
       "      <td>25.782802</td>\n",
       "      <td>75.730727</td>\n",
       "      <td>81.852925</td>\n",
       "      <td>0.152269</td>\n",
       "    </tr>\n",
       "    <tr>\n",
       "      <th>std</th>\n",
       "      <td>0.496886</td>\n",
       "      <td>8.562029</td>\n",
       "      <td>1.022656</td>\n",
       "      <td>0.499949</td>\n",
       "      <td>11.921590</td>\n",
       "      <td>0.171557</td>\n",
       "      <td>0.075561</td>\n",
       "      <td>0.463229</td>\n",
       "      <td>0.162292</td>\n",
       "      <td>44.097681</td>\n",
       "      <td>22.086866</td>\n",
       "      <td>11.974258</td>\n",
       "      <td>4.065601</td>\n",
       "      <td>11.981525</td>\n",
       "      <td>23.904164</td>\n",
       "      <td>0.359331</td>\n",
       "    </tr>\n",
       "    <tr>\n",
       "      <th>min</th>\n",
       "      <td>0.000000</td>\n",
       "      <td>32.000000</td>\n",
       "      <td>1.000000</td>\n",
       "      <td>0.000000</td>\n",
       "      <td>0.000000</td>\n",
       "      <td>0.000000</td>\n",
       "      <td>0.000000</td>\n",
       "      <td>0.000000</td>\n",
       "      <td>0.000000</td>\n",
       "      <td>113.000000</td>\n",
       "      <td>83.500000</td>\n",
       "      <td>48.000000</td>\n",
       "      <td>15.540000</td>\n",
       "      <td>44.000000</td>\n",
       "      <td>40.000000</td>\n",
       "      <td>0.000000</td>\n",
       "    </tr>\n",
       "    <tr>\n",
       "      <th>25%</th>\n",
       "      <td>0.000000</td>\n",
       "      <td>42.000000</td>\n",
       "      <td>1.000000</td>\n",
       "      <td>0.000000</td>\n",
       "      <td>0.000000</td>\n",
       "      <td>0.000000</td>\n",
       "      <td>0.000000</td>\n",
       "      <td>0.000000</td>\n",
       "      <td>0.000000</td>\n",
       "      <td>206.000000</td>\n",
       "      <td>117.000000</td>\n",
       "      <td>75.000000</td>\n",
       "      <td>23.080000</td>\n",
       "      <td>68.000000</td>\n",
       "      <td>71.000000</td>\n",
       "      <td>0.000000</td>\n",
       "    </tr>\n",
       "    <tr>\n",
       "      <th>50%</th>\n",
       "      <td>0.000000</td>\n",
       "      <td>49.000000</td>\n",
       "      <td>2.000000</td>\n",
       "      <td>0.000000</td>\n",
       "      <td>0.000000</td>\n",
       "      <td>0.000000</td>\n",
       "      <td>0.000000</td>\n",
       "      <td>0.000000</td>\n",
       "      <td>0.000000</td>\n",
       "      <td>234.000000</td>\n",
       "      <td>128.000000</td>\n",
       "      <td>82.000000</td>\n",
       "      <td>25.380000</td>\n",
       "      <td>75.000000</td>\n",
       "      <td>78.000000</td>\n",
       "      <td>0.000000</td>\n",
       "    </tr>\n",
       "    <tr>\n",
       "      <th>75%</th>\n",
       "      <td>1.000000</td>\n",
       "      <td>56.000000</td>\n",
       "      <td>3.000000</td>\n",
       "      <td>1.000000</td>\n",
       "      <td>20.000000</td>\n",
       "      <td>0.000000</td>\n",
       "      <td>0.000000</td>\n",
       "      <td>1.000000</td>\n",
       "      <td>0.000000</td>\n",
       "      <td>263.000000</td>\n",
       "      <td>143.875000</td>\n",
       "      <td>90.000000</td>\n",
       "      <td>28.037500</td>\n",
       "      <td>82.000000</td>\n",
       "      <td>87.000000</td>\n",
       "      <td>0.000000</td>\n",
       "    </tr>\n",
       "    <tr>\n",
       "      <th>max</th>\n",
       "      <td>1.000000</td>\n",
       "      <td>70.000000</td>\n",
       "      <td>4.000000</td>\n",
       "      <td>1.000000</td>\n",
       "      <td>70.000000</td>\n",
       "      <td>1.000000</td>\n",
       "      <td>1.000000</td>\n",
       "      <td>1.000000</td>\n",
       "      <td>1.000000</td>\n",
       "      <td>600.000000</td>\n",
       "      <td>295.000000</td>\n",
       "      <td>142.500000</td>\n",
       "      <td>56.800000</td>\n",
       "      <td>143.000000</td>\n",
       "      <td>394.000000</td>\n",
       "      <td>1.000000</td>\n",
       "    </tr>\n",
       "  </tbody>\n",
       "</table>\n",
       "</div>"
      ],
      "text/plain": [
       "              male          age    education  currentSmoker   cigsPerDay  \\\n",
       "count  3658.000000  3658.000000  3658.000000    3658.000000  3658.000000   \n",
       "mean      0.443685    49.551941     1.980317       0.489065     9.025424   \n",
       "std       0.496886     8.562029     1.022656       0.499949    11.921590   \n",
       "min       0.000000    32.000000     1.000000       0.000000     0.000000   \n",
       "25%       0.000000    42.000000     1.000000       0.000000     0.000000   \n",
       "50%       0.000000    49.000000     2.000000       0.000000     0.000000   \n",
       "75%       1.000000    56.000000     3.000000       1.000000    20.000000   \n",
       "max       1.000000    70.000000     4.000000       1.000000    70.000000   \n",
       "\n",
       "            BPMeds  prevalentStroke  prevalentHyp     diabetes      totChol  \\\n",
       "count  3658.000000      3658.000000   3658.000000  3658.000000  3658.000000   \n",
       "mean      0.030344         0.005741      0.311646     0.027064   236.847731   \n",
       "std       0.171557         0.075561      0.463229     0.162292    44.097681   \n",
       "min       0.000000         0.000000      0.000000     0.000000   113.000000   \n",
       "25%       0.000000         0.000000      0.000000     0.000000   206.000000   \n",
       "50%       0.000000         0.000000      0.000000     0.000000   234.000000   \n",
       "75%       0.000000         0.000000      1.000000     0.000000   263.000000   \n",
       "max       1.000000         1.000000      1.000000     1.000000   600.000000   \n",
       "\n",
       "             sysBP        diaBP          BMI    heartRate      glucose  \\\n",
       "count  3658.000000  3658.000000  3658.000000  3658.000000  3658.000000   \n",
       "mean    132.370558    82.917031    25.782802    75.730727    81.852925   \n",
       "std      22.086866    11.974258     4.065601    11.981525    23.904164   \n",
       "min      83.500000    48.000000    15.540000    44.000000    40.000000   \n",
       "25%     117.000000    75.000000    23.080000    68.000000    71.000000   \n",
       "50%     128.000000    82.000000    25.380000    75.000000    78.000000   \n",
       "75%     143.875000    90.000000    28.037500    82.000000    87.000000   \n",
       "max     295.000000   142.500000    56.800000   143.000000   394.000000   \n",
       "\n",
       "        TenYearCHD  \n",
       "count  3658.000000  \n",
       "mean      0.152269  \n",
       "std       0.359331  \n",
       "min       0.000000  \n",
       "25%       0.000000  \n",
       "50%       0.000000  \n",
       "75%       0.000000  \n",
       "max       1.000000  "
      ]
     },
     "execution_count": 40,
     "metadata": {},
     "output_type": "execute_result"
    }
   ],
   "source": [
    "df.describe()"
   ]
  },
  {
   "cell_type": "code",
   "execution_count": 43,
   "metadata": {},
   "outputs": [
    {
     "data": {
      "text/plain": [
       "<Axes: >"
      ]
     },
     "execution_count": 43,
     "metadata": {},
     "output_type": "execute_result"
    },
    {
     "data": {
      "image/png": "[encoded data removed]",
      "text/plain": [
       "<Figure size 640x480 with 2 Axes>"
      ]
     },
     "metadata": {},
     "output_type": "display_data"
    }
   ],
   "source": [
    "sn.heatmap(df.corr())"
   ]
  },
  {
   "cell_type": "code",
   "execution_count": 48,
   "metadata": {},
   "outputs": [
    {
     "name": "stdout",
     "output_type": "stream",
     "text": [
      "количество мужчин 1623\n"
     ]
    }
   ],
   "source": [
    "m = df['male'].value_counts()\n",
    "\n",
    "print('количество мужчин', m[1])\n"
   ]
  },
  {
   "cell_type": "code",
   "execution_count": 51,
   "metadata": {},
   "outputs": [
    {
     "name": "stdout",
     "output_type": "stream",
     "text": [
      "доля мужчин среди всех поциентов  0.4436850738108256\n"
     ]
    }
   ],
   "source": [
    "p_male = m[1] / df.shape[0]\n",
    "\n",
    "print('доля мужчин среди всех поциентов ', p_male)"
   ]
  },
  {
   "cell_type": "code",
   "execution_count": 55,
   "metadata": {},
   "outputs": [
    {
     "data": {
      "text/plain": [
       "male\n",
       "0    0.556315\n",
       "1    0.443685\n",
       "Name: proportion, dtype: float64"
      ]
     },
     "execution_count": 55,
     "metadata": {},
     "output_type": "execute_result"
    }
   ],
   "source": [
    "df['male'].value_counts(normalize=True) "
   ]
  },
  {
   "cell_type": "code",
   "execution_count": 56,
   "metadata": {},
   "outputs": [
    {
     "data": {
      "text/plain": [
       "<pandas.core.groupby.generic.DataFrameGroupBy object at 0x000002C0CE514610>"
      ]
     },
     "execution_count": 56,
     "metadata": {},
     "output_type": "execute_result"
    }
   ],
   "source": [
    "male_group = df.groupby('male') #разбиваем таблицу на группу по признаку пола\n",
    "male_group"
   ]
  },
  {
   "cell_type": "code",
   "execution_count": 59,
   "metadata": {},
   "outputs": [
    {
     "data": {
      "text/plain": [
       "male  currentSmoker\n",
       "0     0                1227\n",
       "      1                 808\n",
       "1     1                 981\n",
       "      0                 642\n",
       "Name: count, dtype: int64"
      ]
     },
     "execution_count": 59,
     "metadata": {},
     "output_type": "execute_result"
    }
   ],
   "source": [
    "male_group['currentSmoker'].value_counts() #отделбно выводим курильщиков среди мужчин и среди женщин"
   ]
  },
  {
   "cell_type": "code",
   "execution_count": 61,
   "metadata": {},
   "outputs": [
    {
     "data": {
      "text/plain": [
       "male  currentSmoker\n",
       "0     0                0.602948\n",
       "      1                0.397052\n",
       "1     1                0.604436\n",
       "      0                0.395564\n",
       "Name: proportion, dtype: float64"
      ]
     },
     "execution_count": 61,
     "metadata": {},
     "output_type": "execute_result"
    }
   ],
   "source": [
    "ms = male_group['currentSmoker'].value_counts(normalize=True) # пропорция в процентах куррят и не ркурят\n",
    "ms"
   ]
  },
  {
   "cell_type": "code",
   "execution_count": 64,
   "metadata": {},
   "outputs": [],
   "source": [
    "smoke_group = df.groupby('currentSmoker')"
   ]
  },
  {
   "cell_type": "code",
   "execution_count": 65,
   "metadata": {},
   "outputs": [
    {
     "data": {
      "text/plain": [
       "currentSmoker\n",
       "0    75.134831\n",
       "1    76.353270\n",
       "Name: heartRate, dtype: float64"
      ]
     },
     "execution_count": 65,
     "metadata": {},
     "output_type": "execute_result"
    }
   ],
   "source": [
    "smoke_group['heartRate'].mean()"
   ]
  },
  {
   "cell_type": "code",
   "execution_count": 68,
   "metadata": {},
   "outputs": [
    {
     "data": {
      "text/plain": [
       "currentSmoker  TenYearCHD\n",
       "0              0             0.854468\n",
       "               1             0.145532\n",
       "1              0             0.840693\n",
       "               1             0.159307\n",
       "Name: proportion, dtype: float64"
      ]
     },
     "execution_count": 68,
     "metadata": {},
     "output_type": "execute_result"
    }
   ],
   "source": [
    "srisk = smoke_group['TenYearCHD'].value_counts(normalize=True) # доля поциентов с рисками среди курильщиков\n",
    "srisk"
   ]
  },
  {
   "cell_type": "code",
   "execution_count": 72,
   "metadata": {},
   "outputs": [
    {
     "data": {
      "text/plain": [
       "currentSmoker\n",
       "0    0.145532\n",
       "1    0.159307\n",
       "Name: TenYearCHD, dtype: float64"
      ]
     },
     "execution_count": 72,
     "metadata": {},
     "output_type": "execute_result"
    }
   ],
   "source": [
    "smoke_group['TenYearCHD'].mean()"
   ]
  },
  {
   "cell_type": "code",
   "execution_count": 79,
   "metadata": {},
   "outputs": [
    {
     "data": {
      "text/plain": [
       "diabetes\n",
       "0    3559\n",
       "1      99\n",
       "Name: count, dtype: int64"
      ]
     },
     "execution_count": 79,
     "metadata": {},
     "output_type": "execute_result"
    }
   ],
   "source": [
    "#Задание 6.5.1\n",
    "\n",
    "diabetes = df['diabetes'].value_counts()\n",
    "diabetes"
   ]
  },
  {
   "cell_type": "code",
   "execution_count": 82,
   "metadata": {},
   "outputs": [
    {
     "data": {
      "text/plain": [
       "0.02706396938217605"
      ]
     },
     "execution_count": 82,
     "metadata": {},
     "output_type": "execute_result"
    }
   ],
   "source": [
    "# Задание 6.5.2\n",
    "\n",
    "diabetes[1] / df.shape[0]\n"
   ]
  },
  {
   "cell_type": "code",
   "execution_count": 85,
   "metadata": {},
   "outputs": [
    {
     "data": {
      "text/plain": [
       "diabetes\n",
       "0    0.146670\n",
       "1    0.353535\n",
       "Name: TenYearCHD, dtype: float64"
      ]
     },
     "execution_count": 85,
     "metadata": {},
     "output_type": "execute_result"
    }
   ],
   "source": [
    "# Задание 6.5.3\n",
    "\n",
    "diabetes_group = df.groupby('diabetes')\n",
    "\n",
    "diabetes_group['TenYearCHD'].mean()"
   ]
  },
  {
   "cell_type": "code",
   "execution_count": 86,
   "metadata": {},
   "outputs": [
    {
     "data": {
      "text/plain": [
       "TenYearCHD\n",
       "0    0.020639\n",
       "1    0.062837\n",
       "Name: diabetes, dtype: float64"
      ]
     },
     "execution_count": 86,
     "metadata": {},
     "output_type": "execute_result"
    }
   ],
   "source": [
    "# Задание 6.5.4\n",
    "# Задание 6.5.5\n",
    "\n",
    "TenYearCHD_group = df.groupby('TenYearCHD')\n",
    "\n",
    "TenYearCHD_group['diabetes'].mean()\n"
   ]
  },
  {
   "cell_type": "code",
   "execution_count": 88,
   "metadata": {},
   "outputs": [
    {
     "data": {
      "text/plain": [
       "diabetes\n",
       "0    131.992835\n",
       "1    145.949495\n",
       "Name: sysBP, dtype: float64"
      ]
     },
     "execution_count": 88,
     "metadata": {},
     "output_type": "execute_result"
    }
   ],
   "source": [
    "# Задание 6.5.6\n",
    "\n",
    "diabetes_group['sysBP'].mean()\n",
    "\n"
   ]
  },
  {
   "cell_type": "code",
   "execution_count": 89,
   "metadata": {},
   "outputs": [
    {
     "data": {
      "text/plain": [
       "diabetes\n",
       "0    128.0\n",
       "1    142.0\n",
       "Name: sysBP, dtype: float64"
      ]
     },
     "execution_count": 89,
     "metadata": {},
     "output_type": "execute_result"
    }
   ],
   "source": [
    "# Задание 6.5.7 sysBP\n",
    "\n",
    "diabetes_group['sysBP'].median()"
   ]
  },
  {
   "cell_type": "markdown",
   "metadata": {},
   "source": [
    "# 6.6. Метод максимального правдоподобия"
   ]
  },
  {
   "cell_type": "markdown",
   "metadata": {},
   "source": [
    "# 6.8. --> Практика. Логистическая регрессия"
   ]
  },
  {
   "cell_type": "code",
   "execution_count": 96,
   "metadata": {},
   "outputs": [
    {
     "name": "stdout",
     "output_type": "stream",
     "text": [
      "Collecting scikit-learn\n",
      "  Downloading scikit_learn-1.5.2-cp311-cp311-win_amd64.whl.metadata (13 kB)\n",
      "Requirement already satisfied: numpy>=1.19.5 in c:\\users\\admin\\appdata\\local\\packages\\pythonsoftwarefoundation.python.3.11_qbz5n2kfra8p0\\localcache\\local-packages\\python311\\site-packages (from scikit-learn) (1.26.4)\n",
      "Requirement already satisfied: scipy>=1.6.0 in c:\\users\\admin\\appdata\\local\\packages\\pythonsoftwarefoundation.python.3.11_qbz5n2kfra8p0\\localcache\\local-packages\\python311\\site-packages (from scikit-learn) (1.13.0)\n",
      "Collecting joblib>=1.2.0 (from scikit-learn)\n",
      "  Downloading joblib-1.4.2-py3-none-any.whl.metadata (5.4 kB)\n",
      "Collecting threadpoolctl>=3.1.0 (from scikit-learn)\n",
      "  Downloading threadpoolctl-3.5.0-py3-none-any.whl.metadata (13 kB)\n",
      "Downloading scikit_learn-1.5.2-cp311-cp311-win_amd64.whl (11.0 MB)\n",
      "   ---------------------------------------- 0.0/11.0 MB ? eta -:--:--\n",
      "   ---------------------------------------- 0.0/11.0 MB ? eta -:--:--\n",
      "   ---------------------------------------- 0.0/11.0 MB 217.9 kB/s eta 0:00:51\n",
      "   ---------------------------------------- 0.0/11.0 MB 217.9 kB/s eta 0:00:51\n",
      "   ---------------------------------------- 0.0/11.0 MB 217.9 kB/s eta 0:00:51\n",
      "   ---------------------------------------- 0.0/11.0 MB 217.9 kB/s eta 0:00:51\n",
      "   ---------------------------------------- 0.0/11.0 MB 130.7 kB/s eta 0:01:24\n",
      "   ---------------------------------------- 0.0/11.0 MB 130.7 kB/s eta 0:01:24\n",
      "   ---------------------------------------- 0.1/11.0 MB 163.6 kB/s eta 0:01:07\n",
      "   ---------------------------------------- 0.1/11.0 MB 178.6 kB/s eta 0:01:02\n",
      "   ---------------------------------------- 0.1/11.0 MB 209.5 kB/s eta 0:00:53\n",
      "   ---------------------------------------- 0.1/11.0 MB 209.5 kB/s eta 0:00:53\n",
      "   ---------------------------------------- 0.1/11.0 MB 209.5 kB/s eta 0:00:53\n",
      "   ---------------------------------------- 0.1/11.0 MB 173.6 kB/s eta 0:01:03\n",
      "    --------------------------------------- 0.1/11.0 MB 224.1 kB/s eta 0:00:49\n",
      "    --------------------------------------- 0.2/11.0 MB 265.4 kB/s eta 0:00:41\n",
      "    --------------------------------------- 0.2/11.0 MB 305.9 kB/s eta 0:00:36\n",
      "    --------------------------------------- 0.2/11.0 MB 294.1 kB/s eta 0:00:37\n",
      "    --------------------------------------- 0.3/11.0 MB 309.2 kB/s eta 0:00:35\n",
      "   - -------------------------------------- 0.3/11.0 MB 345.3 kB/s eta 0:00:32\n",
      "   - -------------------------------------- 0.3/11.0 MB 373.0 kB/s eta 0:00:29\n",
      "   - -------------------------------------- 0.3/11.0 MB 373.0 kB/s eta 0:00:29\n",
      "   - -------------------------------------- 0.3/11.0 MB 373.0 kB/s eta 0:00:29\n",
      "   - -------------------------------------- 0.3/11.0 MB 373.0 kB/s eta 0:00:29\n",
      "   - -------------------------------------- 0.5/11.0 MB 449.3 kB/s eta 0:00:24\n",
      "   - -------------------------------------- 0.5/11.0 MB 451.8 kB/s eta 0:00:24\n",
      "   -- ------------------------------------- 0.6/11.0 MB 502.2 kB/s eta 0:00:21\n",
      "   -- ------------------------------------- 0.6/11.0 MB 502.2 kB/s eta 0:00:21\n",
      "   -- ------------------------------------- 0.6/11.0 MB 502.2 kB/s eta 0:00:21\n",
      "   -- ------------------------------------- 0.6/11.0 MB 502.2 kB/s eta 0:00:21\n",
      "   -- ------------------------------------- 0.6/11.0 MB 502.2 kB/s eta 0:00:21\n",
      "   -- ------------------------------------- 0.6/11.0 MB 502.2 kB/s eta 0:00:21\n",
      "   -- ------------------------------------- 0.6/11.0 MB 502.2 kB/s eta 0:00:21\n",
      "   -- ------------------------------------- 0.6/11.0 MB 502.2 kB/s eta 0:00:21\n",
      "   -- ------------------------------------- 0.6/11.0 MB 502.2 kB/s eta 0:00:21\n",
      "   -- ------------------------------------- 0.6/11.0 MB 502.2 kB/s eta 0:00:21\n",
      "   -- ------------------------------------- 0.6/11.0 MB 502.2 kB/s eta 0:00:21\n",
      "   --- ------------------------------------ 0.9/11.0 MB 515.6 kB/s eta 0:00:20\n",
      "   --- ------------------------------------ 0.9/11.0 MB 515.6 kB/s eta 0:00:20\n",
      "   --- ------------------------------------ 0.9/11.0 MB 515.6 kB/s eta 0:00:20\n",
      "   --- ------------------------------------ 0.9/11.0 MB 515.6 kB/s eta 0:00:20\n",
      "   --- ------------------------------------ 0.9/11.0 MB 515.6 kB/s eta 0:00:20\n",
      "   --- ------------------------------------ 0.9/11.0 MB 515.6 kB/s eta 0:00:20\n",
      "   --- ------------------------------------ 0.9/11.0 MB 515.6 kB/s eta 0:00:20\n",
      "   --- ------------------------------------ 0.9/11.0 MB 440.2 kB/s eta 0:00:23\n",
      "   --- ------------------------------------ 0.9/11.0 MB 448.4 kB/s eta 0:00:23\n",
      "   --- ------------------------------------ 1.0/11.0 MB 460.7 kB/s eta 0:00:22\n",
      "   --- ------------------------------------ 1.0/11.0 MB 472.7 kB/s eta 0:00:22\n",
      "   --- ------------------------------------ 1.1/11.0 MB 477.9 kB/s eta 0:00:21\n",
      "   ---- ----------------------------------- 1.1/11.0 MB 493.8 kB/s eta 0:00:21\n",
      "   ---- ----------------------------------- 1.2/11.0 MB 497.0 kB/s eta 0:00:20\n",
      "   ---- ----------------------------------- 1.2/11.0 MB 521.7 kB/s eta 0:00:19\n",
      "   ---- ----------------------------------- 1.3/11.0 MB 536.3 kB/s eta 0:00:19\n",
      "   ----- ---------------------------------- 1.4/11.0 MB 564.0 kB/s eta 0:00:18\n",
      "   ----- ---------------------------------- 1.5/11.0 MB 574.5 kB/s eta 0:00:17\n",
      "   ----- ---------------------------------- 1.5/11.0 MB 587.3 kB/s eta 0:00:17\n",
      "   ----- ---------------------------------- 1.6/11.0 MB 600.0 kB/s eta 0:00:16\n",
      "   ----- ---------------------------------- 1.6/11.0 MB 609.2 kB/s eta 0:00:16\n",
      "   ------ --------------------------------- 1.7/11.0 MB 628.9 kB/s eta 0:00:15\n",
      "   ------ --------------------------------- 1.8/11.0 MB 640.5 kB/s eta 0:00:15\n",
      "   ------ --------------------------------- 1.9/11.0 MB 662.7 kB/s eta 0:00:14\n",
      "   ------ --------------------------------- 1.9/11.0 MB 673.3 kB/s eta 0:00:14\n",
      "   ------- -------------------------------- 2.0/11.0 MB 683.6 kB/s eta 0:00:14\n",
      "   ------- -------------------------------- 2.0/11.0 MB 686.6 kB/s eta 0:00:14\n",
      "   ------- -------------------------------- 2.1/11.0 MB 703.1 kB/s eta 0:00:13\n",
      "   ------- -------------------------------- 2.2/11.0 MB 715.8 kB/s eta 0:00:13\n",
      "   -------- ------------------------------- 2.3/11.0 MB 738.6 kB/s eta 0:00:12\n",
      "   -------- ------------------------------- 2.3/11.0 MB 740.8 kB/s eta 0:00:12\n",
      "   -------- ------------------------------- 2.4/11.0 MB 754.8 kB/s eta 0:00:12\n",
      "   -------- ------------------------------- 2.5/11.0 MB 759.7 kB/s eta 0:00:12\n",
      "   --------- ------------------------------ 2.6/11.0 MB 777.1 kB/s eta 0:00:11\n",
      "   --------- ------------------------------ 2.6/11.0 MB 785.1 kB/s eta 0:00:11\n",
      "   --------- ------------------------------ 2.7/11.0 MB 794.9 kB/s eta 0:00:11\n",
      "   --------- ------------------------------ 2.7/11.0 MB 806.3 kB/s eta 0:00:11\n",
      "   ---------- ----------------------------- 2.8/11.0 MB 805.9 kB/s eta 0:00:11\n",
      "   ---------- ----------------------------- 2.8/11.0 MB 808.0 kB/s eta 0:00:11\n",
      "   ---------- ----------------------------- 3.0/11.0 MB 830.6 kB/s eta 0:00:10\n",
      "   ---------- ----------------------------- 3.0/11.0 MB 830.6 kB/s eta 0:00:10\n",
      "   ----------- ---------------------------- 3.1/11.0 MB 851.5 kB/s eta 0:00:10\n",
      "   ----------- ---------------------------- 3.2/11.0 MB 849.0 kB/s eta 0:00:10\n",
      "   ----------- ---------------------------- 3.2/11.0 MB 860.2 kB/s eta 0:00:10\n",
      "   ----------- ---------------------------- 3.3/11.0 MB 866.6 kB/s eta 0:00:09\n",
      "   ------------ --------------------------- 3.4/11.0 MB 870.1 kB/s eta 0:00:09\n",
      "   ------------ --------------------------- 3.5/11.0 MB 886.9 kB/s eta 0:00:09\n",
      "   ------------ --------------------------- 3.5/11.0 MB 889.3 kB/s eta 0:00:09\n",
      "   ------------- -------------------------- 3.6/11.0 MB 896.8 kB/s eta 0:00:09\n",
      "   ------------- -------------------------- 3.7/11.0 MB 905.8 kB/s eta 0:00:09\n",
      "   ------------- -------------------------- 3.7/11.0 MB 912.9 kB/s eta 0:00:08\n",
      "   -------------- ------------------------- 3.9/11.0 MB 929.8 kB/s eta 0:00:08\n",
      "   -------------- ------------------------- 3.9/11.0 MB 934.0 kB/s eta 0:00:08\n",
      "   -------------- ------------------------- 4.0/11.0 MB 944.1 kB/s eta 0:00:08\n",
      "   -------------- ------------------------- 4.1/11.0 MB 948.1 kB/s eta 0:00:08\n",
      "   --------------- ------------------------ 4.2/11.0 MB 960.6 kB/s eta 0:00:08\n",
      "   --------------- ------------------------ 4.2/11.0 MB 969.0 kB/s eta 0:00:07\n",
      "   --------------- ------------------------ 4.3/11.0 MB 978.4 kB/s eta 0:00:07\n",
      "   --------------- ------------------------ 4.4/11.0 MB 986.5 kB/s eta 0:00:07\n",
      "   ---------------- ----------------------- 4.5/11.0 MB 993.2 kB/s eta 0:00:07\n",
      "   ---------------- ----------------------- 4.6/11.0 MB 1.0 MB/s eta 0:00:07\n",
      "   ---------------- ----------------------- 4.7/11.0 MB 1.0 MB/s eta 0:00:07\n",
      "   ----------------- ---------------------- 4.7/11.0 MB 1.0 MB/s eta 0:00:07\n",
      "   ----------------- ---------------------- 4.8/11.0 MB 1.0 MB/s eta 0:00:07\n",
      "   ----------------- ---------------------- 4.9/11.0 MB 1.0 MB/s eta 0:00:06\n",
      "   ----------------- ---------------------- 4.9/11.0 MB 1.0 MB/s eta 0:00:06\n",
      "   ------------------ --------------------- 5.0/11.0 MB 1.0 MB/s eta 0:00:06\n",
      "   ------------------ --------------------- 5.1/11.0 MB 1.0 MB/s eta 0:00:06\n",
      "   ------------------ --------------------- 5.2/11.0 MB 1.0 MB/s eta 0:00:06\n",
      "   ------------------- -------------------- 5.3/11.0 MB 1.1 MB/s eta 0:00:06\n",
      "   ------------------- -------------------- 5.3/11.0 MB 1.1 MB/s eta 0:00:06\n",
      "   ------------------- -------------------- 5.4/11.0 MB 1.1 MB/s eta 0:00:06\n",
      "   -------------------- ------------------- 5.5/11.0 MB 1.1 MB/s eta 0:00:06\n",
      "   -------------------- ------------------- 5.6/11.0 MB 1.1 MB/s eta 0:00:06\n",
      "   -------------------- ------------------- 5.7/11.0 MB 1.1 MB/s eta 0:00:05\n",
      "   -------------------- ------------------- 5.7/11.0 MB 1.1 MB/s eta 0:00:05\n",
      "   --------------------- ------------------ 5.8/11.0 MB 1.1 MB/s eta 0:00:05\n",
      "   --------------------- ------------------ 5.9/11.0 MB 1.1 MB/s eta 0:00:05\n",
      "   --------------------- ------------------ 5.9/11.0 MB 1.1 MB/s eta 0:00:05\n",
      "   --------------------- ------------------ 5.9/11.0 MB 1.1 MB/s eta 0:00:05\n",
      "   --------------------- ------------------ 5.9/11.0 MB 1.1 MB/s eta 0:00:05\n",
      "   --------------------- ------------------ 5.9/11.0 MB 1.1 MB/s eta 0:00:05\n",
      "   --------------------- ------------------ 5.9/11.0 MB 1.1 MB/s eta 0:00:05\n",
      "   --------------------- ------------------ 5.9/11.0 MB 1.1 MB/s eta 0:00:05\n",
      "   --------------------- ------------------ 5.9/11.0 MB 1.1 MB/s eta 0:00:05\n",
      "   ----------------------- ---------------- 6.5/11.0 MB 1.1 MB/s eta 0:00:05\n",
      "   ----------------------- ---------------- 6.5/11.0 MB 1.1 MB/s eta 0:00:05\n",
      "   ----------------------- ---------------- 6.5/11.0 MB 1.1 MB/s eta 0:00:05\n",
      "   ----------------------- ---------------- 6.5/11.0 MB 1.1 MB/s eta 0:00:05\n",
      "   ------------------------ --------------- 6.6/11.0 MB 1.1 MB/s eta 0:00:04\n",
      "   ------------------------ --------------- 6.7/11.0 MB 1.1 MB/s eta 0:00:04\n",
      "   ------------------------ --------------- 6.7/11.0 MB 1.1 MB/s eta 0:00:04\n",
      "   ------------------------ --------------- 6.7/11.0 MB 1.1 MB/s eta 0:00:04\n",
      "   ------------------------ --------------- 6.8/11.0 MB 1.1 MB/s eta 0:00:04\n",
      "   ------------------------ --------------- 6.8/11.0 MB 1.1 MB/s eta 0:00:04\n",
      "   ------------------------- -------------- 7.0/11.0 MB 1.1 MB/s eta 0:00:04\n",
      "   ------------------------- -------------- 7.0/11.0 MB 1.1 MB/s eta 0:00:04\n",
      "   ------------------------- -------------- 7.1/11.0 MB 1.1 MB/s eta 0:00:04\n",
      "   ------------------------- -------------- 7.1/11.0 MB 1.1 MB/s eta 0:00:04\n",
      "   ------------------------- -------------- 7.1/11.0 MB 1.1 MB/s eta 0:00:04\n",
      "   -------------------------- ------------- 7.2/11.0 MB 1.1 MB/s eta 0:00:04\n",
      "   -------------------------- ------------- 7.2/11.0 MB 1.1 MB/s eta 0:00:04\n",
      "   -------------------------- ------------- 7.3/11.0 MB 1.1 MB/s eta 0:00:04\n",
      "   -------------------------- ------------- 7.4/11.0 MB 1.1 MB/s eta 0:00:04\n",
      "   --------------------------- ------------ 7.4/11.0 MB 1.1 MB/s eta 0:00:04\n",
      "   --------------------------- ------------ 7.5/11.0 MB 1.1 MB/s eta 0:00:04\n",
      "   --------------------------- ------------ 7.6/11.0 MB 1.1 MB/s eta 0:00:04\n",
      "   --------------------------- ------------ 7.6/11.0 MB 1.1 MB/s eta 0:00:04\n",
      "   --------------------------- ------------ 7.6/11.0 MB 1.1 MB/s eta 0:00:04\n",
      "   ---------------------------- ----------- 7.8/11.0 MB 1.1 MB/s eta 0:00:03\n",
      "   ---------------------------- ----------- 7.8/11.0 MB 1.1 MB/s eta 0:00:03\n",
      "   ---------------------------- ----------- 7.9/11.0 MB 1.1 MB/s eta 0:00:03\n",
      "   ---------------------------- ----------- 7.9/11.0 MB 1.1 MB/s eta 0:00:03\n",
      "   ---------------------------- ----------- 8.0/11.0 MB 1.1 MB/s eta 0:00:03\n",
      "   ----------------------------- ---------- 8.1/11.0 MB 1.1 MB/s eta 0:00:03\n",
      "   ----------------------------- ---------- 8.1/11.0 MB 1.1 MB/s eta 0:00:03\n",
      "   ----------------------------- ---------- 8.2/11.0 MB 1.1 MB/s eta 0:00:03\n",
      "   ----------------------------- ---------- 8.3/11.0 MB 1.1 MB/s eta 0:00:03\n",
      "   ------------------------------ --------- 8.3/11.0 MB 1.1 MB/s eta 0:00:03\n",
      "   ------------------------------ --------- 8.4/11.0 MB 1.1 MB/s eta 0:00:03\n",
      "   ------------------------------ --------- 8.5/11.0 MB 1.1 MB/s eta 0:00:03\n",
      "   ------------------------------- -------- 8.5/11.0 MB 1.1 MB/s eta 0:00:03\n",
      "   ------------------------------- -------- 8.6/11.0 MB 1.1 MB/s eta 0:00:03\n",
      "   ------------------------------- -------- 8.7/11.0 MB 1.1 MB/s eta 0:00:03\n",
      "   ------------------------------- -------- 8.7/11.0 MB 1.1 MB/s eta 0:00:03\n",
      "   ------------------------------- -------- 8.7/11.0 MB 1.1 MB/s eta 0:00:03\n",
      "   ------------------------------- -------- 8.8/11.0 MB 1.1 MB/s eta 0:00:02\n",
      "   -------------------------------- ------- 8.9/11.0 MB 1.1 MB/s eta 0:00:02\n",
      "   -------------------------------- ------- 9.0/11.0 MB 1.2 MB/s eta 0:00:02\n",
      "   -------------------------------- ------- 9.0/11.0 MB 1.2 MB/s eta 0:00:02\n",
      "   -------------------------------- ------- 9.1/11.0 MB 1.2 MB/s eta 0:00:02\n",
      "   --------------------------------- ------ 9.1/11.0 MB 1.1 MB/s eta 0:00:02\n",
      "   --------------------------------- ------ 9.2/11.0 MB 1.2 MB/s eta 0:00:02\n",
      "   --------------------------------- ------ 9.3/11.0 MB 1.2 MB/s eta 0:00:02\n",
      "   ---------------------------------- ----- 9.4/11.0 MB 1.2 MB/s eta 0:00:02\n",
      "   ---------------------------------- ----- 9.4/11.0 MB 1.2 MB/s eta 0:00:02\n",
      "   ---------------------------------- ----- 9.5/11.0 MB 1.2 MB/s eta 0:00:02\n",
      "   ---------------------------------- ----- 9.6/11.0 MB 1.2 MB/s eta 0:00:02\n",
      "   ----------------------------------- ---- 9.6/11.0 MB 1.2 MB/s eta 0:00:02\n",
      "   ----------------------------------- ---- 9.7/11.0 MB 1.2 MB/s eta 0:00:02\n",
      "   ----------------------------------- ---- 9.8/11.0 MB 1.2 MB/s eta 0:00:02\n",
      "   ----------------------------------- ---- 9.9/11.0 MB 1.2 MB/s eta 0:00:01\n",
      "   ------------------------------------ --- 9.9/11.0 MB 1.2 MB/s eta 0:00:01\n",
      "   ------------------------------------ --- 9.9/11.0 MB 1.2 MB/s eta 0:00:01\n",
      "   ------------------------------------ --- 10.1/11.0 MB 1.2 MB/s eta 0:00:01\n",
      "   ------------------------------------ --- 10.1/11.0 MB 1.2 MB/s eta 0:00:01\n",
      "   ------------------------------------ --- 10.2/11.0 MB 1.2 MB/s eta 0:00:01\n",
      "   ------------------------------------- -- 10.3/11.0 MB 1.2 MB/s eta 0:00:01\n",
      "   ------------------------------------- -- 10.4/11.0 MB 1.3 MB/s eta 0:00:01\n",
      "   ------------------------------------- -- 10.4/11.0 MB 1.3 MB/s eta 0:00:01\n",
      "   -------------------------------------- - 10.5/11.0 MB 1.3 MB/s eta 0:00:01\n",
      "   -------------------------------------- - 10.6/11.0 MB 1.3 MB/s eta 0:00:01\n",
      "   -------------------------------------- - 10.6/11.0 MB 1.3 MB/s eta 0:00:01\n",
      "   -------------------------------------- - 10.7/11.0 MB 1.3 MB/s eta 0:00:01\n",
      "   ---------------------------------------  10.8/11.0 MB 1.3 MB/s eta 0:00:01\n",
      "   ---------------------------------------  10.8/11.0 MB 1.3 MB/s eta 0:00:01\n",
      "   ---------------------------------------  10.9/11.0 MB 1.4 MB/s eta 0:00:01\n",
      "   ---------------------------------------  11.0/11.0 MB 1.4 MB/s eta 0:00:01\n",
      "   ---------------------------------------- 11.0/11.0 MB 1.4 MB/s eta 0:00:00\n",
      "Downloading joblib-1.4.2-py3-none-any.whl (301 kB)\n",
      "   ---------------------------------------- 0.0/301.8 kB ? eta -:--:--\n",
      "   -------- ------------------------------- 61.4/301.8 kB 3.2 MB/s eta 0:00:01\n",
      "   ---------------- ----------------------- 122.9/301.8 kB 1.4 MB/s eta 0:00:01\n",
      "   --------------------------- ------------ 204.8/301.8 kB 1.8 MB/s eta 0:00:01\n",
      "   --------------------------------- ------ 256.0/301.8 kB 1.6 MB/s eta 0:00:01\n",
      "   ------------------------------------- -- 286.7/301.8 kB 1.6 MB/s eta 0:00:01\n",
      "   ---------------------------------------- 301.8/301.8 kB 1.1 MB/s eta 0:00:00\n",
      "Downloading threadpoolctl-3.5.0-py3-none-any.whl (18 kB)\n",
      "Installing collected packages: threadpoolctl, joblib, scikit-learn\n",
      "Successfully installed joblib-1.4.2 scikit-learn-1.5.2 threadpoolctl-3.5.0\n"
     ]
    },
    {
     "name": "stderr",
     "output_type": "stream",
     "text": [
      "\n",
      "[notice] A new release of pip is available: 24.0 -> 24.2\n",
      "[notice] To update, run: C:\\Users\\Admin\\AppData\\Local\\Microsoft\\WindowsApps\\PythonSoftwareFoundation.Python.3.11_qbz5n2kfra8p0\\python.exe -m pip install --upgrade pip\n"
     ]
    }
   ],
   "source": [
    "\n",
    "\n",
    "!pip install scikit-learn\n",
    "\n"
   ]
  },
  {
   "cell_type": "code",
   "execution_count": 97,
   "metadata": {},
   "outputs": [],
   "source": [
    "import pandas as pd\n",
    "import numpy as np\n",
    "import matplotlib.pyplot as plt\n",
    "import seaborn as sn\n",
    "import matplotlib.mlab as mlab\n",
    "from sklearn import linear_model\n",
    "from sklearn.linear_model import LogisticRegression\n",
    "from sklearn.model_selection import train_test_split\n",
    "from sklearn import metrics\n"
   ]
  },
  {
   "cell_type": "code",
   "execution_count": 99,
   "metadata": {},
   "outputs": [
    {
     "data": {
      "text/html": [
       "<div>\n",
       "<style scoped>\n",
       "    .dataframe tbody tr th:only-of-type {\n",
       "        vertical-align: middle;\n",
       "    }\n",
       "\n",
       "    .dataframe tbody tr th {\n",
       "        vertical-align: top;\n",
       "    }\n",
       "\n",
       "    .dataframe thead th {\n",
       "        text-align: right;\n",
       "    }\n",
       "</style>\n",
       "<table border=\"1\" class=\"dataframe\">\n",
       "  <thead>\n",
       "    <tr style=\"text-align: right;\">\n",
       "      <th></th>\n",
       "      <th>male</th>\n",
       "      <th>age</th>\n",
       "      <th>education</th>\n",
       "      <th>currentSmoker</th>\n",
       "      <th>cigsPerDay</th>\n",
       "      <th>BPMeds</th>\n",
       "      <th>prevalentStroke</th>\n",
       "      <th>prevalentHyp</th>\n",
       "      <th>diabetes</th>\n",
       "      <th>totChol</th>\n",
       "      <th>sysBP</th>\n",
       "      <th>diaBP</th>\n",
       "      <th>BMI</th>\n",
       "      <th>heartRate</th>\n",
       "      <th>glucose</th>\n",
       "      <th>TenYearCHD</th>\n",
       "    </tr>\n",
       "  </thead>\n",
       "  <tbody>\n",
       "    <tr>\n",
       "      <th>0</th>\n",
       "      <td>1</td>\n",
       "      <td>39</td>\n",
       "      <td>4.0</td>\n",
       "      <td>0</td>\n",
       "      <td>0.0</td>\n",
       "      <td>0.0</td>\n",
       "      <td>0</td>\n",
       "      <td>0</td>\n",
       "      <td>0</td>\n",
       "      <td>195.0</td>\n",
       "      <td>106.0</td>\n",
       "      <td>70.0</td>\n",
       "      <td>26.97</td>\n",
       "      <td>80.0</td>\n",
       "      <td>77.0</td>\n",
       "      <td>0</td>\n",
       "    </tr>\n",
       "    <tr>\n",
       "      <th>1</th>\n",
       "      <td>0</td>\n",
       "      <td>46</td>\n",
       "      <td>2.0</td>\n",
       "      <td>0</td>\n",
       "      <td>0.0</td>\n",
       "      <td>0.0</td>\n",
       "      <td>0</td>\n",
       "      <td>0</td>\n",
       "      <td>0</td>\n",
       "      <td>250.0</td>\n",
       "      <td>121.0</td>\n",
       "      <td>81.0</td>\n",
       "      <td>28.73</td>\n",
       "      <td>95.0</td>\n",
       "      <td>76.0</td>\n",
       "      <td>0</td>\n",
       "    </tr>\n",
       "    <tr>\n",
       "      <th>2</th>\n",
       "      <td>1</td>\n",
       "      <td>48</td>\n",
       "      <td>1.0</td>\n",
       "      <td>1</td>\n",
       "      <td>20.0</td>\n",
       "      <td>0.0</td>\n",
       "      <td>0</td>\n",
       "      <td>0</td>\n",
       "      <td>0</td>\n",
       "      <td>245.0</td>\n",
       "      <td>127.5</td>\n",
       "      <td>80.0</td>\n",
       "      <td>25.34</td>\n",
       "      <td>75.0</td>\n",
       "      <td>70.0</td>\n",
       "      <td>0</td>\n",
       "    </tr>\n",
       "    <tr>\n",
       "      <th>3</th>\n",
       "      <td>0</td>\n",
       "      <td>61</td>\n",
       "      <td>3.0</td>\n",
       "      <td>1</td>\n",
       "      <td>30.0</td>\n",
       "      <td>0.0</td>\n",
       "      <td>0</td>\n",
       "      <td>1</td>\n",
       "      <td>0</td>\n",
       "      <td>225.0</td>\n",
       "      <td>150.0</td>\n",
       "      <td>95.0</td>\n",
       "      <td>28.58</td>\n",
       "      <td>65.0</td>\n",
       "      <td>103.0</td>\n",
       "      <td>1</td>\n",
       "    </tr>\n",
       "    <tr>\n",
       "      <th>4</th>\n",
       "      <td>0</td>\n",
       "      <td>46</td>\n",
       "      <td>3.0</td>\n",
       "      <td>1</td>\n",
       "      <td>23.0</td>\n",
       "      <td>0.0</td>\n",
       "      <td>0</td>\n",
       "      <td>0</td>\n",
       "      <td>0</td>\n",
       "      <td>285.0</td>\n",
       "      <td>130.0</td>\n",
       "      <td>84.0</td>\n",
       "      <td>23.10</td>\n",
       "      <td>85.0</td>\n",
       "      <td>85.0</td>\n",
       "      <td>0</td>\n",
       "    </tr>\n",
       "  </tbody>\n",
       "</table>\n",
       "</div>"
      ],
      "text/plain": [
       "   male  age  education  currentSmoker  cigsPerDay  BPMeds  prevalentStroke  \\\n",
       "0     1   39        4.0              0         0.0     0.0                0   \n",
       "1     0   46        2.0              0         0.0     0.0                0   \n",
       "2     1   48        1.0              1        20.0     0.0                0   \n",
       "3     0   61        3.0              1        30.0     0.0                0   \n",
       "4     0   46        3.0              1        23.0     0.0                0   \n",
       "\n",
       "   prevalentHyp  diabetes  totChol  sysBP  diaBP    BMI  heartRate  glucose  \\\n",
       "0             0         0    195.0  106.0   70.0  26.97       80.0     77.0   \n",
       "1             0         0    250.0  121.0   81.0  28.73       95.0     76.0   \n",
       "2             0         0    245.0  127.5   80.0  25.34       75.0     70.0   \n",
       "3             1         0    225.0  150.0   95.0  28.58       65.0    103.0   \n",
       "4             0         0    285.0  130.0   84.0  23.10       85.0     85.0   \n",
       "\n",
       "   TenYearCHD  \n",
       "0           0  \n",
       "1           0  \n",
       "2           0  \n",
       "3           1  \n",
       "4           0  "
      ]
     },
     "execution_count": 99,
     "metadata": {},
     "output_type": "execute_result"
    }
   ],
   "source": [
    "df = pd.read_csv('framingham.csv')\n",
    "df.dropna(axis=0,inplace=True)\n",
    "\n",
    "df.head()\n"
   ]
  },
  {
   "cell_type": "code",
   "execution_count": 113,
   "metadata": {},
   "outputs": [
    {
     "name": "stdout",
     "output_type": "stream",
     "text": [
      "      male  age  education  currentSmoker  cigsPerDay  BPMeds  \\\n",
      "0        1   39        4.0              0         0.0     0.0   \n",
      "1        0   46        2.0              0         0.0     0.0   \n",
      "2        1   48        1.0              1        20.0     0.0   \n",
      "3        0   61        3.0              1        30.0     0.0   \n",
      "4        0   46        3.0              1        23.0     0.0   \n",
      "...    ...  ...        ...            ...         ...     ...   \n",
      "4233     1   50        1.0              1         1.0     0.0   \n",
      "4234     1   51        3.0              1        43.0     0.0   \n",
      "4237     0   52        2.0              0         0.0     0.0   \n",
      "4238     1   40        3.0              0         0.0     0.0   \n",
      "4239     0   39        3.0              1        30.0     0.0   \n",
      "\n",
      "      prevalentStroke  prevalentHyp  diabetes  totChol  sysBP  diaBP    BMI  \\\n",
      "0                   0             0         0    195.0  106.0   70.0  26.97   \n",
      "1                   0             0         0    250.0  121.0   81.0  28.73   \n",
      "2                   0             0         0    245.0  127.5   80.0  25.34   \n",
      "3                   0             1         0    225.0  150.0   95.0  28.58   \n",
      "4                   0             0         0    285.0  130.0   84.0  23.10   \n",
      "...               ...           ...       ...      ...    ...    ...    ...   \n",
      "4233                0             1         0    313.0  179.0   92.0  25.97   \n",
      "4234                0             0         0    207.0  126.5   80.0  19.71   \n",
      "4237                0             0         0    269.0  133.5   83.0  21.47   \n",
      "4238                0             1         0    185.0  141.0   98.0  25.60   \n",
      "4239                0             0         0    196.0  133.0   86.0  20.91   \n",
      "\n",
      "      heartRate  glucose  \n",
      "0          80.0     77.0  \n",
      "1          95.0     76.0  \n",
      "2          75.0     70.0  \n",
      "3          65.0    103.0  \n",
      "4          85.0     85.0  \n",
      "...         ...      ...  \n",
      "4233       66.0     86.0  \n",
      "4234       65.0     68.0  \n",
      "4237       80.0    107.0  \n",
      "4238       67.0     72.0  \n",
      "4239       85.0     80.0  \n",
      "\n",
      "[3658 rows x 15 columns]\n"
     ]
    }
   ],
   "source": [
    "# разбиваем таблицу на x y\n",
    "# x параметры\n",
    "\n",
    "dfx = df.drop('TenYearCHD', axis=1)\n",
    "\n",
    "print(dfx)"
   ]
  },
  {
   "cell_type": "code",
   "execution_count": 115,
   "metadata": {},
   "outputs": [
    {
     "name": "stdout",
     "output_type": "stream",
     "text": [
      "      TenYearCHD\n",
      "0              0\n",
      "1              0\n",
      "2              0\n",
      "3              1\n",
      "4              0\n",
      "...          ...\n",
      "4233           1\n",
      "4234           0\n",
      "4237           0\n",
      "4238           0\n",
      "4239           0\n",
      "\n",
      "[3658 rows x 1 columns]\n"
     ]
    }
   ],
   "source": [
    "# y целевая переменная\n",
    "\n",
    "dfy = df[['TenYearCHD']]\n",
    "print(dfy)"
   ]
  },
  {
   "cell_type": "code",
   "execution_count": 116,
   "metadata": {},
   "outputs": [],
   "source": [
    "\n",
    "# разбиваем таблицу на test и train случайным образом 20 на 80\n",
    "\n",
    "x_train, x_test, y_train, y_test = train_test_split(dfx, dfy, test_size=0.2)\n"
   ]
  },
  {
   "cell_type": "code",
   "execution_count": 120,
   "metadata": {},
   "outputs": [],
   "source": [
    "\n",
    "\n",
    "#используем логистическую регрессию. liblinear - задаем максимум функции правдоподобия\n",
    "\n",
    "lm = linear_model.LogisticRegression(solver='liblinear')\n"
   ]
  },
  {
   "cell_type": "code",
   "execution_count": 126,
   "metadata": {},
   "outputs": [],
   "source": [
    "\n",
    "# функция fit обучает регрессию - подирает коэфиценты\n",
    "model = lm.fit(x_train, y_train.values.ravel() )\n",
    "\n"
   ]
  },
  {
   "cell_type": "code",
   "execution_count": 128,
   "metadata": {},
   "outputs": [
    {
     "data": {
      "text/plain": [
       "array([[ 0.45371854,  0.04870648, -0.08286912,  0.06293097,  0.01364982,\n",
       "         0.30689949,  0.35856819,  0.36936626,  0.32520423,  0.00128532,\n",
       "         0.015645  , -0.01282837, -0.01640148, -0.0094143 ,  0.00506466]])"
      ]
     },
     "execution_count": 128,
     "metadata": {},
     "output_type": "execute_result"
    }
   ],
   "source": [
    "# выводим коэциенты\n",
    "model.coef_"
   ]
  },
  {
   "cell_type": "code",
   "execution_count": 127,
   "metadata": {},
   "outputs": [
    {
     "data": {
      "text/plain": [
       "array([-5.26121962])"
      ]
     },
     "execution_count": 127,
     "metadata": {},
     "output_type": "execute_result"
    }
   ],
   "source": [
    "# выводим константу\n",
    "model.intercept_"
   ]
  },
  {
   "cell_type": "code",
   "execution_count": 129,
   "metadata": {},
   "outputs": [
    {
     "data": {
      "text/html": [
       "<div>\n",
       "<style scoped>\n",
       "    .dataframe tbody tr th:only-of-type {\n",
       "        vertical-align: middle;\n",
       "    }\n",
       "\n",
       "    .dataframe tbody tr th {\n",
       "        vertical-align: top;\n",
       "    }\n",
       "\n",
       "    .dataframe thead th {\n",
       "        text-align: right;\n",
       "    }\n",
       "</style>\n",
       "<table border=\"1\" class=\"dataframe\">\n",
       "  <thead>\n",
       "    <tr style=\"text-align: right;\">\n",
       "      <th></th>\n",
       "      <th>male</th>\n",
       "      <th>age</th>\n",
       "      <th>education</th>\n",
       "      <th>currentSmoker</th>\n",
       "      <th>cigsPerDay</th>\n",
       "      <th>BPMeds</th>\n",
       "      <th>prevalentStroke</th>\n",
       "      <th>prevalentHyp</th>\n",
       "      <th>diabetes</th>\n",
       "      <th>totChol</th>\n",
       "      <th>sysBP</th>\n",
       "      <th>diaBP</th>\n",
       "      <th>BMI</th>\n",
       "      <th>heartRate</th>\n",
       "      <th>glucose</th>\n",
       "    </tr>\n",
       "  </thead>\n",
       "  <tbody>\n",
       "    <tr>\n",
       "      <th>3074</th>\n",
       "      <td>0</td>\n",
       "      <td>63</td>\n",
       "      <td>2.0</td>\n",
       "      <td>0</td>\n",
       "      <td>0.0</td>\n",
       "      <td>0.0</td>\n",
       "      <td>0</td>\n",
       "      <td>1</td>\n",
       "      <td>0</td>\n",
       "      <td>184.0</td>\n",
       "      <td>196.0</td>\n",
       "      <td>101.0</td>\n",
       "      <td>28.27</td>\n",
       "      <td>86.0</td>\n",
       "      <td>82.0</td>\n",
       "    </tr>\n",
       "  </tbody>\n",
       "</table>\n",
       "</div>"
      ],
      "text/plain": [
       "      male  age  education  currentSmoker  cigsPerDay  BPMeds  \\\n",
       "3074     0   63        2.0              0         0.0     0.0   \n",
       "\n",
       "      prevalentStroke  prevalentHyp  diabetes  totChol  sysBP  diaBP    BMI  \\\n",
       "3074                0             1         0    184.0  196.0  101.0  28.27   \n",
       "\n",
       "      heartRate  glucose  \n",
       "3074       86.0     82.0  "
      ]
     },
     "execution_count": 129,
     "metadata": {},
     "output_type": "execute_result"
    }
   ],
   "source": [
    "x_test[:1]"
   ]
  },
  {
   "cell_type": "code",
   "execution_count": 131,
   "metadata": {},
   "outputs": [
    {
     "data": {
      "text/plain": [
       "array([[0.69842893, 0.30157107]])"
      ]
     },
     "execution_count": 131,
     "metadata": {},
     "output_type": "execute_result"
    }
   ],
   "source": [
    "lm.predict_proba(x_test[:1])"
   ]
  },
  {
   "cell_type": "code",
   "execution_count": 132,
   "metadata": {},
   "outputs": [
    {
     "data": {
      "text/plain": [
       "array([0], dtype=int64)"
      ]
     },
     "execution_count": 132,
     "metadata": {},
     "output_type": "execute_result"
    }
   ],
   "source": [
    "lm.predict(x_test[:1])"
   ]
  },
  {
   "cell_type": "code",
   "execution_count": 135,
   "metadata": {},
   "outputs": [
    {
     "data": {
      "text/plain": [
       "array([0, 0, 0, 0, 0, 0, 0, 0, 0, 0, 0, 0, 0, 0, 0, 0, 0, 0, 0, 0, 0, 0,\n",
       "       0, 0, 0, 0, 0, 0, 0, 0, 0, 0, 0, 0, 0, 0, 0, 0, 0, 0, 0, 0, 0, 0,\n",
       "       0, 0, 0, 0, 0, 0, 0, 0, 0, 0, 0, 0, 0, 0, 0, 0, 0, 0, 0, 0, 0, 0,\n",
       "       0, 0, 0, 0, 0, 0, 0, 0, 0, 0, 0, 0, 0, 0, 0, 0, 0, 0, 0, 0, 0, 0,\n",
       "       0, 0, 0, 0, 0, 0, 0, 0, 0, 0, 0, 0, 0, 0, 0, 0, 0, 0, 0, 0, 0, 0,\n",
       "       0, 0, 0, 0, 0, 0, 0, 0, 0, 0, 0, 0, 0, 0, 0, 0, 0, 0, 0, 0, 0, 0,\n",
       "       0, 0, 0, 0, 0, 0, 0, 0, 0, 0, 0, 0, 0, 0, 0, 0, 0, 0, 0, 0, 0, 0,\n",
       "       0, 0, 0, 0, 0, 0, 0, 0, 0, 1, 0, 0, 0, 0, 1, 0, 0, 0, 0, 1, 0, 0,\n",
       "       0, 0, 0, 0, 0, 0, 0, 0, 0, 0, 0, 0, 0, 0, 0, 0, 0, 0, 0, 0, 0, 0,\n",
       "       0, 0, 0, 0, 0, 0, 0, 0, 0, 0, 0, 0, 0, 0, 0, 0, 0, 0, 0, 0, 0, 0,\n",
       "       0, 0, 0, 0, 0, 0, 0, 0, 0, 0, 0, 0, 0, 0, 0, 0, 0, 0, 0, 0, 0, 0,\n",
       "       0, 0, 0, 0, 0, 0, 0, 0, 0, 0, 0, 0, 0, 0, 1, 0, 0, 0, 0, 0, 0, 0,\n",
       "       0, 0, 0, 0, 0, 0, 0, 0, 0, 0, 0, 0, 0, 0, 0, 0, 0, 0, 0, 0, 0, 0,\n",
       "       0, 0, 0, 0, 0, 0, 0, 0, 0, 0, 0, 0, 0, 0, 0, 0, 0, 0, 0, 0, 0, 0,\n",
       "       0, 0, 0, 0, 0, 0, 0, 0, 0, 0, 0, 0, 0, 0, 0, 0, 0, 0, 0, 0, 0, 0,\n",
       "       0, 0, 0, 0, 0, 0, 0, 0, 0, 0, 0, 0, 0, 0, 0, 0, 0, 0, 0, 0, 0, 0,\n",
       "       0, 0, 0, 0, 0, 0, 0, 0, 0, 0, 0, 0, 0, 0, 0, 0, 0, 0, 0, 0, 0, 0,\n",
       "       0, 0, 0, 0, 0, 0, 0, 0, 0, 0, 0, 0, 0, 0, 0, 0, 0, 0, 0, 0, 0, 1,\n",
       "       0, 0, 0, 0, 0, 0, 0, 0, 0, 0, 0, 0, 0, 0, 0, 0, 0, 0, 0, 0, 0, 0,\n",
       "       0, 0, 0, 0, 0, 0, 0, 0, 0, 0, 0, 0, 0, 0, 0, 0, 0, 0, 0, 0, 0, 0,\n",
       "       0, 0, 0, 0, 0, 0, 0, 0, 0, 0, 0, 0, 0, 0, 0, 0, 0, 0, 0, 0, 0, 0,\n",
       "       0, 0, 0, 0, 0, 0, 0, 0, 0, 0, 0, 0, 0, 0, 0, 0, 0, 0, 0, 0, 0, 0,\n",
       "       0, 0, 0, 0, 0, 0, 0, 0, 0, 0, 0, 0, 0, 0, 0, 0, 0, 0, 0, 0, 0, 0,\n",
       "       0, 0, 0, 0, 0, 0, 0, 0, 0, 0, 0, 0, 1, 0, 0, 0, 0, 0, 0, 0, 0, 0,\n",
       "       0, 0, 0, 0, 0, 0, 0, 0, 0, 0, 0, 0, 0, 0, 0, 0, 0, 0, 0, 0, 0, 0,\n",
       "       0, 0, 0, 0, 0, 0, 0, 0, 0, 0, 0, 0, 0, 0, 0, 0, 0, 0, 0, 0, 0, 0,\n",
       "       0, 0, 0, 0, 0, 0, 0, 0, 0, 0, 0, 0, 1, 0, 0, 0, 0, 0, 0, 0, 0, 0,\n",
       "       0, 0, 0, 0, 0, 0, 0, 0, 0, 0, 0, 0, 0, 0, 0, 0, 0, 0, 0, 0, 0, 0,\n",
       "       0, 0, 0, 0, 0, 0, 0, 0, 0, 0, 0, 0, 0, 0, 0, 0, 0, 0, 0, 0, 0, 0,\n",
       "       0, 0, 0, 0, 0, 0, 0, 0, 0, 0, 0, 0, 0, 0, 0, 0, 0, 0, 0, 0, 0, 0,\n",
       "       0, 0, 0, 0, 0, 0, 0, 0, 0, 0, 0, 0, 0, 0, 0, 0, 0, 0, 0, 0, 0, 0,\n",
       "       0, 0, 0, 0, 0, 0, 0, 0, 0, 0, 0, 0, 0, 1, 0, 0, 0, 0, 0, 0, 0, 0,\n",
       "       0, 0, 0, 0, 0, 0, 0, 0, 0, 0, 0, 0, 0, 0, 0, 0, 0, 0, 0, 0, 0, 0,\n",
       "       0, 0, 0, 0, 0, 0], dtype=int64)"
      ]
     },
     "execution_count": 135,
     "metadata": {},
     "output_type": "execute_result"
    }
   ],
   "source": [
    "y_pred = lm.predict(x_test)\n",
    "y_pred\n"
   ]
  },
  {
   "cell_type": "code",
   "execution_count": 138,
   "metadata": {},
   "outputs": [
    {
     "data": {
      "text/plain": [
       "8"
      ]
     },
     "execution_count": 138,
     "metadata": {},
     "output_type": "execute_result"
    }
   ],
   "source": [
    "y_pred.sum()"
   ]
  },
  {
   "cell_type": "code",
   "execution_count": 142,
   "metadata": {},
   "outputs": [
    {
     "data": {
      "text/plain": [
       "0.842896174863388"
      ]
     },
     "execution_count": 142,
     "metadata": {},
     "output_type": "execute_result"
    }
   ],
   "source": [
    "# смотрим accuracy модели\n",
    "\n",
    "\n",
    "lm.score(x_test, y_test)"
   ]
  },
  {
   "cell_type": "code",
   "execution_count": 145,
   "metadata": {},
   "outputs": [
    {
     "data": {
      "text/plain": [
       "array([[610,   1],\n",
       "       [114,   7]], dtype=int64)"
      ]
     },
     "execution_count": 145,
     "metadata": {},
     "output_type": "execute_result"
    }
   ],
   "source": [
    "#  смотрим confusion matrix - таблица правильных и неправильных предскозаний\n",
    "\n",
    "cnf_matrix = metrics.confusion_matrix(y_test, y_pred)\n",
    "cnf_matrix\n",
    "\n"
   ]
  },
  {
   "cell_type": "code",
   "execution_count": 147,
   "metadata": {},
   "outputs": [
    {
     "data": {
      "text/plain": [
       "TenYearCHD\n",
       "0    611\n",
       "1    121\n",
       "Name: count, dtype: int64"
      ]
     },
     "execution_count": 147,
     "metadata": {},
     "output_type": "execute_result"
    }
   ],
   "source": [
    "\n",
    "y_test['TenYearCHD'].value_counts()\n"
   ]
  },
  {
   "cell_type": "code",
   "execution_count": 148,
   "metadata": {},
   "outputs": [
    {
     "data": {
      "text/plain": [
       "<Axes: >"
      ]
     },
     "execution_count": 148,
     "metadata": {},
     "output_type": "execute_result"
    },
    {
     "data": {
      "image/png": "[encoded data removed]",
      "text/plain": [
       "<Figure size 640x480 with 2 Axes>"
      ]
     },
     "metadata": {},
     "output_type": "display_data"
    }
   ],
   "source": [
    "\n",
    "sn.heatmap(cnf_matrix, annot=True)\n",
    "\n"
   ]
  },
  {
   "cell_type": "code",
   "execution_count": 149,
   "metadata": {},
   "outputs": [],
   "source": [
    "\n",
    "list_cole = ['male']\n",
    "\n",
    "dfx1 = df[list_cole]\n",
    "dfy1 = df[['TenYearCHD']]\n",
    "\n",
    "x_train1, x_test1, y_train1, y_test1 = train_test_split(dfx1, dfy1, test_size=0.2)\n",
    "lm1 = linear_model.LogisticRegression(solver='liblinear')\n",
    "model1 = lm.fit(x_train1, y_train1.values.ravel() )\n",
    "\n",
    "\n",
    "\n",
    "\n",
    "\n",
    "\n",
    "\n"
   ]
  },
  {
   "cell_type": "code",
   "execution_count": 151,
   "metadata": {},
   "outputs": [
    {
     "data": {
      "text/plain": [
       "array([[0.54794725]])"
      ]
     },
     "execution_count": 151,
     "metadata": {},
     "output_type": "execute_result"
    }
   ],
   "source": [
    "model1.coef_"
   ]
  },
  {
   "cell_type": "code",
   "execution_count": 152,
   "metadata": {},
   "outputs": [
    {
     "data": {
      "text/plain": [
       "array([-1.99116146])"
      ]
     },
     "execution_count": 152,
     "metadata": {},
     "output_type": "execute_result"
    }
   ],
   "source": [
    "model1.intercept_"
   ]
  },
  {
   "cell_type": "code",
   "execution_count": 153,
   "metadata": {},
   "outputs": [
    {
     "data": {
      "text/plain": [
       "0.8415300546448088"
      ]
     },
     "execution_count": 153,
     "metadata": {},
     "output_type": "execute_result"
    }
   ],
   "source": [
    "y_pred1 = lm.predict(x_test1)\n",
    "\n",
    "lm.score(x_test1, y_test1)\n"
   ]
  },
  {
   "cell_type": "code",
   "execution_count": 154,
   "metadata": {},
   "outputs": [
    {
     "data": {
      "text/plain": [
       "array([[616,   0],\n",
       "       [116,   0]], dtype=int64)"
      ]
     },
     "execution_count": 154,
     "metadata": {},
     "output_type": "execute_result"
    }
   ],
   "source": [
    "cnf_matrix1 = metrics.confusion_matrix(y_test1, y_pred1)\n",
    "cnf_matrix1"
   ]
  },
  {
   "cell_type": "code",
   "execution_count": 155,
   "metadata": {},
   "outputs": [
    {
     "data": {
      "text/plain": [
       "<Axes: >"
      ]
     },
     "execution_count": 155,
     "metadata": {},
     "output_type": "execute_result"
    },
    {
     "data": {
      "image/png": "[encoded data removed]",
      "text/plain": [
       "<Figure size 640x480 with 2 Axes>"
      ]
     },
     "metadata": {},
     "output_type": "display_data"
    }
   ],
   "source": [
    "sn.heatmap(cnf_matrix1, annot=True)"
   ]
  },
  {
   "cell_type": "code",
   "execution_count": 187,
   "metadata": {},
   "outputs": [
    {
     "name": "stdout",
     "output_type": "stream",
     "text": [
      "[-4.86358689] [[0.06177387]] [[2135    0]\n",
      " [ 381    0]]\n"
     ]
    }
   ],
   "source": [
    "# Задание 6.8.1.1\n",
    "\n",
    "# Fram_test Fram_train\n",
    "\n",
    "df_test = pd.read_csv('Fram_test.csv')\n",
    "df_train= pd.read_csv('Fram_train.csv')\n",
    "\n",
    "df_test.dropna(axis=0,inplace=True)\n",
    "df_train.dropna(axis=0,inplace=True)\n",
    "\n",
    "\n",
    "df_testx = df_test[['age']]\n",
    "df_testy = df_test[['TenYearCHD']]\n",
    "\n",
    "df_trainx = df_train[['age']]\n",
    "df_trainy = df_train[['TenYearCHD']]\n",
    "\n",
    "lm = linear_model.LogisticRegression(solver='liblinear')\n",
    "model3 = lm.fit(df_trainx, df_trainy.values.ravel() )\n",
    "\n",
    "y_pred = lm.predict(df_trainx)\n",
    "\n",
    "cnf_matrix1 = metrics.confusion_matrix(df_trainy, y_pred)\n",
    "\n",
    "\n",
    "# Найдите коэффициенты модели\n",
    "print(model3.intercept_, model3.coef_)\n",
    "\n"
   ]
  },
  {
   "cell_type": "code",
   "execution_count": 188,
   "metadata": {},
   "outputs": [
    {
     "data": {
      "text/plain": [
       "array([0], dtype=int64)"
      ]
     },
     "execution_count": 188,
     "metadata": {},
     "output_type": "execute_result"
    }
   ],
   "source": [
    "# К какому классу отнесёт модель первого пациента из тестовой выборки?\n",
    "lm.predict(df_trainx[:1])"
   ]
  },
  {
   "cell_type": "code",
   "execution_count": 189,
   "metadata": {},
   "outputs": [
    {
     "data": {
      "text/plain": [
       "0.8485691573926868"
      ]
     },
     "execution_count": 189,
     "metadata": {},
     "output_type": "execute_result"
    }
   ],
   "source": [
    "# Какую долю пациентов модель классифицирует правильно?\n",
    "lm.score(df_trainx, df_trainy)"
   ]
  },
  {
   "cell_type": "code",
   "execution_count": 197,
   "metadata": {},
   "outputs": [
    {
     "name": "stdout",
     "output_type": "stream",
     "text": [
      "[-5.36153602] [[ 1.84972853e-02  7.73588295e-01  1.58491779e-03  1.90469245e-02\n",
      "  -3.12343970e-04  5.98498929e-03]] 25 0.8513513513513513\n"
     ]
    },
    {
     "data": {
      "text/plain": [
       "array([[2126,    9],\n",
       "       [ 365,   16]], dtype=int64)"
      ]
     },
     "execution_count": 197,
     "metadata": {},
     "output_type": "execute_result"
    }
   ],
   "source": [
    "df_test = pd.read_csv('Fram_test.csv')\n",
    "df_train= pd.read_csv('Fram_train.csv')\n",
    "\n",
    "df_test.dropna(axis=0,inplace=True)\n",
    "df_train.dropna(axis=0,inplace=True)\n",
    "\n",
    "\n",
    "df_testx = df_test[['cigsPerDay', 'diabetes', 'totChol', 'sysBP', 'BMI', 'glucose']]\n",
    "df_testy = df_test[['TenYearCHD']]\n",
    "\n",
    "df_trainx = df_train[['cigsPerDay', 'diabetes', 'totChol', 'sysBP', 'BMI', 'glucose']]\n",
    "df_trainy = df_train[['TenYearCHD']]\n",
    "\n",
    "lm = linear_model.LogisticRegression(solver='liblinear')\n",
    "model3 = lm.fit(df_trainx, df_trainy.values.ravel() )\n",
    "\n",
    "y_pred = lm.predict(df_trainx)\n",
    "\n",
    "cnf_matrix1 = metrics.confusion_matrix(df_trainy, y_pred)\n",
    "\n",
    "\n",
    "# Найдите коэффициенты модели\n",
    "print(model3.intercept_, model3.coef_, y_pred.sum(), lm.score(df_trainx, df_trainy))\n",
    "\n",
    "\n",
    "cnf_matrix1"
   ]
  },
  {
   "cell_type": "code",
   "execution_count": null,
   "metadata": {},
   "outputs": [],
   "source": []
  }
 ],
 "metadata": {
  "kernelspec": {
   "display_name": "Python 3",
   "language": "python",
   "name": "python3"
  },
  "language_info": {
   "codemirror_mode": {
    "name": "ipython",
    "version": 3
   },
   "file_extension": ".py",
   "mimetype": "text/x-python",
   "name": "python",
   "nbconvert_exporter": "python",
   "pygments_lexer": "ipython3",
   "version": "3.11.9"
  }
 },
 "nbformat": 4,
 "nbformat_minor": 2
}
