{
 "cells": [
  {
   "metadata": {},
   "cell_type": "markdown",
   "source": [
    "В этом модуле мы рассмотрим следующие темы:\n",
    "\n",
    "* Задача анализа временных рядов.\n",
    "* Визуализация временных рядов.\n",
    "* Способы визуализации в python.\n",
    "* Предобработка данных.\n",
    "* Интерполяция.\n",
    "* Увеличение/уменьшение разрешения (upsampling/downsampling).\n",
    "* Оконные функции.\n",
    "* Сглаживание.\n",
    "* Цифровые фильтры и способы разложения сигнала\n",
    "* Фильтры низких частот.\n",
    "* Высокочастотные и полосные фильтры.\n",
    "* Выделение признаков. TSFresh.\n",
    "* Выделение признаков NNMF.\n",
    "* Особенности применения машинного обучения к временным рядам."
   ],
   "id": "fefe47dbb9d7b89f"
  }
 ],
 "metadata": {
  "kernelspec": {
   "display_name": "Python 3",
   "language": "python",
   "name": "python3"
  },
  "language_info": {
   "codemirror_mode": {
    "name": "ipython",
    "version": 2
   },
   "file_extension": ".py",
   "mimetype": "text/x-python",
   "name": "python",
   "nbconvert_exporter": "python",
   "pygments_lexer": "ipython2",
   "version": "2.7.6"
  }
 },
 "nbformat": 4,
 "nbformat_minor": 5
}
