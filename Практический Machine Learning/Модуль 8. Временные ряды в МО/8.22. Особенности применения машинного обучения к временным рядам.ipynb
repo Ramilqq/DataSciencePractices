{
 "cells": [
  {
   "metadata": {},
   "cell_type": "markdown",
   "source": [
    "Модели машинного обучения для временных рядов\n",
    "\n",
    "Выделяем из рядов признаки и работаем с ними ⇒ можем использовать все стандартные алгоритмы машинного обучения.\n",
    "\n",
    "Работаем напрямую с данными временного ряда — используем рекуррентные нейросети."
   ],
   "id": "737592b498b85721"
  }
 ],
 "metadata": {
  "kernelspec": {
   "display_name": "Python 3",
   "language": "python",
   "name": "python3"
  },
  "language_info": {
   "codemirror_mode": {
    "name": "ipython",
    "version": 2
   },
   "file_extension": ".py",
   "mimetype": "text/x-python",
   "name": "python",
   "nbconvert_exporter": "python",
   "pygments_lexer": "ipython2",
   "version": "2.7.6"
  }
 },
 "nbformat": 4,
 "nbformat_minor": 5
}
