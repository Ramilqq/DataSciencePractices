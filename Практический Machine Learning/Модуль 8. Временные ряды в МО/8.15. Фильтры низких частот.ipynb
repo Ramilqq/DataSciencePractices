{
 "cells": [
  {
   "metadata": {},
   "cell_type": "markdown",
   "source": "Одна из наиболее частых задач при фильтрации — убрать высокочастотные шумы из сигнала.  Мы делали это при помощи скользящих средних. То есть простое, экспоненциальное скользящее среднее — это ни что иное, как фильтры низких частот. \n",
   "id": "d65cb625fe8f4d00"
  }
 ],
 "metadata": {
  "kernelspec": {
   "display_name": "Python 3",
   "language": "python",
   "name": "python3"
  },
  "language_info": {
   "codemirror_mode": {
    "name": "ipython",
    "version": 2
   },
   "file_extension": ".py",
   "mimetype": "text/x-python",
   "name": "python",
   "nbconvert_exporter": "python",
   "pygments_lexer": "ipython2",
   "version": "2.7.6"
  }
 },
 "nbformat": 4,
 "nbformat_minor": 5
}
