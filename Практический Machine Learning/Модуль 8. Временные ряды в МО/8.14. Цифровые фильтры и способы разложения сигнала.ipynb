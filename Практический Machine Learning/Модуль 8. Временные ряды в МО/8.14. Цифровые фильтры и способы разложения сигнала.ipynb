{
 "cells": [
  {
   "metadata": {},
   "cell_type": "markdown",
   "source": "Оконные функции используются для выделения/подавления определённых частот сигнала. Чтобы выделить конкретную частоту из сигнала, нужно сначала знать, какие частоты присутствуют в сигнале. Получить частоты сигнала позволяет преобразование Фурье.",
   "id": "bc3a79ca69750e67"
  },
  {
   "metadata": {},
   "cell_type": "markdown",
   "source": [
    "Вейвлет-преобразование\n",
    "\n",
    "Преобразование Фурье не единственный способ разложить сигнал. Наиболее часто используемое преобразование после Фурье — это Вейвлет-преобразование."
   ],
   "id": "dc9b69e1bf71d491"
  }
 ],
 "metadata": {
  "kernelspec": {
   "display_name": "Python 3",
   "language": "python",
   "name": "python3"
  },
  "language_info": {
   "codemirror_mode": {
    "name": "ipython",
    "version": 2
   },
   "file_extension": ".py",
   "mimetype": "text/x-python",
   "name": "python",
   "nbconvert_exporter": "python",
   "pygments_lexer": "ipython2",
   "version": "2.7.6"
  }
 },
 "nbformat": 4,
 "nbformat_minor": 5
}
