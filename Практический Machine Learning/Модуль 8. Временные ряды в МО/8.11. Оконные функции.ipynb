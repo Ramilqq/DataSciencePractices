{
 "cells": [
  {
   "metadata": {},
   "cell_type": "markdown",
   "source": [
    "Оконная функция — это любая функция, вычисленная не на всех данных, а на некотором отрезке («окне»).\n",
    "\n",
    "Если временной ряд изменяется во времени, то часто не имеет смысла говорить о его, например, среднем значении в целом, но имеет смысл рассматривать его среднее значение на конкретном промежутке времени.\n",
    "\n",
    "На каждом окне вычисляется одна точка — среднее значение этого окна. После этого окно сдвигается на одну точку вправо и процедура повторяется."
   ],
   "id": "92b42db220099de6"
  },
  {
   "metadata": {},
   "cell_type": "markdown",
   "source": [
    "### Оконные функции в pandas\n",
    "\n",
    "В Pandas оконные функции реализованы методом rolling()."
   ],
   "id": "f90df9cb6cccab2b"
  },
  {
   "metadata": {},
   "cell_type": "code",
   "outputs": [],
   "execution_count": null,
   "source": "",
   "id": "96384b1a19f441f3"
  }
 ],
 "metadata": {
  "kernelspec": {
   "display_name": "Python 3",
   "language": "python",
   "name": "python3"
  },
  "language_info": {
   "codemirror_mode": {
    "name": "ipython",
    "version": 2
   },
   "file_extension": ".py",
   "mimetype": "text/x-python",
   "name": "python",
   "nbconvert_exporter": "python",
   "pygments_lexer": "ipython2",
   "version": "2.7.6"
  }
 },
 "nbformat": 4,
 "nbformat_minor": 5
}
