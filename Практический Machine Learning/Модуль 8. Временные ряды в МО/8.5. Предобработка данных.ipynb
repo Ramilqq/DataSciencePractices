{
 "cells": [
  {
   "metadata": {},
   "cell_type": "markdown",
   "source": [
    "В большинстве случаев до анализа временных рядов их нужно сначала выполнить предобработку данных, то есть:\n",
    "1. Избавиться от пропущенных значений (интерполяция)\n",
    "2. Привести к фиксированной временной сетке (интерполяция, up-/downsampling)\n",
    "3. Изменить временное разрешение (up-/downsampling)\n",
    "4. Проверка качества данных включает:\n",
    "\n",
    "Размер DataFrame\n",
    "1. Количество интересующих нас уникальных элементов\n",
    "2. Количество пропущенных / отсутствующих данных\n",
    "3. Основные статистические характеристики данных\n",
    "4. Быстрая визуализация того, что можно визуализировать"
   ],
   "id": "d838177256b176b7"
  }
 ],
 "metadata": {
  "kernelspec": {
   "display_name": "Python 3",
   "language": "python",
   "name": "python3"
  },
  "language_info": {
   "codemirror_mode": {
    "name": "ipython",
    "version": 2
   },
   "file_extension": ".py",
   "mimetype": "text/x-python",
   "name": "python",
   "nbconvert_exporter": "python",
   "pygments_lexer": "ipython2",
   "version": "2.7.6"
  }
 },
 "nbformat": 4,
 "nbformat_minor": 5
}
