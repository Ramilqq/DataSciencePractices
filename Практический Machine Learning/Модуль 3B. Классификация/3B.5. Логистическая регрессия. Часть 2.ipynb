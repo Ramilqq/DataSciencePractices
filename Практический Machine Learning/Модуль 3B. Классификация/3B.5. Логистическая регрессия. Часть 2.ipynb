{
 "cells": [
  {
   "cell_type": "code",
   "id": "initial_id",
   "metadata": {
    "collapsed": true,
    "ExecuteTime": {
     "end_time": "2025-02-03T11:01:57.831308Z",
     "start_time": "2025-02-03T11:01:57.809635Z"
    }
   },
   "source": [
    "from sklearn.metrics import log_loss\n",
    "\n",
    "a = ['0.2','\t0.8',\t'1',\t'0.6']\n",
    "b = ['0',\t'0',\t'1',\t'1']\n",
    "\n",
    "print(log_loss(b,a))\n"
   ],
   "outputs": [
    {
     "name": "stdout",
     "output_type": "stream",
     "text": [
      "0.5858517718785755\n"
     ]
    },
    {
     "name": "stderr",
     "output_type": "stream",
     "text": [
      "C:\\PythonProject\\skillfactory мат анализ\\.venv1\\lib\\site-packages\\sklearn\\metrics\\_classification.py:2340: FutureWarning: Arrays of bytes/strings is being converted to decimal numbers if dtype='numeric'. This behavior is deprecated in 0.24 and will be removed in 1.1 (renaming of 0.26). Please convert your data to numeric values explicitly instead.\n",
      "  y_pred = check_array(y_pred, ensure_2d=False)\n"
     ]
    }
   ],
   "execution_count": 11
  }
 ],
 "metadata": {
  "kernelspec": {
   "display_name": "Python 3",
   "language": "python",
   "name": "python3"
  },
  "language_info": {
   "codemirror_mode": {
    "name": "ipython",
    "version": 2
   },
   "file_extension": ".py",
   "mimetype": "text/x-python",
   "name": "python",
   "nbconvert_exporter": "python",
   "pygments_lexer": "ipython2",
   "version": "2.7.6"
  }
 },
 "nbformat": 4,
 "nbformat_minor": 5
}
