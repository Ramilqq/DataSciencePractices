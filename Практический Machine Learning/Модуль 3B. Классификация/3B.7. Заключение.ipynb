{
 "cells": [
  {
   "metadata": {},
   "cell_type": "markdown",
   "source": "# Примеры алгоритмов классификации",
   "id": "b527efea2c7e2b3f"
  },
  {
   "metadata": {},
   "cell_type": "markdown",
   "source": "<img src=\"data/ml-mod-3b-8.png\">",
   "id": "6f6a7ae8729ac708"
  }
 ],
 "metadata": {
  "kernelspec": {
   "display_name": "Python 3",
   "language": "python",
   "name": "python3"
  },
  "language_info": {
   "codemirror_mode": {
    "name": "ipython",
    "version": 2
   },
   "file_extension": ".py",
   "mimetype": "text/x-python",
   "name": "python",
   "nbconvert_exporter": "python",
   "pygments_lexer": "ipython2",
   "version": "2.7.6"
  }
 },
 "nbformat": 4,
 "nbformat_minor": 5
}
