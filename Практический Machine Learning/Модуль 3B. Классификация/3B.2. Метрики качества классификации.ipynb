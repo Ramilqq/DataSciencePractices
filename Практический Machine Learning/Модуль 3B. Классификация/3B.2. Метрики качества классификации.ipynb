{
 "cells": [
  {
   "metadata": {},
   "cell_type": "markdown",
   "source": [
    "<img src=\"https://lms-cdn.skillfactory.ru/assets/courseware/v1/3fdb7e8b53d26ad83c426dd83ee85676/asset-v1:SkillFactory+MATML+ALWAYS+type@asset+block/myprobbb.jpg\">\n",
    "\n",
    "Тогда метрика Accuracy вычисляется следующим образом:\n",
    "\n",
    "Accuracy = TN+TP / TP+TN+FP+FN\n",
    "\n",
    "Самая простая и понятная метрика — Accuracy. По сути, это просто доля объектов, которые алгоритм отнес к верному классу.\n"
   ],
   "id": "26eb7af466a42210"
  },
  {
   "metadata": {},
   "cell_type": "markdown",
   "source": [
    "Точность и полнота\n",
    "Следующие важные метрики — Precision (точность) и Recall (полнота). Они вычисляются следующим образом:\n",
    "\n",
    "\n",
    "Precision = {TP} / {TP+FP}\n",
    "\n",
    "Recall = {TP} / {TP+FN}\n",
    "\n",
    "Точность классификации — это доля объектов, действительно принадлежащих данному классу относительно всех объектов, которые алгоритм отнес к этому классу.\n",
    "\n",
    "Полнота — это доля найденных классификатором объектов, принадлежащих классу относительно всех объектов, которые принадлежат этому классу.\n"
   ],
   "id": "432ea16b2aac70ca"
  },
  {
   "metadata": {},
   "cell_type": "markdown",
   "source": [
    "F-мера\n",
    "Чтобы найти оптимальное соотношение этих показателей, существует метрика, которая объединяет в себе сразу и точность, и полноту — F мера.\n",
    "\n",
    "F-мера является средним гармоническим между точностью и полнотой и вычисляется по следующей формуле:\n",
    "\n",
    "F-мера= {2 * Precision * Recall }/{Precision + Recall}"
   ],
   "id": "1d3c83c67b717e06"
  },
  {
   "cell_type": "code",
   "id": "initial_id",
   "metadata": {
    "collapsed": true,
    "ExecuteTime": {
     "end_time": "2025-02-03T08:07:10.471837Z",
     "start_time": "2025-02-03T08:07:10.464158Z"
    }
   },
   "source": [
    "#Теперь попробуем реализовать классификацию и вычислить разобранные метрики.\n",
    "#Для начала подгружаем библиотеки:\n",
    "\n",
    "from sklearn.model_selection import train_test_split # функция, чтобы разбить данные на трейн и тест\n",
    "from sklearn.linear_model import LogisticRegression # наша модель для классификации"
   ],
   "outputs": [],
   "execution_count": 3
  },
  {
   "metadata": {
    "ExecuteTime": {
     "end_time": "2025-02-03T08:07:38.460290Z",
     "start_time": "2025-02-03T08:07:38.281138Z"
    }
   },
   "cell_type": "code",
   "source": [
    "#Воспользуемся встроенным датасетом, который содержит информацию об опухолях груди:\n",
    "\n",
    "from sklearn.datasets import load_breast_cancer # подгружаем датасет\n",
    "breast_cancer = load_breast_cancer()\n"
   ],
   "id": "1ac6b44f3c9fc9e5",
   "outputs": [],
   "execution_count": 4
  },
  {
   "metadata": {
    "ExecuteTime": {
     "end_time": "2025-02-03T08:07:57.594283Z",
     "start_time": "2025-02-03T08:07:57.560815Z"
    }
   },
   "cell_type": "code",
   "source": [
    "#Теперь зададим зависимую и независимые переменные:\n",
    "\n",
    "Y = breast_cancer.target ## Наша целевая переменная, 0 — если рака нет, 1 — если есть\n",
    "X = breast_cancer.data # X - признаки, по которым мы будем предсказывать рак\n"
   ],
   "id": "d8540622d77bff3c",
   "outputs": [],
   "execution_count": 5
  },
  {
   "metadata": {
    "ExecuteTime": {
     "end_time": "2025-02-03T08:09:10.892539Z",
     "start_time": "2025-02-03T08:09:10.791022Z"
    }
   },
   "cell_type": "code",
   "source": [
    "# Разбиваем выборку на обучающую и тестовую и обучаем нашу модель:\n",
    "\n",
    "X_train, X_val, Y_train, Y_val = train_test_split(X, Y, test_size = 0.3)\n",
    "model = LogisticRegression()\n",
    "model.fit(X_train, Y_train)\n"
   ],
   "id": "dcfd31c61a809f6",
   "outputs": [
    {
     "name": "stderr",
     "output_type": "stream",
     "text": [
      "C:\\PythonProject\\skillfactory мат анализ\\.venv1\\lib\\site-packages\\sklearn\\linear_model\\_logistic.py:814: ConvergenceWarning: lbfgs failed to converge (status=1):\n",
      "STOP: TOTAL NO. of ITERATIONS REACHED LIMIT.\n",
      "\n",
      "Increase the number of iterations (max_iter) or scale the data as shown in:\n",
      "    https://scikit-learn.org/stable/modules/preprocessing.html\n",
      "Please also refer to the documentation for alternative solver options:\n",
      "    https://scikit-learn.org/stable/modules/linear_model.html#logistic-regression\n",
      "  n_iter_i = _check_optimize_result(\n"
     ]
    },
    {
     "data": {
      "text/plain": [
       "LogisticRegression()"
      ]
     },
     "execution_count": 9,
     "metadata": {},
     "output_type": "execute_result"
    }
   ],
   "execution_count": 9
  },
  {
   "metadata": {
    "ExecuteTime": {
     "end_time": "2025-02-03T08:09:54.890771Z",
     "start_time": "2025-02-03T08:09:54.855914Z"
    }
   },
   "cell_type": "code",
   "source": [
    "# Готово! Теперь осталось только вычислить необходимые метрики:\n",
    "\n",
    "from sklearn.metrics import accuracy_score, precision_score, recall_score, f1_score\n",
    "\n",
    "Y_predicted = model.predict(X_val)\n",
    "print(accuracy_score(Y_val,Y_predicted))\n",
    "print(precision_score(Y_val,Y_predicted))\n",
    "print(recall_score(Y_val,Y_predicted))\n",
    "print(f1_score(Y_val,Y_predicted))"
   ],
   "id": "7765c83637fd66f2",
   "outputs": [
    {
     "name": "stdout",
     "output_type": "stream",
     "text": [
      "0.9122807017543859\n",
      "0.954954954954955\n",
      "0.9137931034482759\n",
      "0.9339207048458151\n"
     ]
    }
   ],
   "execution_count": 10
  },
  {
   "metadata": {},
   "cell_type": "markdown",
   "source": [
    "# Задание 3B.2.1\n",
    "\n",
    "Вы создали классификатор, который разделяет экономические и политические новости на два разных Telegram-канала, и хотите проверить его качество. За день вышло 15 политических новостей и 20 экономических.\n",
    "Ваш алгоритм из 15 политических новостей отметил 9 как экономические, а из 20 экономических — 6 как политические.\n",
    "Найдите метрику accuracy.\n",
    "Ответ округлите до сотых. Пример ввода:"
   ],
   "id": "b16c20609ae97023"
  },
  {
   "metadata": {
    "ExecuteTime": {
     "end_time": "2025-02-03T08:37:33.187519Z",
     "start_time": "2025-02-03T08:37:33.163483Z"
    }
   },
   "cell_type": "code",
   "source": [
    "resault = (6 + 14) / (15 + 20)\n",
    "\n",
    "print(f'{resault:.2f}')\n"
   ],
   "id": "913ea291c71bd4c5",
   "outputs": [
    {
     "name": "stdout",
     "output_type": "stream",
     "text": [
      "0.57\n"
     ]
    }
   ],
   "execution_count": 17
  },
  {
   "metadata": {},
   "cell_type": "markdown",
   "source": [
    "# Задание 3B2.2\n",
    "\n",
    "Загрузите встроенный в библиотеку sklearn датасет про ирисы с помощью функции load_iris. Обучите модель логистической регрессии (random_state=50, размер тестовой выборки 0.3) и укажите полученное значение метрики accuracy.\n",
    "Ответ округлите до сотых. Пример ввода:"
   ],
   "id": "5f314c69fff10f95"
  },
  {
   "metadata": {
    "ExecuteTime": {
     "end_time": "2025-02-03T09:40:15.364439Z",
     "start_time": "2025-02-03T09:40:15.293116Z"
    }
   },
   "cell_type": "code",
   "source": [
    "from sklearn.datasets import load_iris\n",
    "from sklearn.model_selection import train_test_split\n",
    "from sklearn.linear_model import LogisticRegression\n",
    "\n",
    "load_iris = load_iris()\n",
    "x = load_iris.data\n",
    "y = load_iris.target\n",
    "\n",
    "\n",
    "x_train, x_test, y_train, y_test = train_test_split(x, y, test_size = 0.3, random_state = 50)\n",
    "model = LogisticRegression()\n",
    "model.fit(x_train, y_train)\n",
    "\n",
    "y_predicted = model.predict(x_test)\n",
    "\n",
    "\n",
    "print(accuracy_score(y_test,y_predicted))\n",
    "\n"
   ],
   "id": "e129b6ae637ac177",
   "outputs": [
    {
     "name": "stdout",
     "output_type": "stream",
     "text": [
      "0.9777777777777777\n"
     ]
    },
    {
     "name": "stderr",
     "output_type": "stream",
     "text": [
      "C:\\PythonProject\\skillfactory мат анализ\\.venv1\\lib\\site-packages\\sklearn\\linear_model\\_logistic.py:814: ConvergenceWarning: lbfgs failed to converge (status=1):\n",
      "STOP: TOTAL NO. of ITERATIONS REACHED LIMIT.\n",
      "\n",
      "Increase the number of iterations (max_iter) or scale the data as shown in:\n",
      "    https://scikit-learn.org/stable/modules/preprocessing.html\n",
      "Please also refer to the documentation for alternative solver options:\n",
      "    https://scikit-learn.org/stable/modules/linear_model.html#logistic-regression\n",
      "  n_iter_i = _check_optimize_result(\n"
     ]
    }
   ],
   "execution_count": 32
  }
 ],
 "metadata": {
  "kernelspec": {
   "display_name": "Python 3",
   "language": "python",
   "name": "python3"
  },
  "language_info": {
   "codemirror_mode": {
    "name": "ipython",
    "version": 2
   },
   "file_extension": ".py",
   "mimetype": "text/x-python",
   "name": "python",
   "nbconvert_exporter": "python",
   "pygments_lexer": "ipython2",
   "version": "2.7.6"
  }
 },
 "nbformat": 4,
 "nbformat_minor": 5
}
