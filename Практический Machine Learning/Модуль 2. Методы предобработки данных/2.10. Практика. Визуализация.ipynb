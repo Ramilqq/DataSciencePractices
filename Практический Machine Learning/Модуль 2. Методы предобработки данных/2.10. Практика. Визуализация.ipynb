{
 "cells": [
  {
   "metadata": {},
   "cell_type": "markdown",
   "source": "Визуализации данных можно посветить отдельный курс, так как тема очень обширная, поэтому в рамках урока мы рассмотрим только два основных метода, с помощью которых можно начать смотреть на данные. Начнём с гистограммы, которая показывает распределение данных и выбросы.",
   "id": "e74d54b1297bdff8"
  },
  {
   "metadata": {
    "ExecuteTime": {
     "end_time": "2025-01-20T14:22:09.007207Z",
     "start_time": "2025-01-20T14:22:06.811995Z"
    }
   },
   "cell_type": "code",
   "source": [
    "from idlelib.iomenu import encoding\n",
    "\n",
    "import numpy as np\n",
    "import pandas as pd\n",
    "%matplotlib inline\n",
    "\n",
    "vis_data = pd.read_csv('data/train.csv', encoding='ISO-8859-1', low_memory=False)\n",
    "\n",
    "vis_data.head(2)"
   ],
   "id": "cb47b20ecae1e613",
   "outputs": [
    {
     "data": {
      "text/plain": [
       "   ticket_id                                     agency_name  \\\n",
       "0      22056  Buildings, Safety Engineering & Env Department   \n",
       "1      27586  Buildings, Safety Engineering & Env Department   \n",
       "\n",
       "     inspector_name                      violator_name  \\\n",
       "0    Sim, Martinzie  INVESTMENT INC., MIDWEST MORTGAGE   \n",
       "1  Williams, Darrin           Michigan, Covenant House   \n",
       "\n",
       "   violation_street_number violation_street_name  violation_zip_code  \\\n",
       "0                   2900.0                 TYLER                 NaN   \n",
       "1                   4311.0               CENTRAL                 NaN   \n",
       "\n",
       "   mailing_address_str_number mailing_address_str_name     city  ...  \\\n",
       "0                         3.0                S. WICKER  CHICAGO  ...   \n",
       "1                      2959.0       Martin Luther King  Detroit  ...   \n",
       "\n",
       "  clean_up_cost judgment_amount payment_amount balance_due  \\\n",
       "0           0.0           305.0            0.0       305.0   \n",
       "1           0.0           855.0          780.0        75.0   \n",
       "\n",
       "          payment_date      payment_status collection_status grafitti_status  \\\n",
       "0                  NaN  NO PAYMENT APPLIED               NaN             NaN   \n",
       "1  2005-06-02 00:00:00        PAID IN FULL               NaN             NaN   \n",
       "\n",
       "                          compliance_detail  compliance  \n",
       "0               non-compliant by no payment         0.0  \n",
       "1  compliant by late payment within 1 month         1.0  \n",
       "\n",
       "[2 rows x 34 columns]"
      ],
      "text/html": [
       "<div>\n",
       "<style scoped>\n",
       "    .dataframe tbody tr th:only-of-type {\n",
       "        vertical-align: middle;\n",
       "    }\n",
       "\n",
       "    .dataframe tbody tr th {\n",
       "        vertical-align: top;\n",
       "    }\n",
       "\n",
       "    .dataframe thead th {\n",
       "        text-align: right;\n",
       "    }\n",
       "</style>\n",
       "<table border=\"1\" class=\"dataframe\">\n",
       "  <thead>\n",
       "    <tr style=\"text-align: right;\">\n",
       "      <th></th>\n",
       "      <th>ticket_id</th>\n",
       "      <th>agency_name</th>\n",
       "      <th>inspector_name</th>\n",
       "      <th>violator_name</th>\n",
       "      <th>violation_street_number</th>\n",
       "      <th>violation_street_name</th>\n",
       "      <th>violation_zip_code</th>\n",
       "      <th>mailing_address_str_number</th>\n",
       "      <th>mailing_address_str_name</th>\n",
       "      <th>city</th>\n",
       "      <th>...</th>\n",
       "      <th>clean_up_cost</th>\n",
       "      <th>judgment_amount</th>\n",
       "      <th>payment_amount</th>\n",
       "      <th>balance_due</th>\n",
       "      <th>payment_date</th>\n",
       "      <th>payment_status</th>\n",
       "      <th>collection_status</th>\n",
       "      <th>grafitti_status</th>\n",
       "      <th>compliance_detail</th>\n",
       "      <th>compliance</th>\n",
       "    </tr>\n",
       "  </thead>\n",
       "  <tbody>\n",
       "    <tr>\n",
       "      <th>0</th>\n",
       "      <td>22056</td>\n",
       "      <td>Buildings, Safety Engineering &amp; Env Department</td>\n",
       "      <td>Sim, Martinzie</td>\n",
       "      <td>INVESTMENT INC., MIDWEST MORTGAGE</td>\n",
       "      <td>2900.0</td>\n",
       "      <td>TYLER</td>\n",
       "      <td>NaN</td>\n",
       "      <td>3.0</td>\n",
       "      <td>S. WICKER</td>\n",
       "      <td>CHICAGO</td>\n",
       "      <td>...</td>\n",
       "      <td>0.0</td>\n",
       "      <td>305.0</td>\n",
       "      <td>0.0</td>\n",
       "      <td>305.0</td>\n",
       "      <td>NaN</td>\n",
       "      <td>NO PAYMENT APPLIED</td>\n",
       "      <td>NaN</td>\n",
       "      <td>NaN</td>\n",
       "      <td>non-compliant by no payment</td>\n",
       "      <td>0.0</td>\n",
       "    </tr>\n",
       "    <tr>\n",
       "      <th>1</th>\n",
       "      <td>27586</td>\n",
       "      <td>Buildings, Safety Engineering &amp; Env Department</td>\n",
       "      <td>Williams, Darrin</td>\n",
       "      <td>Michigan, Covenant House</td>\n",
       "      <td>4311.0</td>\n",
       "      <td>CENTRAL</td>\n",
       "      <td>NaN</td>\n",
       "      <td>2959.0</td>\n",
       "      <td>Martin Luther King</td>\n",
       "      <td>Detroit</td>\n",
       "      <td>...</td>\n",
       "      <td>0.0</td>\n",
       "      <td>855.0</td>\n",
       "      <td>780.0</td>\n",
       "      <td>75.0</td>\n",
       "      <td>2005-06-02 00:00:00</td>\n",
       "      <td>PAID IN FULL</td>\n",
       "      <td>NaN</td>\n",
       "      <td>NaN</td>\n",
       "      <td>compliant by late payment within 1 month</td>\n",
       "      <td>1.0</td>\n",
       "    </tr>\n",
       "  </tbody>\n",
       "</table>\n",
       "<p>2 rows × 34 columns</p>\n",
       "</div>"
      ]
     },
     "execution_count": 21,
     "metadata": {},
     "output_type": "execute_result"
    }
   ],
   "execution_count": 21
  },
  {
   "metadata": {
    "ExecuteTime": {
     "end_time": "2025-01-20T14:08:02.292340Z",
     "start_time": "2025-01-20T14:08:02.059229Z"
    }
   },
   "cell_type": "code",
   "source": "vis_data.balance_due[vis_data.balance_due > 0].hist(bins=100)\n",
   "id": "3efb9d8c6b957350",
   "outputs": [
    {
     "data": {
      "text/plain": [
       "<Axes: >"
      ]
     },
     "execution_count": 11,
     "metadata": {},
     "output_type": "execute_result"
    },
    {
     "data": {
      "text/plain": [
       "<Figure size 640x480 with 1 Axes>"
      ],
      "image/png": "[encoded data removed]"
     },
     "metadata": {},
     "output_type": "display_data"
    }
   ],
   "execution_count": 11
  },
  {
   "metadata": {},
   "cell_type": "markdown",
   "source": [
    "Многие алгоритмы работают лучше, когда на вход принимают нормально распределённые данные.\n",
    "\n",
    "Один из способов сделать данные «нормальными» — взять логарифм. При этом не должно быть значений равных 0, иначе метод np.log выдаст бесконечность.\n",
    "\n",
    "Если значения всё-таки начинаются с 0, то перед тем, как взять логарифм, можно прибавить к данным 1."
   ],
   "id": "bbafba2d302cb321"
  },
  {
   "metadata": {
    "ExecuteTime": {
     "end_time": "2025-01-20T14:12:40.930485Z",
     "start_time": "2025-01-20T14:12:40.566345Z"
    }
   },
   "cell_type": "code",
   "source": "np.log(vis_data.balance_due[vis_data.balance_due > 0]).hist()",
   "id": "19463e67b9c68c7d",
   "outputs": [
    {
     "data": {
      "text/plain": [
       "<Axes: >"
      ]
     },
     "execution_count": 13,
     "metadata": {},
     "output_type": "execute_result"
    },
    {
     "data": {
      "text/plain": [
       "<Figure size 640x480 with 1 Axes>"
      ],
      "image/png": "[encoded data removed]"
     },
     "metadata": {},
     "output_type": "display_data"
    }
   ],
   "execution_count": 13
  },
  {
   "metadata": {
    "ExecuteTime": {
     "end_time": "2025-01-20T14:15:43.873287Z",
     "start_time": "2025-01-20T14:15:43.655440Z"
    }
   },
   "cell_type": "code",
   "source": "np.log(vis_data.balance_due[vis_data.balance_due >= 0] + 1).hist()",
   "id": "c512e7c6b883376e",
   "outputs": [
    {
     "data": {
      "text/plain": [
       "<Axes: >"
      ]
     },
     "execution_count": 18,
     "metadata": {},
     "output_type": "execute_result"
    },
    {
     "data": {
      "text/plain": [
       "<Figure size 640x480 with 1 Axes>"
      ],
      "image/png": "[encoded data removed]"
     },
     "metadata": {},
     "output_type": "display_data"
    }
   ],
   "execution_count": 18
  },
  {
   "metadata": {},
   "cell_type": "markdown",
   "source": "Другой способ — взять квадратный корень от данных:",
   "id": "140edf7c76c1d73d"
  },
  {
   "metadata": {
    "ExecuteTime": {
     "end_time": "2025-01-20T14:14:13.364030Z",
     "start_time": "2025-01-20T14:14:13.231304Z"
    }
   },
   "cell_type": "code",
   "source": "np.sqrt(vis_data.balance_due[vis_data.balance_due > 0]).hist()",
   "id": "787c7230b157db53",
   "outputs": [
    {
     "data": {
      "text/plain": [
       "<Axes: >"
      ]
     },
     "execution_count": 16,
     "metadata": {},
     "output_type": "execute_result"
    },
    {
     "data": {
      "text/plain": [
       "<Figure size 640x480 with 1 Axes>"
      ],
      "image/png": "[encoded data removed]"
     },
     "metadata": {},
     "output_type": "display_data"
    }
   ],
   "execution_count": 16
  },
  {
   "metadata": {},
   "cell_type": "markdown",
   "source": [
    "Между некоторыми признаками есть некоторая линейная зависимость, то есть они сильно скоррелированы друг с другом.\n",
    "\n",
    "Если зависимость большая, то следует убрать часть скоррелированных признаков, так как они несут избыточную информацию.\n",
    "\n",
    "Для определения зависимости можно посчитать матрицу корреляции для признаков и построить, например, heatmap, чтобы проще было увидеть зависимость."
   ],
   "id": "77a07e3d3c38a10a"
  },
  {
   "cell_type": "code",
   "id": "initial_id",
   "metadata": {
    "collapsed": true,
    "ExecuteTime": {
     "end_time": "2025-01-20T14:26:04.449925Z",
     "start_time": "2025-01-20T14:26:04.355322Z"
    }
   },
   "source": [
    "import seaborn as sns\n",
    "\n",
    "corr = vis_data.drop(['violation_zip_code', 'payment_amount',\n",
    "                      'clean_up_cost',\n",
    "                      'violation_street_number',\n",
    "                      'agency_name',\n",
    "                            'inspector_name',\n",
    "                            'violator_name',\n",
    "                            'violation_street_name',\n",
    "                            'mailing_address_str_name',\n",
    "                            'city',\n",
    "                            'state',\n",
    "                            'zip_code',\n",
    "                            'non_us_str_code',\n",
    "                            'country',\n",
    "                            'ticket_issued_date',\n",
    "                            'hearing_date',\n",
    "                            'violation_code',\n",
    "                            'violation_description',\n",
    "                            'disposition',\n",
    "                            'payment_date',\n",
    "                            'payment_status',\n",
    "                            'collection_status',\n",
    "                            'grafitti_status',\n",
    "                            'compliance_detail',\n",
    "                      ], axis=1).\\\n",
    "                dropna(axis=1).\\\n",
    "                corr()\n",
    "cmap = sns.diverging_palette(5, 250, as_cmap=True)\n",
    "\n",
    "def magnify():\n",
    "    return [dict(selector=\"th\",\n",
    "                 props=[(\"font-size\", \"7pt\")]),\n",
    "            dict(selector=\"td\",\n",
    "                 props=[('padding', \"0em 0em\")]),\n",
    "            dict(selector=\"th:hover\",\n",
    "                 props=[(\"font-size\", \"12pt\")]),\n",
    "            dict(selector=\"tr:hover td:hover\",\n",
    "                 props=[('max-width', '200px'),\n",
    "                        ('font-size', '12pt')])\n",
    "]\n",
    "\n",
    "corr.style.background_gradient(cmap, axis=1)\\\n",
    "    .set_properties(**{'max-width': '80px', 'font-size': '10pt'})\\\n",
    "    .set_caption(\"Hover to magify\").set_table_styles(magnify())\n",
    "    #.set_precision(2)\\\n",
    "    #.set_table_styles(magnify())\n"
   ],
   "outputs": [
    {
     "data": {
      "text/plain": [
       "<pandas.io.formats.style.Styler at 0x28ebd401fd0>"
      ],
      "text/html": [
       "<style type=\"text/css\">\n",
       "#T_7648d th {\n",
       "  font-size: 7pt;\n",
       "}\n",
       "#T_7648d td {\n",
       "  padding: 0em 0em;\n",
       "}\n",
       "#T_7648d th:hover {\n",
       "  font-size: 12pt;\n",
       "}\n",
       "#T_7648d tr:hover td:hover {\n",
       "  max-width: 200px;\n",
       "  font-size: 12pt;\n",
       "}\n",
       "#T_7648d_row0_col0, #T_7648d_row1_col1, #T_7648d_row1_col2, #T_7648d_row2_col1, #T_7648d_row2_col2, #T_7648d_row3_col3, #T_7648d_row4_col4, #T_7648d_row5_col5, #T_7648d_row6_col6 {\n",
       "  background-color: #4479bb;\n",
       "  color: #f1f1f1;\n",
       "  max-width: 80px;\n",
       "  font-size: 10pt;\n",
       "}\n",
       "#T_7648d_row0_col1, #T_7648d_row0_col2, #T_7648d_row1_col0, #T_7648d_row2_col0, #T_7648d_row3_col4, #T_7648d_row4_col0, #T_7648d_row4_col6, #T_7648d_row5_col0, #T_7648d_row6_col4 {\n",
       "  background-color: #d73c5b;\n",
       "  color: #f1f1f1;\n",
       "  max-width: 80px;\n",
       "  font-size: 10pt;\n",
       "}\n",
       "#T_7648d_row0_col3 {\n",
       "  background-color: #d94663;\n",
       "  color: #f1f1f1;\n",
       "  max-width: 80px;\n",
       "  font-size: 10pt;\n",
       "}\n",
       "#T_7648d_row0_col4 {\n",
       "  background-color: #d8415f;\n",
       "  color: #f1f1f1;\n",
       "  max-width: 80px;\n",
       "  font-size: 10pt;\n",
       "}\n",
       "#T_7648d_row0_col5 {\n",
       "  background-color: #d84462;\n",
       "  color: #f1f1f1;\n",
       "  max-width: 80px;\n",
       "  font-size: 10pt;\n",
       "}\n",
       "#T_7648d_row0_col6 {\n",
       "  background-color: #d94a67;\n",
       "  color: #f1f1f1;\n",
       "  max-width: 80px;\n",
       "  font-size: 10pt;\n",
       "}\n",
       "#T_7648d_row1_col3, #T_7648d_row2_col3 {\n",
       "  background-color: #e8adb8;\n",
       "  color: #000000;\n",
       "  max-width: 80px;\n",
       "  font-size: 10pt;\n",
       "}\n",
       "#T_7648d_row1_col4, #T_7648d_row2_col4 {\n",
       "  background-color: #db526e;\n",
       "  color: #f1f1f1;\n",
       "  max-width: 80px;\n",
       "  font-size: 10pt;\n",
       "}\n",
       "#T_7648d_row1_col5, #T_7648d_row2_col5 {\n",
       "  background-color: #eab9c3;\n",
       "  color: #000000;\n",
       "  max-width: 80px;\n",
       "  font-size: 10pt;\n",
       "}\n",
       "#T_7648d_row1_col6, #T_7648d_row2_col6 {\n",
       "  background-color: #e8aab6;\n",
       "  color: #000000;\n",
       "  max-width: 80px;\n",
       "  font-size: 10pt;\n",
       "}\n",
       "#T_7648d_row3_col0 {\n",
       "  background-color: #d83e5d;\n",
       "  color: #f1f1f1;\n",
       "  max-width: 80px;\n",
       "  font-size: 10pt;\n",
       "}\n",
       "#T_7648d_row3_col1, #T_7648d_row3_col2 {\n",
       "  background-color: #e7a7b4;\n",
       "  color: #000000;\n",
       "  max-width: 80px;\n",
       "  font-size: 10pt;\n",
       "}\n",
       "#T_7648d_row3_col5, #T_7648d_row5_col3 {\n",
       "  background-color: #477bbb;\n",
       "  color: #f1f1f1;\n",
       "  max-width: 80px;\n",
       "  font-size: 10pt;\n",
       "}\n",
       "#T_7648d_row3_col6 {\n",
       "  background-color: #5585c0;\n",
       "  color: #f1f1f1;\n",
       "  max-width: 80px;\n",
       "  font-size: 10pt;\n",
       "}\n",
       "#T_7648d_row4_col1, #T_7648d_row4_col2 {\n",
       "  background-color: #da4b68;\n",
       "  color: #f1f1f1;\n",
       "  max-width: 80px;\n",
       "  font-size: 10pt;\n",
       "}\n",
       "#T_7648d_row4_col3 {\n",
       "  background-color: #d73d5c;\n",
       "  color: #f1f1f1;\n",
       "  max-width: 80px;\n",
       "  font-size: 10pt;\n",
       "}\n",
       "#T_7648d_row4_col5 {\n",
       "  background-color: #da516c;\n",
       "  color: #f1f1f1;\n",
       "  max-width: 80px;\n",
       "  font-size: 10pt;\n",
       "}\n",
       "#T_7648d_row5_col1, #T_7648d_row5_col2 {\n",
       "  background-color: #e9b4be;\n",
       "  color: #000000;\n",
       "  max-width: 80px;\n",
       "  font-size: 10pt;\n",
       "}\n",
       "#T_7648d_row5_col4 {\n",
       "  background-color: #da4e6a;\n",
       "  color: #f1f1f1;\n",
       "  max-width: 80px;\n",
       "  font-size: 10pt;\n",
       "}\n",
       "#T_7648d_row5_col6, #T_7648d_row6_col5 {\n",
       "  background-color: #5786c1;\n",
       "  color: #f1f1f1;\n",
       "  max-width: 80px;\n",
       "  font-size: 10pt;\n",
       "}\n",
       "#T_7648d_row6_col0 {\n",
       "  background-color: #d84361;\n",
       "  color: #f1f1f1;\n",
       "  max-width: 80px;\n",
       "  font-size: 10pt;\n",
       "}\n",
       "#T_7648d_row6_col1, #T_7648d_row6_col2 {\n",
       "  background-color: #e7a4b1;\n",
       "  color: #000000;\n",
       "  max-width: 80px;\n",
       "  font-size: 10pt;\n",
       "}\n",
       "#T_7648d_row6_col3 {\n",
       "  background-color: #5484c0;\n",
       "  color: #f1f1f1;\n",
       "  max-width: 80px;\n",
       "  font-size: 10pt;\n",
       "}\n",
       "</style>\n",
       "<table id=\"T_7648d\">\n",
       "  <caption>Hover to magify</caption>\n",
       "  <thead>\n",
       "    <tr>\n",
       "      <th class=\"blank level0\" >&nbsp;</th>\n",
       "      <th id=\"T_7648d_level0_col0\" class=\"col_heading level0 col0\" >ticket_id</th>\n",
       "      <th id=\"T_7648d_level0_col1\" class=\"col_heading level0 col1\" >admin_fee</th>\n",
       "      <th id=\"T_7648d_level0_col2\" class=\"col_heading level0 col2\" >state_fee</th>\n",
       "      <th id=\"T_7648d_level0_col3\" class=\"col_heading level0 col3\" >late_fee</th>\n",
       "      <th id=\"T_7648d_level0_col4\" class=\"col_heading level0 col4\" >discount_amount</th>\n",
       "      <th id=\"T_7648d_level0_col5\" class=\"col_heading level0 col5\" >judgment_amount</th>\n",
       "      <th id=\"T_7648d_level0_col6\" class=\"col_heading level0 col6\" >balance_due</th>\n",
       "    </tr>\n",
       "  </thead>\n",
       "  <tbody>\n",
       "    <tr>\n",
       "      <th id=\"T_7648d_level0_row0\" class=\"row_heading level0 row0\" >ticket_id</th>\n",
       "      <td id=\"T_7648d_row0_col0\" class=\"data row0 col0\" >1.000000</td>\n",
       "      <td id=\"T_7648d_row0_col1\" class=\"data row0 col1\" >-0.038099</td>\n",
       "      <td id=\"T_7648d_row0_col2\" class=\"data row0 col2\" >-0.038099</td>\n",
       "      <td id=\"T_7648d_row0_col3\" class=\"data row0 col3\" >-0.005715</td>\n",
       "      <td id=\"T_7648d_row0_col4\" class=\"data row0 col4\" >-0.019900</td>\n",
       "      <td id=\"T_7648d_row0_col5\" class=\"data row0 col5\" >-0.012859</td>\n",
       "      <td id=\"T_7648d_row0_col6\" class=\"data row0 col6\" >0.003718</td>\n",
       "    </tr>\n",
       "    <tr>\n",
       "      <th id=\"T_7648d_level0_row1\" class=\"row_heading level0 row1\" >admin_fee</th>\n",
       "      <td id=\"T_7648d_row1_col0\" class=\"data row1 col0\" >-0.038099</td>\n",
       "      <td id=\"T_7648d_row1_col1\" class=\"data row1 col1\" >1.000000</td>\n",
       "      <td id=\"T_7648d_row1_col2\" class=\"data row1 col2\" >1.000000</td>\n",
       "      <td id=\"T_7648d_row1_col3\" class=\"data row1 col3\" >0.286289</td>\n",
       "      <td id=\"T_7648d_row1_col4\" class=\"data row1 col4\" >0.027442</td>\n",
       "      <td id=\"T_7648d_row1_col5\" class=\"data row1 col5\" >0.322319</td>\n",
       "      <td id=\"T_7648d_row1_col6\" class=\"data row1 col6\" >0.275884</td>\n",
       "    </tr>\n",
       "    <tr>\n",
       "      <th id=\"T_7648d_level0_row2\" class=\"row_heading level0 row2\" >state_fee</th>\n",
       "      <td id=\"T_7648d_row2_col0\" class=\"data row2 col0\" >-0.038099</td>\n",
       "      <td id=\"T_7648d_row2_col1\" class=\"data row2 col1\" >1.000000</td>\n",
       "      <td id=\"T_7648d_row2_col2\" class=\"data row2 col2\" >1.000000</td>\n",
       "      <td id=\"T_7648d_row2_col3\" class=\"data row2 col3\" >0.286289</td>\n",
       "      <td id=\"T_7648d_row2_col4\" class=\"data row2 col4\" >0.027442</td>\n",
       "      <td id=\"T_7648d_row2_col5\" class=\"data row2 col5\" >0.322319</td>\n",
       "      <td id=\"T_7648d_row2_col6\" class=\"data row2 col6\" >0.275884</td>\n",
       "    </tr>\n",
       "    <tr>\n",
       "      <th id=\"T_7648d_level0_row3\" class=\"row_heading level0 row3\" >late_fee</th>\n",
       "      <td id=\"T_7648d_row3_col0\" class=\"data row3 col0\" >-0.005715</td>\n",
       "      <td id=\"T_7648d_row3_col1\" class=\"data row3 col1\" >0.286289</td>\n",
       "      <td id=\"T_7648d_row3_col2\" class=\"data row3 col2\" >0.286289</td>\n",
       "      <td id=\"T_7648d_row3_col3\" class=\"data row3 col3\" >1.000000</td>\n",
       "      <td id=\"T_7648d_row3_col4\" class=\"data row3 col4\" >-0.013891</td>\n",
       "      <td id=\"T_7648d_row3_col5\" class=\"data row3 col5\" >0.989371</td>\n",
       "      <td id=\"T_7648d_row3_col6\" class=\"data row3 col6\" >0.948404</td>\n",
       "    </tr>\n",
       "    <tr>\n",
       "      <th id=\"T_7648d_level0_row4\" class=\"row_heading level0 row4\" >discount_amount</th>\n",
       "      <td id=\"T_7648d_row4_col0\" class=\"data row4 col0\" >-0.019900</td>\n",
       "      <td id=\"T_7648d_row4_col1\" class=\"data row4 col1\" >0.027442</td>\n",
       "      <td id=\"T_7648d_row4_col2\" class=\"data row4 col2\" >0.027442</td>\n",
       "      <td id=\"T_7648d_row4_col3\" class=\"data row4 col3\" >-0.013891</td>\n",
       "      <td id=\"T_7648d_row4_col4\" class=\"data row4 col4\" >1.000000</td>\n",
       "      <td id=\"T_7648d_row4_col5\" class=\"data row4 col5\" >0.040895</td>\n",
       "      <td id=\"T_7648d_row4_col6\" class=\"data row4 col6\" >-0.018124</td>\n",
       "    </tr>\n",
       "    <tr>\n",
       "      <th id=\"T_7648d_level0_row5\" class=\"row_heading level0 row5\" >judgment_amount</th>\n",
       "      <td id=\"T_7648d_row5_col0\" class=\"data row5 col0\" >-0.012859</td>\n",
       "      <td id=\"T_7648d_row5_col1\" class=\"data row5 col1\" >0.322319</td>\n",
       "      <td id=\"T_7648d_row5_col2\" class=\"data row5 col2\" >0.322319</td>\n",
       "      <td id=\"T_7648d_row5_col3\" class=\"data row5 col3\" >0.989371</td>\n",
       "      <td id=\"T_7648d_row5_col4\" class=\"data row5 col4\" >0.040895</td>\n",
       "      <td id=\"T_7648d_row5_col5\" class=\"data row5 col5\" >1.000000</td>\n",
       "      <td id=\"T_7648d_row5_col6\" class=\"data row5 col6\" >0.941940</td>\n",
       "    </tr>\n",
       "    <tr>\n",
       "      <th id=\"T_7648d_level0_row6\" class=\"row_heading level0 row6\" >balance_due</th>\n",
       "      <td id=\"T_7648d_row6_col0\" class=\"data row6 col0\" >0.003718</td>\n",
       "      <td id=\"T_7648d_row6_col1\" class=\"data row6 col1\" >0.275884</td>\n",
       "      <td id=\"T_7648d_row6_col2\" class=\"data row6 col2\" >0.275884</td>\n",
       "      <td id=\"T_7648d_row6_col3\" class=\"data row6 col3\" >0.948404</td>\n",
       "      <td id=\"T_7648d_row6_col4\" class=\"data row6 col4\" >-0.018124</td>\n",
       "      <td id=\"T_7648d_row6_col5\" class=\"data row6 col5\" >0.941940</td>\n",
       "      <td id=\"T_7648d_row6_col6\" class=\"data row6 col6\" >1.000000</td>\n",
       "    </tr>\n",
       "  </tbody>\n",
       "</table>\n"
      ]
     },
     "execution_count": 26,
     "metadata": {},
     "output_type": "execute_result"
    }
   ],
   "execution_count": 26
  },
  {
   "metadata": {},
   "cell_type": "code",
   "outputs": [],
   "execution_count": null,
   "source": "",
   "id": "aadf9b0450f43d8e"
  }
 ],
 "metadata": {
  "kernelspec": {
   "display_name": "Python 3",
   "language": "python",
   "name": "python3"
  },
  "language_info": {
   "codemirror_mode": {
    "name": "ipython",
    "version": 2
   },
   "file_extension": ".py",
   "mimetype": "text/x-python",
   "name": "python",
   "nbconvert_exporter": "python",
   "pygments_lexer": "ipython2",
   "version": "2.7.6"
  }
 },
 "nbformat": 4,
 "nbformat_minor": 5
}
