{
 "cells": [
  {
   "cell_type": "code",
   "execution_count": null,
   "id": "initial_id",
   "metadata": {
    "collapsed": true
   },
   "outputs": [],
   "source": [
    ""
   ]
  },
  {
   "metadata": {},
   "cell_type": "markdown",
   "source": [
    "Precision и Recall\n",
    "\n",
    "Precision — метрика, измеряющая, насколько много из принятых моделью положительных объектов в действительности являются положительными.\n",
    "\n",
    "Recall — метрика, измеряющая, насколько много положительных объектов из всех положительных объектов модель выбрала."
   ],
   "id": "35c1819c6681360b"
  },
  {
   "metadata": {},
   "cell_type": "markdown",
   "source": [
    "F1-score\n",
    "\n",
    "F1-score — метрика, объединяющая precision и recall, принимающая во внимание, что обе важны для задачи. Частный случай F-beta score:"
   ],
   "id": "2781db9ab52c655e"
  },
  {
   "metadata": {
    "ExecuteTime": {
     "end_time": "2025-04-23T10:47:50.512816Z",
     "start_time": "2025-04-23T10:47:50.402805Z"
    }
   },
   "cell_type": "code",
   "source": [
    "from sklearn.metrics import accuracy_score\n",
    "from sklearn.metrics import recall_score\n",
    "from sklearn.metrics import precision_score\n",
    "from sklearn.metrics import f1_score\n",
    "from sklearn.metrics import balanced_accuracy_score\n",
    "from sklearn.metrics import cohen_kappa_score"
   ],
   "id": "db8c8ca20a0056e0",
   "outputs": [],
   "execution_count": 1
  },
  {
   "metadata": {},
   "cell_type": "markdown",
   "source": [
    "# Задание 7.6.3\n",
    "\n",
    "Используя библиотеку sklearn, найдите метод для подсчёта метрики accuracy. Создайте два одинаковых списка, состоящих из 100 одинаковых чисел. Замените в одном списке одно число на любое другое, отправьте эти списки в метод для подсчёта accuracy. Что выдаст алгоритм на выходе? Ответ запишите с точностью до сотых, с точкой:"
   ],
   "id": "8c2c6632a32ca12b"
  },
  {
   "metadata": {
    "ExecuteTime": {
     "end_time": "2025-04-23T10:57:22.340588Z",
     "start_time": "2025-04-23T10:57:22.291021Z"
    }
   },
   "cell_type": "code",
   "source": [
    "import pandas as pd\n",
    "import numpy as np\n",
    "\n",
    "y = np.zeros(100)\n",
    "x = np.zeros(100)\n",
    "y[2] = 1\n",
    "\n",
    "print(y)\n",
    "print(x)\n",
    "\n",
    "accuracy_score(x,y)\n"
   ],
   "id": "2cc20099d82cd40c",
   "outputs": [
    {
     "name": "stdout",
     "output_type": "stream",
     "text": [
      "[0. 0. 1. 0. 0. 0. 0. 0. 0. 0. 0. 0. 0. 0. 0. 0. 0. 0. 0. 0. 0. 0. 0. 0.\n",
      " 0. 0. 0. 0. 0. 0. 0. 0. 0. 0. 0. 0. 0. 0. 0. 0. 0. 0. 0. 0. 0. 0. 0. 0.\n",
      " 0. 0. 0. 0. 0. 0. 0. 0. 0. 0. 0. 0. 0. 0. 0. 0. 0. 0. 0. 0. 0. 0. 0. 0.\n",
      " 0. 0. 0. 0. 0. 0. 0. 0. 0. 0. 0. 0. 0. 0. 0. 0. 0. 0. 0. 0. 0. 0. 0. 0.\n",
      " 0. 0. 0. 0.]\n",
      "[0. 0. 0. 0. 0. 0. 0. 0. 0. 0. 0. 0. 0. 0. 0. 0. 0. 0. 0. 0. 0. 0. 0. 0.\n",
      " 0. 0. 0. 0. 0. 0. 0. 0. 0. 0. 0. 0. 0. 0. 0. 0. 0. 0. 0. 0. 0. 0. 0. 0.\n",
      " 0. 0. 0. 0. 0. 0. 0. 0. 0. 0. 0. 0. 0. 0. 0. 0. 0. 0. 0. 0. 0. 0. 0. 0.\n",
      " 0. 0. 0. 0. 0. 0. 0. 0. 0. 0. 0. 0. 0. 0. 0. 0. 0. 0. 0. 0. 0. 0. 0. 0.\n",
      " 0. 0. 0. 0.]\n"
     ]
    },
    {
     "data": {
      "text/plain": [
       "0.99"
      ]
     },
     "execution_count": 8,
     "metadata": {},
     "output_type": "execute_result"
    }
   ],
   "execution_count": 8
  },
  {
   "metadata": {},
   "cell_type": "markdown",
   "source": [
    "# Задание 7.6.9\n",
    "\n",
    "На этапе вычисления метрик вы получили результаты precision = 0.75 и recall = 0.6. Посчитайте значение метрики f1. Округлите до сотых и запишите результат."
   ],
   "id": "7d8af47a8bd06969"
  },
  {
   "metadata": {
    "ExecuteTime": {
     "end_time": "2025-04-23T11:07:11.980749Z",
     "start_time": "2025-04-23T11:07:11.947001Z"
    }
   },
   "cell_type": "code",
   "source": [
    "precision = 0.75\n",
    "recall = 0.6\n",
    "\n",
    "round( (2*precision*recall)/(precision+recall), 2)"
   ],
   "id": "1e5dae070c2680fc",
   "outputs": [
    {
     "data": {
      "text/plain": [
       "0.67"
      ]
     },
     "execution_count": 11,
     "metadata": {},
     "output_type": "execute_result"
    }
   ],
   "execution_count": 11
  },
  {
   "metadata": {},
   "cell_type": "markdown",
   "source": [
    "# Задание 7.6.10\n",
    "\n",
    "Допустим, у вас есть выборки y_true = [0, 0, 1, 1, 1, 1, 0, 1] и y_pred = [0, 1, 0, 0, 1, 1, 0, 1]. Посчитайте значение метрики f1. Округлите до сотых и запишите результат."
   ],
   "id": "230f726e65bf675e"
  },
  {
   "metadata": {
    "ExecuteTime": {
     "end_time": "2025-04-23T11:09:21.540941Z",
     "start_time": "2025-04-23T11:09:21.494098Z"
    }
   },
   "cell_type": "code",
   "source": [
    "y_true = [0, 0, 1, 1, 1, 1, 0, 1]\n",
    "y_pred = [0, 1, 0, 0, 1, 1, 0, 1]\n",
    "\n",
    "round( f1_score(y_true, y_pred) , 2)\n"
   ],
   "id": "8944a67c335ea70",
   "outputs": [
    {
     "data": {
      "text/plain": [
       "0.67"
      ]
     },
     "execution_count": 24,
     "metadata": {},
     "output_type": "execute_result"
    }
   ],
   "execution_count": 24
  },
  {
   "metadata": {},
   "cell_type": "markdown",
   "source": [
    "# Задание 7.6.11\n",
    "\n",
    "Допустим, у вас есть выборки y_true = [0, 0, 1, 0, 0, 1, 0] и y_pred = [1, 1, 1, 0, 1, 1, 0]. Посчитайте значение метрики precision. Округлите до сотых и запишите результат."
   ],
   "id": "dcf71a41a07459f"
  },
  {
   "metadata": {
    "ExecuteTime": {
     "end_time": "2025-04-23T11:10:19.021056Z",
     "start_time": "2025-04-23T11:10:18.977108Z"
    }
   },
   "cell_type": "code",
   "source": [
    "y_true = [0, 0, 1, 0, 0, 1, 0]\n",
    "y_pred = [1, 1, 1, 0, 1, 1, 0]\n",
    "\n",
    "round( precision_score(y_true, y_pred) , 2)"
   ],
   "id": "d702c003210eb31",
   "outputs": [
    {
     "data": {
      "text/plain": [
       "0.4"
      ]
     },
     "execution_count": 25,
     "metadata": {},
     "output_type": "execute_result"
    }
   ],
   "execution_count": 25
  },
  {
   "metadata": {},
   "cell_type": "markdown",
   "source": [
    "# Задание 7.6.12\n",
    "\n",
    "Допустим, у вас есть выборки y_true = [0, 0, 1, 0, 0, 1, 0] и y_pred = [1, 1, 1, 0, 1, 1, 0]. Посчитайте значение метрики recall. Округлите до сотых и запишите результат."
   ],
   "id": "c1103bd8524a733c"
  },
  {
   "metadata": {
    "ExecuteTime": {
     "end_time": "2025-04-23T11:10:55.396169Z",
     "start_time": "2025-04-23T11:10:55.355817Z"
    }
   },
   "cell_type": "code",
   "source": [
    "y_true = [0, 0, 1, 0, 0, 1, 0]\n",
    "y_pred = [1, 1, 1, 0, 1, 1, 0]\n",
    "\n",
    "round( recall_score(y_true, y_pred) , 2)\n"
   ],
   "id": "fd7199799781ecd4",
   "outputs": [
    {
     "data": {
      "text/plain": [
       "1.0"
      ]
     },
     "execution_count": 26,
     "metadata": {},
     "output_type": "execute_result"
    }
   ],
   "execution_count": 26
  }
 ],
 "metadata": {
  "kernelspec": {
   "display_name": "Python 3",
   "language": "python",
   "name": "python3"
  },
  "language_info": {
   "codemirror_mode": {
    "name": "ipython",
    "version": 2
   },
   "file_extension": ".py",
   "mimetype": "text/x-python",
   "name": "python",
   "nbconvert_exporter": "python",
   "pygments_lexer": "ipython2",
   "version": "2.7.6"
  }
 },
 "nbformat": 4,
 "nbformat_minor": 5
}
