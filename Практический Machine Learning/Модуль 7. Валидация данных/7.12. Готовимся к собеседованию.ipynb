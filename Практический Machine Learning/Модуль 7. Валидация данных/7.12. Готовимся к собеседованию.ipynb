{
 "cells": [
  {
   "metadata": {},
   "cell_type": "markdown",
   "source": [
    "1) Назовите способы борьбы с переобучением и недообучением?\n",
    "* кросс-валидация\n",
    "* регуляризация\n",
    "* отсечение нерелевантных признаков\n",
    "* увеличение обучающей выборки\n",
    "2) Объясните смысл кросс-валидации"
   ],
   "id": "94d7b2ee2c9557ae"
  }
 ],
 "metadata": {
  "kernelspec": {
   "display_name": "Python 3",
   "language": "python",
   "name": "python3"
  },
  "language_info": {
   "codemirror_mode": {
    "name": "ipython",
    "version": 2
   },
   "file_extension": ".py",
   "mimetype": "text/x-python",
   "name": "python",
   "nbconvert_exporter": "python",
   "pygments_lexer": "ipython2",
   "version": "2.7.6"
  }
 },
 "nbformat": 4,
 "nbformat_minor": 5
}
