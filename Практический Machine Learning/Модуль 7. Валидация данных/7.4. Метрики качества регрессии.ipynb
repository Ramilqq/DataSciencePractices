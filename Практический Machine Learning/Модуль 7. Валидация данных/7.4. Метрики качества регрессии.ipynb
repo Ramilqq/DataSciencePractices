{
 "cells": [
  {
   "metadata": {},
   "cell_type": "markdown",
   "source": "Ранее мы обсудили, что для того, чтобы оценить качество модели, мы будем разбивать выборку на две части: обучающую и тестовую. На первой мы будем обучать модель, а на второй — тестировать ее качество.",
   "id": "7b4eefed22f64ee6"
  },
  {
   "metadata": {},
   "cell_type": "markdown",
   "source": [
    "# Задание 7.4.5\n",
    "\n",
    "Допустим, у вас есть выборки y_true = [1.23, 2.35, 2.75] и y_pred = [1.01, 12.3, 2.74]. Посчитайте метрику RMSE, округлите до сотых и запишите результат. Например, 3.14"
   ],
   "id": "66f8cfe5769d876f"
  },
  {
   "metadata": {
    "ExecuteTime": {
     "end_time": "2025-04-23T08:21:11.625912Z",
     "start_time": "2025-04-23T08:21:11.543601Z"
    }
   },
   "cell_type": "code",
   "source": [
    "from sklearn.metrics import root_mean_squared_error\n",
    "\n",
    "\n",
    "y_true = [1.23, 2.35, 2.75]\n",
    "y_pred = [1.01, 12.3, 2.74]\n",
    "\n",
    "\n",
    "root_mean_squared_error(y_true, y_pred)"
   ],
   "id": "6327407d8e6c48bc",
   "outputs": [
    {
     "data": {
      "text/plain": [
       "5.746042116100439"
      ]
     },
     "execution_count": 6,
     "metadata": {},
     "output_type": "execute_result"
    }
   ],
   "execution_count": 6
  }
 ],
 "metadata": {
  "kernelspec": {
   "display_name": "Python 3",
   "language": "python",
   "name": "python3"
  },
  "language_info": {
   "codemirror_mode": {
    "name": "ipython",
    "version": 2
   },
   "file_extension": ".py",
   "mimetype": "text/x-python",
   "name": "python",
   "nbconvert_exporter": "python",
   "pygments_lexer": "ipython2",
   "version": "2.7.6"
  }
 },
 "nbformat": 4,
 "nbformat_minor": 5
}
