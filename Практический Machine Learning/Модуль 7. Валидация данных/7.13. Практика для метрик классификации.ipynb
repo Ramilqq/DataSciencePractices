{
 "cells": [
  {
   "metadata": {},
   "cell_type": "markdown",
   "source": [
    "Реализуем бинарную классификацию записей голосов (мужских и женских) на основе характеристик записей их разговоров. Данные можно взять здесь\n",
    "\n",
    "В предложенном датасете есть ряд свойств, определенных по аудиозаписям:"
   ],
   "id": "110836fc80647769"
  },
  {
   "metadata": {},
   "cell_type": "markdown",
   "source": [
    "meanfreq: средняя частота голоса (в кГц)\n",
    "\n",
    "sd: стандартное отклонение частоты голоса\n",
    "\n",
    "median: медианная частота (в кГц)\n",
    "\n",
    "Q25: значение в первом квартиле (в кГц)\n",
    "\n",
    "Q75: значение в третьем квартиле (в кГц)\n",
    "\n",
    "IQR: интерквартильный размах (в кГц)\n",
    "\n",
    "skew: ассиметрия\n",
    "\n",
    "kurt: эксцесс\n",
    "\n",
    "sp.ent: спектральная энтропия\n",
    "\n",
    "sfm: энтропия Винера\n",
    "\n",
    "mode: мода частоты\n",
    "\n",
    "centroid: частотный центроид\n",
    "\n",
    "meanfun: средняя основная частота, измеренная по акустическому сигналу\n",
    "\n",
    "minfun:  минимальная основная частота, измеренная по акустическому сигналу\n",
    "\n",
    "maxfun: максимальная основная частота, измеренная в акустическом сигнале\n",
    "\n",
    "meandom: среднее значение доминирующей частоты, измеренной по акустическому сигналу\n",
    "\n",
    "mindom: минимум доминирующей частоты, измеренной в акустическом сигнале\n",
    "\n",
    "maxdom: максимум доминирующей частоты, измеренной в акустическом сигнале\n",
    "\n",
    "dfrange: диапазон доминантных частот, измеренное на звуковой сигнал\n",
    "\n",
    "modindx: индекс модуляции голоса"
   ],
   "id": "dc672815ccc1aa98"
  },
  {
   "metadata": {},
   "cell_type": "markdown",
   "source": [
    "Прежде, чем проводить анализ, можно с помощью визуализации оценить, есть ли различия в частотах голосов мужчин и женщин. Можем построить распределения, например, средних частот:\n",
    "\n",
    "Красному цвету соответствуют данные для женских голосов, голубому - для мужских. В целом, можно отметить, что распределение частот женских голосов сдвинуто вправо относительно распределения мужских. То есть, характеристики для голосов различаются, попробуем теперь реализовать классификацию на их основе.\n",
    "\n",
    "Попробуйте подстроить модель, предсказывающую пол обладателя записи голоса.\n",
    "\n",
    "Для этого:\n",
    "\n",
    "1) Разделите выборку на обучающую и тренировочную с параметрами test_size=0.3, random_state=42\n",
    "\n",
    "2)Нормализуйте признаки с помощью функции StandardScaler() , для обучающей и тестовой выборки по отдельности!\n",
    "\n",
    "3)Обучите модель логистической регрессии на подготовленных данных"
   ],
   "id": "d1adfb792c1a1138"
  },
  {
   "metadata": {
    "ExecuteTime": {
     "end_time": "2025-04-24T08:05:12.576040Z",
     "start_time": "2025-04-24T08:05:12.560596Z"
    }
   },
   "cell_type": "code",
   "source": [
    "import numpy as np\n",
    "import pandas as pd\n",
    "from matplotlib import pyplot as plt\n",
    "import seaborn as sns\n",
    "%matplotlib inline\n"
   ],
   "id": "8fb375d8fc14e700",
   "outputs": [],
   "execution_count": 19
  },
  {
   "metadata": {
    "ExecuteTime": {
     "end_time": "2025-04-24T08:43:52.941516Z",
     "start_time": "2025-04-24T08:43:52.893239Z"
    }
   },
   "cell_type": "code",
   "source": [
    "data = pd.read_csv(\"./data/voiceDataSet.csv\", encoding = 'ISO-8859-1', low_memory = False)\n",
    "\n",
    "data.info()"
   ],
   "id": "1c22fb05f052a18b",
   "outputs": [
    {
     "name": "stdout",
     "output_type": "stream",
     "text": [
      "<class 'pandas.core.frame.DataFrame'>\n",
      "RangeIndex: 3168 entries, 0 to 3167\n",
      "Data columns (total 21 columns):\n",
      " #   Column    Non-Null Count  Dtype  \n",
      "---  ------    --------------  -----  \n",
      " 0   meanfreq  3168 non-null   float64\n",
      " 1   sd        3168 non-null   float64\n",
      " 2   median    3168 non-null   float64\n",
      " 3   Q25       3168 non-null   float64\n",
      " 4   Q75       3168 non-null   float64\n",
      " 5   IQR       3168 non-null   float64\n",
      " 6   skew      3168 non-null   float64\n",
      " 7   kurt      3168 non-null   float64\n",
      " 8   sp.ent    3168 non-null   float64\n",
      " 9   sfm       3168 non-null   float64\n",
      " 10  mode      3168 non-null   float64\n",
      " 11  centroid  3168 non-null   float64\n",
      " 12  meanfun   3168 non-null   float64\n",
      " 13  minfun    3168 non-null   float64\n",
      " 14  maxfun    3168 non-null   float64\n",
      " 15  meandom   3168 non-null   float64\n",
      " 16  mindom    3168 non-null   float64\n",
      " 17  maxdom    3168 non-null   float64\n",
      " 18  dfrange   3168 non-null   float64\n",
      " 19  modindx   3168 non-null   float64\n",
      " 20  label     3168 non-null   object \n",
      "dtypes: float64(20), object(1)\n",
      "memory usage: 519.9+ KB\n"
     ]
    }
   ],
   "execution_count": 66
  },
  {
   "metadata": {
    "ExecuteTime": {
     "end_time": "2025-04-24T08:08:20.559288Z",
     "start_time": "2025-04-24T08:08:20.530101Z"
    }
   },
   "cell_type": "code",
   "source": [
    "data_male = data[data['label'] == 'male']\n",
    "data_female = data[data['label'] == 'female']\n"
   ],
   "id": "ab0325e763e36765",
   "outputs": [],
   "execution_count": 26
  },
  {
   "metadata": {
    "ExecuteTime": {
     "end_time": "2025-04-24T08:08:23.469463Z",
     "start_time": "2025-04-24T08:08:23.269627Z"
    }
   },
   "cell_type": "code",
   "source": "plt.hist([data_male['meanfreq'], data_female['meanfreq']], bins=30);",
   "id": "ab09f8ed61a59e0f",
   "outputs": [
    {
     "data": {
      "text/plain": [
       "<Figure size 640x480 with 1 Axes>"
      ],
      "image/png": "[encoded data removed]"
     },
     "metadata": {},
     "output_type": "display_data"
    }
   ],
   "execution_count": 27
  },
  {
   "metadata": {
    "ExecuteTime": {
     "end_time": "2025-04-24T08:43:57.259491Z",
     "start_time": "2025-04-24T08:43:57.227471Z"
    }
   },
   "cell_type": "code",
   "source": "data_data = data.drop(['label'], axis = 1, inplace = False)\n",
   "id": "ff5a7722c0eeeee2",
   "outputs": [],
   "execution_count": 67
  },
  {
   "metadata": {},
   "cell_type": "markdown",
   "source": [
    "# 7.13.1\n",
    "\n",
    "Вычислите значение метрики accuracy и введите полученное значение. Запишите ответ с тремя знаками после запятой."
   ],
   "id": "b1cad73196c6f6b8"
  },
  {
   "metadata": {
    "ExecuteTime": {
     "end_time": "2025-04-24T08:43:59.074269Z",
     "start_time": "2025-04-24T08:43:59.027969Z"
    }
   },
   "cell_type": "code",
   "source": [
    "from sklearn.preprocessing import StandardScaler\n",
    "from sklearn.model_selection import train_test_split\n",
    "from sklearn.linear_model import LogisticRegression\n",
    "from sklearn.metrics import accuracy_score\n",
    "\n",
    "x = data_data\n",
    "y = data['label']\n",
    "\n",
    "x_train, x_test, y_train, y_test = train_test_split(x, y, test_size = 0.3, random_state = 42)\n",
    "\n",
    "scaler = StandardScaler()\n",
    "X_train_scaler = scaler.fit_transform(x_train)\n",
    "X_test_scaler = scaler.fit_transform(x_test)\n",
    "\n",
    "lr = LogisticRegression()\n",
    "lr.fit(X_train_scaler, y_train)\n",
    "\n",
    "y_pred = lr.predict(X_test_scaler)\n",
    "\n",
    "\n",
    "acc = accuracy_score(y_test, y_pred)\n",
    "\n",
    "\n",
    "print(acc, round(acc, 3))\n",
    "\n",
    "\n"
   ],
   "id": "63b39b3afce59cb8",
   "outputs": [
    {
     "name": "stdout",
     "output_type": "stream",
     "text": [
      "0.9737118822292324 0.974\n"
     ]
    }
   ],
   "execution_count": 68
  },
  {
   "metadata": {},
   "cell_type": "markdown",
   "source": [
    "Теперь познакомимся с новым алгоритмом классификации, а также снова потренируемся делить выборку и осуществлять кросс-валидацию. Кроме того, посмотрим, как можно оценить качество классификации для случая, когда наша классификация не бинарная, т.е. у нас несколько классов.\n",
    "\n",
    "В данном кейсе мы попробуем определять типы стекла по его характеристикам. Данные можно взять здесь\n",
    "\n",
    "Откроем данные и увидим, что в первых столбцах показатели содержания различных веществ в стекле, а в последнем (Type) - непосредственно тип стекла."
   ],
   "id": "14d567947513a713"
  },
  {
   "metadata": {
    "ExecuteTime": {
     "end_time": "2025-04-24T09:21:04.852246Z",
     "start_time": "2025-04-24T09:21:04.814555Z"
    }
   },
   "cell_type": "code",
   "source": [
    "data = pd.read_csv(\"./data/glass.csv\", encoding = 'ISO-8859-1', low_memory = False)\n",
    "\n",
    "data.info()"
   ],
   "id": "686377d1c25a05eb",
   "outputs": [
    {
     "name": "stdout",
     "output_type": "stream",
     "text": [
      "<class 'pandas.core.frame.DataFrame'>\n",
      "RangeIndex: 214 entries, 0 to 213\n",
      "Data columns (total 10 columns):\n",
      " #   Column  Non-Null Count  Dtype  \n",
      "---  ------  --------------  -----  \n",
      " 0   RI      214 non-null    float64\n",
      " 1   Na      214 non-null    float64\n",
      " 2   Mg      214 non-null    float64\n",
      " 3   Al      214 non-null    float64\n",
      " 4   Si      214 non-null    float64\n",
      " 5   K       214 non-null    float64\n",
      " 6   Ca      214 non-null    float64\n",
      " 7   Ba      214 non-null    float64\n",
      " 8   Fe      214 non-null    float64\n",
      " 9   Type    214 non-null    int64  \n",
      "dtypes: float64(9), int64(1)\n",
      "memory usage: 16.8 KB\n"
     ]
    }
   ],
   "execution_count": 127
  },
  {
   "metadata": {},
   "cell_type": "markdown",
   "source": "Наша классификация мультиклассовая, поэтому мы должны посмотреть, сколько у нас классов. Если вы вообще ничего не знаете о задаче в плане количества классов, обязательно начинайте с этого. Так как это влияет на ход решения. Особенно важно понять, бинарная классификация или нет.",
   "id": "a3e118882ed60dd5"
  },
  {
   "metadata": {},
   "cell_type": "markdown",
   "source": [
    "# 7.13.2\n",
    "\n",
    "Сколько классов стекла представлено в данной задаче?"
   ],
   "id": "2266c1fef928d931"
  },
  {
   "metadata": {
    "ExecuteTime": {
     "end_time": "2025-04-24T08:51:14.557680Z",
     "start_time": "2025-04-24T08:51:14.516486Z"
    }
   },
   "cell_type": "code",
   "source": "data.groupby('Type').count()",
   "id": "6261b51836424c48",
   "outputs": [
    {
     "data": {
      "text/plain": [
       "      RI  Na  Mg  Al  Si   K  Ca  Ba  Fe\n",
       "Type                                    \n",
       "1     70  70  70  70  70  70  70  70  70\n",
       "2     76  76  76  76  76  76  76  76  76\n",
       "3     17  17  17  17  17  17  17  17  17\n",
       "5     13  13  13  13  13  13  13  13  13\n",
       "6      9   9   9   9   9   9   9   9   9\n",
       "7     29  29  29  29  29  29  29  29  29"
      ],
      "text/html": [
       "<div>\n",
       "<style scoped>\n",
       "    .dataframe tbody tr th:only-of-type {\n",
       "        vertical-align: middle;\n",
       "    }\n",
       "\n",
       "    .dataframe tbody tr th {\n",
       "        vertical-align: top;\n",
       "    }\n",
       "\n",
       "    .dataframe thead th {\n",
       "        text-align: right;\n",
       "    }\n",
       "</style>\n",
       "<table border=\"1\" class=\"dataframe\">\n",
       "  <thead>\n",
       "    <tr style=\"text-align: right;\">\n",
       "      <th></th>\n",
       "      <th>RI</th>\n",
       "      <th>Na</th>\n",
       "      <th>Mg</th>\n",
       "      <th>Al</th>\n",
       "      <th>Si</th>\n",
       "      <th>K</th>\n",
       "      <th>Ca</th>\n",
       "      <th>Ba</th>\n",
       "      <th>Fe</th>\n",
       "    </tr>\n",
       "    <tr>\n",
       "      <th>Type</th>\n",
       "      <th></th>\n",
       "      <th></th>\n",
       "      <th></th>\n",
       "      <th></th>\n",
       "      <th></th>\n",
       "      <th></th>\n",
       "      <th></th>\n",
       "      <th></th>\n",
       "      <th></th>\n",
       "    </tr>\n",
       "  </thead>\n",
       "  <tbody>\n",
       "    <tr>\n",
       "      <th>1</th>\n",
       "      <td>70</td>\n",
       "      <td>70</td>\n",
       "      <td>70</td>\n",
       "      <td>70</td>\n",
       "      <td>70</td>\n",
       "      <td>70</td>\n",
       "      <td>70</td>\n",
       "      <td>70</td>\n",
       "      <td>70</td>\n",
       "    </tr>\n",
       "    <tr>\n",
       "      <th>2</th>\n",
       "      <td>76</td>\n",
       "      <td>76</td>\n",
       "      <td>76</td>\n",
       "      <td>76</td>\n",
       "      <td>76</td>\n",
       "      <td>76</td>\n",
       "      <td>76</td>\n",
       "      <td>76</td>\n",
       "      <td>76</td>\n",
       "    </tr>\n",
       "    <tr>\n",
       "      <th>3</th>\n",
       "      <td>17</td>\n",
       "      <td>17</td>\n",
       "      <td>17</td>\n",
       "      <td>17</td>\n",
       "      <td>17</td>\n",
       "      <td>17</td>\n",
       "      <td>17</td>\n",
       "      <td>17</td>\n",
       "      <td>17</td>\n",
       "    </tr>\n",
       "    <tr>\n",
       "      <th>5</th>\n",
       "      <td>13</td>\n",
       "      <td>13</td>\n",
       "      <td>13</td>\n",
       "      <td>13</td>\n",
       "      <td>13</td>\n",
       "      <td>13</td>\n",
       "      <td>13</td>\n",
       "      <td>13</td>\n",
       "      <td>13</td>\n",
       "    </tr>\n",
       "    <tr>\n",
       "      <th>6</th>\n",
       "      <td>9</td>\n",
       "      <td>9</td>\n",
       "      <td>9</td>\n",
       "      <td>9</td>\n",
       "      <td>9</td>\n",
       "      <td>9</td>\n",
       "      <td>9</td>\n",
       "      <td>9</td>\n",
       "      <td>9</td>\n",
       "    </tr>\n",
       "    <tr>\n",
       "      <th>7</th>\n",
       "      <td>29</td>\n",
       "      <td>29</td>\n",
       "      <td>29</td>\n",
       "      <td>29</td>\n",
       "      <td>29</td>\n",
       "      <td>29</td>\n",
       "      <td>29</td>\n",
       "      <td>29</td>\n",
       "      <td>29</td>\n",
       "    </tr>\n",
       "  </tbody>\n",
       "</table>\n",
       "</div>"
      ]
     },
     "execution_count": 79,
     "metadata": {},
     "output_type": "execute_result"
    }
   ],
   "execution_count": 79
  },
  {
   "metadata": {},
   "cell_type": "markdown",
   "source": [
    "Итак, мы выяснили, сколько у нас классов и узнали, что у нас будет в этот раз не бинарная классификация. А значит, некоторые метрики качества (например, precision  и recall) мы не сможем использовать.\n",
    "\n",
    "Приступим непосредственно к построению модели. На примере этой задачи мы узнаем новый алгоритм knn (метод ближайших соседей). Это один из простейших методов классификации.\n",
    "\n",
    "Воспользуемся k-fold валидацией на 5 разбиениях и обучим модель:"
   ],
   "id": "ebe970ebf343ae48"
  },
  {
   "metadata": {
    "ExecuteTime": {
     "end_time": "2025-04-24T09:21:14.884305Z",
     "start_time": "2025-04-24T09:21:14.867857Z"
    }
   },
   "cell_type": "code",
   "source": [
    "x = data.drop(['Type'], axis = 1, inplace = False)\n",
    "y = data['Type']\n"
   ],
   "id": "30f69a73902523c9",
   "outputs": [],
   "execution_count": 129
  },
  {
   "metadata": {
    "ExecuteTime": {
     "end_time": "2025-04-24T09:24:47.726341Z",
     "start_time": "2025-04-24T09:24:47.653957Z"
    }
   },
   "cell_type": "code",
   "source": [
    "from sklearn.neighbors import KNeighborsClassifier\n",
    "from sklearn.model_selection import cross_val_score, KFold\n",
    "\n",
    "model=KNeighborsClassifier(n_neighbors=3)\n",
    "kf = KFold(n_splits=5)\n",
    "\n",
    "res = cross_val_score(model, x, y, cv=kf, scoring=\"accuracy\").mean()\n",
    "\n",
    "round(res, 2)"
   ],
   "id": "e369e11a0d0c4a26",
   "outputs": [
    {
     "data": {
      "text/plain": [
       "0.37"
      ]
     },
     "execution_count": 152,
     "metadata": {},
     "output_type": "execute_result"
    }
   ],
   "execution_count": 152
  },
  {
   "metadata": {},
   "cell_type": "markdown",
   "source": [
    "# 7.13.4\n",
    "\n",
    "Предположим, к нам поступило новое стекло с известными параметрами. Какой номер класса присвоет ему наш алгоритм, если вектор признаков стекла [1.5, 12.3, 4.2, 1.3, 72.7, 0.57, 7.4, 0, 0] ?"
   ],
   "id": "5701a29e121093f9"
  },
  {
   "metadata": {
    "ExecuteTime": {
     "end_time": "2025-04-24T09:24:53.471712Z",
     "start_time": "2025-04-24T09:24:53.433335Z"
    }
   },
   "cell_type": "code",
   "source": [
    "x_new = pd.DataFrame([[1.5, 12.3, 4.2, 1.3, 72.7, 0.57, 7.4, 0, 0]])\n",
    "\n",
    "model.fit(x, y)\n",
    "\n",
    "model.predict(x_new)\n",
    "\n"
   ],
   "id": "afd04d5a3d2afbea",
   "outputs": [
    {
     "name": "stderr",
     "output_type": "stream",
     "text": [
      "C:\\PythonProject\\skillfactory мат анализ\\.venv1\\lib\\site-packages\\sklearn\\base.py:493: UserWarning: X does not have valid feature names, but KNeighborsClassifier was fitted with feature names\n",
      "  warnings.warn(\n"
     ]
    },
    {
     "data": {
      "text/plain": [
       "array([2], dtype=int64)"
      ]
     },
     "execution_count": 154,
     "metadata": {},
     "output_type": "execute_result"
    }
   ],
   "execution_count": 154
  }
 ],
 "metadata": {
  "kernelspec": {
   "display_name": "Python 3",
   "language": "python",
   "name": "python3"
  },
  "language_info": {
   "codemirror_mode": {
    "name": "ipython",
    "version": 2
   },
   "file_extension": ".py",
   "mimetype": "text/x-python",
   "name": "python",
   "nbconvert_exporter": "python",
   "pygments_lexer": "ipython2",
   "version": "2.7.6"
  }
 },
 "nbformat": 4,
 "nbformat_minor": 5
}
