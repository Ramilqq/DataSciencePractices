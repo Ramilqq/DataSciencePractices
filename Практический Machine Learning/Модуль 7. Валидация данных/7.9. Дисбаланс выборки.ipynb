{
 "cells": [
  {
   "metadata": {},
   "cell_type": "markdown",
   "source": [
    "<div class=\"xblock xblock-student_view xblock-student_view-html xmodule_display xmodule_HtmlBlock xblock-initialized\" data-course-id=\"course-v1:SkillFactory+MATML+ALWAYS\" data-mark-completed-on-view-after-delay=\"0\" data-init=\"XBlockToXModuleShim\" data-runtime-class=\"LmsRuntime\" data-runtime-version=\"1\" data-block-type=\"html\" data-usage-id=\"block-v1:SkillFactory+MATML+ALWAYS+type@html+block@f636722ec2674a148add08175fc89cfd\" data-request-token=\"6665cc62203e11f0a61fe60c9f047b94\" data-graded=\"True\" data-has-score=\"False\">\n",
    "\n",
    "\n",
    "<p><span style=\"color: #33b549;\"><strong>Несбалансированная выборка (imbalanced dataset)</strong></span> — выборка, в которой примеров каких-то классов намного больше, чем других. В случае регрессии <span style=\"color: #33b549;\"><strong>дисбалансом выборки</strong></span> будет ситуация, при которой распределение целевых значений будет сильно отличаться от равномерного.</p>\n",
    "<p><span style=\"color: #33b549;\"><strong>Что происходит при дисбалансе классов</strong></span>:</p>\n",
    "<ul>\n",
    "<ul>\n",
    "<li>У алгоритма появляется склонность к более популярным классам/значениям.</li>\n",
    "<li>Нельзя использовать метрики, не учитывающие веса классов, пример <span class=\"extended-text__short\">—</span> accuracy.</li>\n",
    "</ul>\n",
    "</ul>\n",
    "<p><span style=\"color: #33b549;\"><strong>Что делать:</strong></span></p>\n",
    "<ul>\n",
    "<ul>\n",
    "<li>Изменить целевую <span style=\"color: #33b549;\"><strong>метрику</strong></span> — в задачах классификации precision, recall, F1-score будут корректнее описывать алгоритм, чем accuracy.</li>\n",
    "<li>Изменить <span style=\"color: #33b549;\"><strong>выборку</strong></span> данных: <br><span style=\"color: #33b549;\"><strong>oversampling</strong></span> — увеличение количества объектов классов-меньшинств.<br><span style=\"color: #33b549;\"><strong>undersampling</strong></span> — сокращение количества объектов превалирующих классов.</li>\n",
    "<li>Добавить <strong><span style=\"color: #33b549;\">штраф</span></strong> в оптимизационный функционал, прямо пропорциональный количеству объектов каждого класса (веса классов).</li>\n",
    "<li>Возможно, есть смысл перейти к задачам <span style=\"color: #33b549;\"><strong>Anomaly detection</strong></span>.</li>\n",
    "</ul>\n",
    "</ul>\n",
    "<p></p>\n",
    "</div>"
   ],
   "id": "b60fd37304c86ad2"
  },
  {
   "metadata": {},
   "cell_type": "code",
   "outputs": [],
   "execution_count": null,
   "source": "",
   "id": "78ac456117c44f91"
  }
 ],
 "metadata": {
  "kernelspec": {
   "display_name": "Python 3",
   "language": "python",
   "name": "python3"
  },
  "language_info": {
   "codemirror_mode": {
    "name": "ipython",
    "version": 2
   },
   "file_extension": ".py",
   "mimetype": "text/x-python",
   "name": "python",
   "nbconvert_exporter": "python",
   "pygments_lexer": "ipython2",
   "version": "2.7.6"
  }
 },
 "nbformat": 4,
 "nbformat_minor": 5
}
