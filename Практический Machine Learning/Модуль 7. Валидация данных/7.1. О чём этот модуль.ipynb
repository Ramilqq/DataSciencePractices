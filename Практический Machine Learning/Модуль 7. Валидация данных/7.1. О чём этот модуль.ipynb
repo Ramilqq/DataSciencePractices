{
 "cells": [
  {
   "metadata": {},
   "cell_type": "markdown",
   "source": [
    "План модуля:\n",
    "\n",
    "1. Разбиение выборки.\n",
    "2. Метрики качества.\n",
    "3. Underfitting и overfitting.\n",
    "4. Дисбаланс выборки.\n",
    "5. Визуализация процесса обучения."
   ],
   "id": "814c993524b7c908"
  }
 ],
 "metadata": {
  "kernelspec": {
   "display_name": "Python 3",
   "language": "python",
   "name": "python3"
  },
  "language_info": {
   "codemirror_mode": {
    "name": "ipython",
    "version": 2
   },
   "file_extension": ".py",
   "mimetype": "text/x-python",
   "name": "python",
   "nbconvert_exporter": "python",
   "pygments_lexer": "ipython2",
   "version": "2.7.6"
  }
 },
 "nbformat": 4,
 "nbformat_minor": 5
}
