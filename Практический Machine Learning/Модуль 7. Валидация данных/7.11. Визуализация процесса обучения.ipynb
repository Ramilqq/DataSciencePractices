{
 "cells": [
  {
   "metadata": {},
   "cell_type": "markdown",
   "source": [
    "<div class=\"xblock xblock-student_view xblock-student_view-html xmodule_display xmodule_HtmlBlock xblock-initialized\" data-course-id=\"course-v1:SkillFactory+MATML+ALWAYS\" data-mark-completed-on-view-after-delay=\"0\" data-init=\"XBlockToXModuleShim\" data-runtime-class=\"LmsRuntime\" data-runtime-version=\"1\" data-block-type=\"html\" data-usage-id=\"block-v1:SkillFactory+MATML+ALWAYS+type@html+block@320c84e34edb4220976d9505bcdfc9d5\" data-request-token=\"4aabcc1820db11f087d40a8f232b4667\" data-graded=\"True\" data-has-score=\"False\">\n",
    "\n",
    "  <p></p>\n",
    "\n",
    "<p><br>Пример&nbsp;графика, который показывает ошибку модели в зависимости от времени — c течением времени обучения падает ошибка модели. Это то, к чему нужно стремиться.&nbsp;</p>\n",
    "<p><img src=\"//lms-cdn.skillfactory.ru/assets/courseware/v1/e30e55b7c694dbe69015f4a4e2e05f0d/asset-v1:SkillFactory+MATML+ALWAYS+type@asset+block/7.6_2.png\" width=\"550\"></p>\n",
    "<p><strong><span style=\"color: #33b549;\">Визуализация</span></strong> —&nbsp;полезный инструмент для отслеживания проблем в процессе обучения. Например, если график ошибки на валидации становится выше, чем график ошибки на обучении, то можно сказать, что модель переобучилась.&nbsp;</p>\n",
    "<p>В дальнейшем для визуализации вы можете использовать такие инструменты, как <strong><span style=\"color: #33b549;\">TensorBoard</span></strong> от Google. Это бесплатный инструмент, позволяющий в реальном времени смотреть на метрики обучения, показывать графики ошибок. С его помощью вы сможете сравнивать графики по разным моделям, чтобы получить представление о том, какая модель лучше&nbsp;или хуже справилась, и какие ошибки возникли на пути.&nbsp;</p>\n",
    "<p><img src=\"//lms-cdn.skillfactory.ru/assets/courseware/v1/925cd8d4a9de6d517cfa9bf4bc1a5745/asset-v1:SkillFactory+MATML+ALWAYS+type@asset+block/7.6_3.png\" width=\"750\"></p>\n",
    "<p></p>\n",
    "</div>"
   ],
   "id": "d4885a182bcb4a14"
  }
 ],
 "metadata": {
  "kernelspec": {
   "display_name": "Python 3",
   "language": "python",
   "name": "python3"
  },
  "language_info": {
   "codemirror_mode": {
    "name": "ipython",
    "version": 2
   },
   "file_extension": ".py",
   "mimetype": "text/x-python",
   "name": "python",
   "nbconvert_exporter": "python",
   "pygments_lexer": "ipython2",
   "version": "2.7.6"
  }
 },
 "nbformat": 4,
 "nbformat_minor": 5
}
