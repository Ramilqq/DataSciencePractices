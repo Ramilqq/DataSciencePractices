{
 "cells": [
  {
   "metadata": {
    "ExecuteTime": {
     "end_time": "2025-02-06T11:46:15.407418Z",
     "start_time": "2025-02-06T11:46:15.391503Z"
    }
   },
   "cell_type": "code",
   "source": [
    "import numpy as np\n",
    "import matplotlib.pyplot as plt\n",
    "from sklearn import datasets\n",
    "\n",
    "n_samples = 1500\n",
    "dataset = datasets.make_blobs(n_samples=n_samples, centers=2, center_box=(-7.0, 7.5),\n",
    "                              cluster_std=[1.4, 1.7],\n",
    "                              random_state=42)\n",
    "X_2, _ = datasets.make_blobs(n_samples=n_samples, random_state=170, centers=[[-4, -3]], cluster_std=[1.9])\n",
    "transformation = [[1.2, -0.8], [-0.4, 1.7]]\n",
    "X_2 = np.dot(X_2, transformation)\n",
    "X, y = np.concatenate((dataset[0], X_2)), np.concatenate((dataset[1], np.array([2] * len(X_2))))"
   ],
   "id": "66b53ae9af47b96f",
   "outputs": [],
   "execution_count": 25
  },
  {
   "metadata": {},
   "cell_type": "markdown",
   "source": "Однородность можно посчитать при помощи реализации из библиотеки sklearn:",
   "id": "b70540bae31eadbc"
  },
  {
   "metadata": {
    "ExecuteTime": {
     "end_time": "2025-02-06T11:36:59.540425Z",
     "start_time": "2025-02-06T11:36:59.411075Z"
    }
   },
   "cell_type": "code",
   "source": [
    "from sklearn.cluster import KMeans\n",
    "from sklearn.metrics.cluster import homogeneity_score\n",
    "from sklearn.preprocessing import StandardScaler\n",
    "\n",
    "\n",
    "# сначала получим предсказанные кластеры при помощи метода кластеризации\n",
    "kmeans = KMeans(n_clusters=3, random_state=42)\n",
    "X = StandardScaler().fit_transform(X)\n",
    "kmeans.fit(X)\n",
    "kmeans_pred = kmeans.labels_ # теперь посчитаем однородность\n",
    "homogeneity_score(labels_true=y, labels_pred=kmeans_pred)"
   ],
   "id": "3ee9b22f1aa15be8",
   "outputs": [
    {
     "data": {
      "text/plain": [
       "0.804474693112785"
      ]
     },
     "execution_count": 15,
     "metadata": {},
     "output_type": "execute_result"
    }
   ],
   "execution_count": 15
  },
  {
   "metadata": {},
   "cell_type": "markdown",
   "source": [
    "# Задание 4.12.1\n",
    "\n",
    "Сравните результаты кластеризации алгоритмов k-means, GaussianMixture, AgglomerativeClustering и DBSCAN на исходном датасете при помощи однородности, инициализируйте алгоритмы со следующими параметрами:\n",
    "\n",
    "k-means — n_clusters=3, random_state=42\n",
    "\n",
    "GaussianMixture — n_components=3, random_state=42\n",
    "\n",
    "AgglomerativeClustering — n_clusters=3\n",
    "\n",
    "DBSCAN — eps=0.9, min_samples=35\n",
    "\n",
    "В качестве ответа укажите максимальное значение однородности, полученное при помощи данных моделей. Ответ округлите до сотых и запишите с точкой.\n",
    "\n",
    "При решении задания модуля стандартизация должна быть включена."
   ],
   "id": "76d31de488164b15"
  },
  {
   "metadata": {
    "ExecuteTime": {
     "end_time": "2025-02-06T11:46:18.721488Z",
     "start_time": "2025-02-06T11:46:18.255716Z"
    }
   },
   "cell_type": "code",
   "source": [
    "    from sklearn.cluster import DBSCAN\n",
    "    from sklearn.cluster import AgglomerativeClustering\n",
    "    from sklearn.mixture import GaussianMixture\n",
    "    from sklearn.cluster import KMeans\n",
    "\n",
    "    #X = (X - X.mean(axis=0)) / X.std(axis=0)\n",
    "    X = StandardScaler().fit_transform(X)\n",
    "\n",
    "    kmeans = KMeans(n_clusters=3, random_state=42)\n",
    "    kmeans.fit(X)\n",
    "    y_pred = kmeans.labels_\n",
    "    cl1 = homogeneity_score(labels_true=y, labels_pred=y_pred)\n",
    "\n",
    "    gm = GaussianMixture(n_components=3, random_state=42)\n",
    "    y_pred = gm.fit_predict(X)\n",
    "    cl2 = homogeneity_score(labels_true=y, labels_pred=y_pred)\n",
    "\n",
    "    ac = AgglomerativeClustering(n_clusters=3)\n",
    "    y_pred = ac.fit_predict(X)\n",
    "    cl3 = homogeneity_score(labels_true=y, labels_pred=y_pred)\n",
    "\n",
    "    dbscan = DBSCAN(eps=0.9, min_samples=35)\n",
    "    dbscan.fit(X)\n",
    "    y_pred = dbscan.labels_\n",
    "    cl4 = homogeneity_score(labels_true=y, labels_pred=y_pred)\n",
    "\n",
    "    print(cl1, cl2, cl3, cl4)\n",
    "\n"
   ],
   "id": "c41244b0f201b50b",
   "outputs": [
    {
     "name": "stdout",
     "output_type": "stream",
     "text": [
      "0.804474693112785 0.9339791347507893 0.9099781767383747 0.00044465831964150197\n"
     ]
    }
   ],
   "execution_count": 26
  },
  {
   "metadata": {},
   "cell_type": "code",
   "outputs": [],
   "execution_count": null,
   "source": "",
   "id": "8a192d775819d476"
  }
 ],
 "metadata": {
  "kernelspec": {
   "display_name": "Python 3",
   "language": "python",
   "name": "python3"
  },
  "language_info": {
   "codemirror_mode": {
    "name": "ipython",
    "version": 2
   },
   "file_extension": ".py",
   "mimetype": "text/x-python",
   "name": "python",
   "nbconvert_exporter": "python",
   "pygments_lexer": "ipython2",
   "version": "2.7.6"
  }
 },
 "nbformat": 4,
 "nbformat_minor": 5
}
