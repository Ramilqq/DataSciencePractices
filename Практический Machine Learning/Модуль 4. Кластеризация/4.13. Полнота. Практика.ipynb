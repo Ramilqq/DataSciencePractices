{
 "cells": [
  {
   "cell_type": "code",
   "id": "initial_id",
   "metadata": {
    "collapsed": true,
    "ExecuteTime": {
     "end_time": "2025-02-06T11:49:27.528358Z",
     "start_time": "2025-02-06T11:49:25.666308Z"
    }
   },
   "source": [
    "import numpy as np\n",
    "import matplotlib.pyplot as plt\n",
    "from sklearn import datasets\n",
    "\n",
    "n_samples = 1500\n",
    "dataset = datasets.make_blobs(n_samples=n_samples, centers=2, center_box=(-7.0, 7.5),\n",
    "                              cluster_std=[1.4, 1.7],\n",
    "                              random_state=42)\n",
    "X_2, _ = datasets.make_blobs(n_samples=n_samples, random_state=170, centers=[[-4, -3]], cluster_std=[1.9])\n",
    "transformation = [[1.2, -0.8], [-0.4, 1.7]]\n",
    "X_2 = np.dot(X_2, transformation)\n",
    "X, y = np.concatenate((dataset[0], X_2)), np.concatenate((dataset[1], np.array([2] * len(X_2))))"
   ],
   "outputs": [],
   "execution_count": 1
  },
  {
   "metadata": {},
   "cell_type": "markdown",
   "source": "Полноту можно посчитать при помощи реализации из библиотеки sklearn:",
   "id": "3c409a949e8a10c"
  },
  {
   "metadata": {
    "ExecuteTime": {
     "end_time": "2025-02-06T11:49:40.759264Z",
     "start_time": "2025-02-06T11:49:40.520517Z"
    }
   },
   "cell_type": "code",
   "source": [
    "from sklearn.cluster import KMeans\n",
    "from sklearn.metrics.cluster import completeness_score\n",
    "\n",
    "# сначала получим предсказанные кластеры при помощи метода кластеризации\n",
    "kmeans = KMeans(n_clusters=3, random_state=42)\n",
    "kmeans.fit(X)\n",
    "kmeans_pred = kmeans.labels_\n",
    "\n",
    "# теперь посчитаем однородность\n",
    "completeness_score(labels_true=y, labels_pred=kmeans_pred)"
   ],
   "id": "a22d8678b1c57431",
   "outputs": [
    {
     "data": {
      "text/plain": [
       "0.7842373379017128"
      ]
     },
     "execution_count": 2,
     "metadata": {},
     "output_type": "execute_result"
    }
   ],
   "execution_count": 2
  },
  {
   "metadata": {},
   "cell_type": "markdown",
   "source": [
    "Задание 4.13.2\n",
    "\n",
    "Сравните результаты кластеризации алгоритмов K-means, GaussianMixture, AgglomerativeClustering и DBSCAN на исходном датасете при помощи полноты, инициализируйте алгоритмы со следующими параметрами:\n",
    "\n",
    "K-means – n_clusters=3, random_state=42\n",
    "\n",
    "GaussianMixture – n_components=3, random_state=42\n",
    "\n",
    "AgglomerativeClustering – n_clusters=3\n",
    "\n",
    "DBSCAN – eps=0.9, min_samples=35\n",
    "\n",
    "В качестве ответа укажите максимальное значение полноты, полученное при помощи данных моделей. Ответ округлите до сотых и запишите с точкой."
   ],
   "id": "84127fc89bd65b13"
  },
  {
   "metadata": {
    "ExecuteTime": {
     "end_time": "2025-02-06T11:50:28.114980Z",
     "start_time": "2025-02-06T11:50:27.902264Z"
    }
   },
   "cell_type": "code",
   "source": [
    "    from sklearn.cluster import DBSCAN\n",
    "    from sklearn.cluster import AgglomerativeClustering\n",
    "    from sklearn.mixture import GaussianMixture\n",
    "    from sklearn.cluster import KMeans\n",
    "\n",
    "    kmeans = KMeans(n_clusters=3, random_state=42)\n",
    "    kmeans.fit(X)\n",
    "    y_pred = kmeans.labels_\n",
    "    cl1 = completeness_score(labels_true=y, labels_pred=y_pred)\n",
    "\n",
    "    gm = GaussianMixture(n_components=3, random_state=42)\n",
    "    y_pred = gm.fit_predict(X)\n",
    "    cl2 = completeness_score(labels_true=y, labels_pred=y_pred)\n",
    "\n",
    "    ac = AgglomerativeClustering(n_clusters=3)\n",
    "    y_pred = ac.fit_predict(X)\n",
    "    cl3 = completeness_score(labels_true=y, labels_pred=y_pred)\n",
    "\n",
    "    dbscan = DBSCAN(eps=0.9, min_samples=35)\n",
    "    dbscan.fit(X)\n",
    "    y_pred = dbscan.labels_\n",
    "    cl4 = completeness_score(labels_true=y, labels_pred=y_pred)\n",
    "\n",
    "    print(cl1, cl2, cl3, cl4)\n",
    "\n"
   ],
   "id": "127c2e40a6d8fd15",
   "outputs": [
    {
     "name": "stdout",
     "output_type": "stream",
     "text": [
      "0.7842373379017128 0.9325740421656737 0.6901277117253529 0.6965554058940557\n"
     ]
    }
   ],
   "execution_count": 3
  }
 ],
 "metadata": {
  "kernelspec": {
   "display_name": "Python 3",
   "language": "python",
   "name": "python3"
  },
  "language_info": {
   "codemirror_mode": {
    "name": "ipython",
    "version": 2
   },
   "file_extension": ".py",
   "mimetype": "text/x-python",
   "name": "python",
   "nbconvert_exporter": "python",
   "pygments_lexer": "ipython2",
   "version": "2.7.6"
  }
 },
 "nbformat": 4,
 "nbformat_minor": 5
}
