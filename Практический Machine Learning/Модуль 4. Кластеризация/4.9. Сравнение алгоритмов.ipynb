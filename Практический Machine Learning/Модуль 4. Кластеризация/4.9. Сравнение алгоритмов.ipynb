{
 "cells": [
  {
   "metadata": {},
   "cell_type": "markdown",
   "source": [
    "<table border=\"1\">\n",
    "<tbody>\n",
    "<tr>\n",
    "<td><span style=\"color: #33b549;\"><strong>Метод</strong></span></td>\n",
    "<td><span style=\"color: #33b549;\"><strong>Параметры</strong></span></td>\n",
    "<td><span style=\"color: #33b549;\"><strong>Масштабируемость</strong></span></td>\n",
    "<td><span style=\"color: #33b549;\"><strong>Сценарий использования</strong></span></td>\n",
    "<td><span style=\"color: #33b549;\"><strong>Расстояние</strong></span></td>\n",
    "</tr>\n",
    "<tr>\n",
    "<td>K-Means</td>\n",
    "<td>Число кластеров</td>\n",
    "<td>Очень много объектов, среднее число кластеров</td>\n",
    "<td>Выпуклые, соизмеримые кластеры</td>\n",
    "<td>Евклидово</td>\n",
    "</tr>\n",
    "<tr>\n",
    "<td>EM-алгоритм на основе Gaussian Mixture</td>\n",
    "<td>Веса, векторы средних, матрицы ковариаций</td>\n",
    "<td>—</td>\n",
    "<td>Восстановление плотности, выпуклые кластеры</td>\n",
    "<td>Обобщение Евклидова расстояния</td>\n",
    "</tr>\n",
    "<tr>\n",
    "<td>Агломеративная кластеризация</td>\n",
    "<td>Число кластеров, связываемость, метрика</td>\n",
    "<td>Много объектов, много кластеров</td>\n",
    "<td>Много кластеров, нужно задавать функцию расстояния</td>\n",
    "<td>Любое для Евклидова — Уорд</td>\n",
    "</tr>\n",
    "<tr>\n",
    "<td>DBSCAN</td>\n",
    "<td>Радиус окружности,число соседей</td>\n",
    "<td>Много объектов, среднее число кластеров</td>\n",
    "<td>Неравные, невыпуклые кластеры, выбросы</td>\n",
    "<td>Евклидово</td>\n",
    "</tr>\n",
    "</tbody>\n",
    "</table>"
   ],
   "id": "509517779224f15a"
  }
 ],
 "metadata": {
  "kernelspec": {
   "display_name": "Python 3",
   "language": "python",
   "name": "python3"
  },
  "language_info": {
   "codemirror_mode": {
    "name": "ipython",
    "version": 2
   },
   "file_extension": ".py",
   "mimetype": "text/x-python",
   "name": "python",
   "nbconvert_exporter": "python",
   "pygments_lexer": "ipython2",
   "version": "2.7.6"
  }
 },
 "nbformat": 4,
 "nbformat_minor": 5
}
