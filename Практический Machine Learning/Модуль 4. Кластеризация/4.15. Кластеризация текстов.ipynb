{
 "cells": [
  {
   "cell_type": "markdown",
   "metadata": {
    "id": "m4swxWKdb2sL"
   },
   "source": [
    "# Кластеризация текстов"
   ]
  },
  {
   "cell_type": "code",
   "metadata": {
    "id": "MKKyqBfLb2sS",
    "ExecuteTime": {
     "end_time": "2025-02-06T12:08:08.655790Z",
     "start_time": "2025-02-06T12:08:08.628840Z"
    }
   },
   "source": [
    "import numpy as np\n",
    "import matplotlib.pyplot as plt\n",
    "\n",
    "from sklearn import metrics\n",
    "from sklearn.cluster import KMeans\n",
    "from sklearn.datasets import fetch_20newsgroups\n",
    "from sklearn.feature_extraction.text import CountVectorizer"
   ],
   "outputs": [],
   "execution_count": 4
  },
  {
   "cell_type": "code",
   "metadata": {
    "colab": {
     "base_uri": "https://localhost:8080/"
    },
    "id": "y986XeGbb2sU",
    "outputId": "e67fd3ac-715d-42d1-dfcf-c60e73f4f71f",
    "ExecuteTime": {
     "end_time": "2025-02-06T12:18:44.475567Z",
     "start_time": "2025-02-06T12:14:43.964271Z"
    }
   },
   "source": [
    "# Выбираем 4 категории новостей для легковесности примера\n",
    "categories = [\n",
    "    'rec.sport.hockey', # хоккей\n",
    "    'talk.politics.mideast', # политические новости о Ближнем Востоке\n",
    "    'comp.graphics', # компьютерная графика\n",
    "    'sci.crypt' # криптография\n",
    "]\n",
    "\n",
    "import ssl\n",
    "ssl._create_default_https_context = ssl._create_unverified_context\n",
    "\n",
    "# Скачиваем набор данных\n",
    "dataset = fetch_20newsgroups(subset='all', categories=categories,\n",
    "                             shuffle=True, random_state=42)\n",
    "\n",
    "print(\"%d документов\" % len(dataset.data))\n",
    "print(\"%d категории\" % len(dataset.target_names))\n",
    "\n",
    "# Записываем значения категорий для каждой новости\n",
    "labels = dataset.target"
   ],
   "outputs": [
    {
     "name": "stdout",
     "output_type": "stream",
     "text": [
      "3903 документов\n",
      "4 категории\n"
     ]
    }
   ],
   "execution_count": 6
  },
  {
   "cell_type": "markdown",
   "metadata": {
    "id": "l7WF38eFb2sV"
   },
   "source": [
    "## Предобработка данных"
   ]
  },
  {
   "cell_type": "code",
   "execution_count": null,
   "metadata": {
    "colab": {
     "base_uri": "https://localhost:8080/"
    },
    "id": "xj_s3sGpb2sV",
    "outputId": "c9e52c1d-4825-4be5-810c-d9d85b94ee3e"
   },
   "outputs": [],
   "source": [
    "# Исходный набор данных, первые 10 примеров\n",
    "for i in range(10):\n",
    "    print(dataset.data[i], end='\\n' + '*' * 50 + '\\n\\n')"
   ]
  },
  {
   "cell_type": "code",
   "execution_count": null,
   "metadata": {
    "colab": {
     "base_uri": "https://localhost:8080/"
    },
    "id": "sPHDwlK6b2sW",
    "outputId": "7d2b15ff-62ed-4777-884e-581c790cd3ea"
   },
   "outputs": [],
   "source": [
    "# Создаём объект, который будет токенизировать данные\n",
    "analyzer = CountVectorizer(stop_words='english').build_analyzer()\n",
    "\n",
    "# Токенизируем наш набор данных\n",
    "docs = []\n",
    "for document in dataset.data:\n",
    "    docs.append(analyzer(document.replace('_', '')))\n",
    "\n",
    "# И посмотрим 10 первых примеров\n",
    "for i in range(10):\n",
    "    print(docs[i], end='\\n\\n')"
   ]
  },
  {
   "cell_type": "code",
   "execution_count": null,
   "metadata": {
    "colab": {
     "base_uri": "https://localhost:8080/"
    },
    "id": "igJTO2Ysb2sX",
    "outputId": "5941366a-d2d4-4cae-a47a-471c63361fc9",
    "scrolled": true
   },
   "outputs": [],
   "source": [
    "# Проверим, что число документов осталось прежним\n",
    "len(docs)"
   ]
  },
  {
   "cell_type": "markdown",
   "metadata": {
    "id": "X27GZd-8b2sY"
   },
   "source": [
    "## Векторизация текстов"
   ]
  },
  {
   "cell_type": "code",
   "execution_count": null,
   "metadata": {},
   "outputs": [],
   "source": [
    "# Установка пакета gensim\n",
    "# !pip install -U gensim"
   ]
  },
  {
   "cell_type": "markdown",
   "metadata": {},
   "source": [
    "При работе в Google Colab обязательно нужно запустить код из ячейки выше, несмотря на то, что в Google Colab gensim уже предустановлен. Так gensim обновится до последней версии.  \n",
    "На данный момент в Google Colab уставнолена одна из прошлых версий модуля gensim, и поэтому на ней код ниже работать не будет."
   ]
  },
  {
   "cell_type": "code",
   "execution_count": null,
   "metadata": {
    "id": "qgqicmb7b2sZ"
   },
   "outputs": [],
   "source": [
    "from gensim.models import Word2Vec\n",
    "\n",
    "# Обучаем модель векторайзера на нашем наборе данных\n",
    "# На выходе мы получим вектор признаков для каждого слова\n",
    "model = Word2Vec(docs, min_count=20, vector_size=50)\n",
    "\n",
    "# Наивный подход к созданию единого эмбеддинга для документа – средний эмбеддинг по словам\n",
    "def doc_vectorizer(doc, model):\n",
    "    doc_vector = []\n",
    "    num_words = 0\n",
    "    for word in doc:\n",
    "        try:\n",
    "            if num_words == 0:\n",
    "                doc_vector = model.wv[word]\n",
    "            else:\n",
    "                doc_vector = np.add(doc_vector, model.wv[word])\n",
    "            num_words += 1\n",
    "        except:\n",
    "            pass\n",
    "     \n",
    "    return np.asarray(doc_vector) / num_words\n",
    "\n",
    "# Составляем эмбеддинги для наших документов\n",
    "X = []\n",
    "for doc in docs:\n",
    "    X.append(doc_vectorizer(doc, model))"
   ]
  },
  {
   "cell_type": "code",
   "execution_count": null,
   "metadata": {
    "colab": {
     "base_uri": "https://localhost:8080/"
    },
    "id": "9-ZvPfa2expv",
    "outputId": "c4a14c9d-b2d6-424e-9792-ac6758e2beff"
   },
   "outputs": [],
   "source": [
    "# Как выглядят первые 10 документов после векторизации \n",
    "X[:10]"
   ]
  },
  {
   "cell_type": "code",
   "execution_count": null,
   "metadata": {
    "colab": {
     "base_uri": "https://localhost:8080/"
    },
    "id": "WKOBa-p4b2sa",
    "outputId": "398b7a9d-cdb7-4ba8-8285-c7c342111e1c"
   },
   "outputs": [],
   "source": [
    "# Проверим размер вектора для документа\n",
    "print(np.asarray(X).shape)"
   ]
  },
  {
   "cell_type": "code",
   "execution_count": null,
   "metadata": {
    "colab": {
     "base_uri": "https://localhost:8080/"
    },
    "id": "O5UdbBRVb2sb",
    "outputId": "1dbfe974-f69a-481b-9ad7-e60b01236e91"
   },
   "outputs": [],
   "source": [
    "# t-SNE – метод понижения размерности\n",
    "from sklearn.manifold import TSNE\n",
    "\n",
    "# Создаём объект для выполнения t-SNE\n",
    "tsne = TSNE(n_components=2, random_state=0)\n",
    "\n",
    "# Преобразуем наши данные, понизив размерность с 50 до 2\n",
    "X = tsne.fit_transform(np.array(X))\n",
    "\n",
    "print(np.asarray(X).shape)"
   ]
  },
  {
   "cell_type": "markdown",
   "metadata": {
    "id": "01NHiYa9b2sb"
   },
   "source": [
    "## Кластеризация"
   ]
  },
  {
   "cell_type": "code",
   "execution_count": null,
   "metadata": {
    "colab": {
     "base_uri": "https://localhost:8080/"
    },
    "id": "BTgYBxfab2sb",
    "outputId": "b9d6a45a-e8dc-42f8-b2cb-20c572222bac"
   },
   "outputs": [],
   "source": [
    "# Создаём KMeans кластеризатор \n",
    "kmeans = KMeans(n_clusters=4)\n",
    "\n",
    "# Обучим кластеризатор на подготовленных данных\n",
    "kmeans.fit(X)"
   ]
  },
  {
   "cell_type": "code",
   "execution_count": null,
   "metadata": {
    "colab": {
     "base_uri": "https://localhost:8080/"
    },
    "id": "cOgDW8qkb2sc",
    "outputId": "22a52d86-52e4-48f3-d238-b6a52470681d"
   },
   "outputs": [],
   "source": [
    "# Получаем предсказанные кластеры\n",
    "y_pred = kmeans.labels_.astype(int)\n",
    "\n",
    "# Координаты полученных центроидов\n",
    "print (\"Координаты центроидов:\\n\", kmeans.cluster_centers_)"
   ]
  },
  {
   "cell_type": "code",
   "execution_count": null,
   "metadata": {
    "colab": {
     "base_uri": "https://localhost:8080/"
    },
    "id": "2vRpvl5Effqk",
    "outputId": "ab512ed0-fa70-4efb-e9db-d48b80f0b7a2"
   },
   "outputs": [],
   "source": [
    "# Метрики\n",
    "print (\"Коэффициент силуэта: %0.3f\" % metrics.silhouette_score(X, y_pred, metric='euclidean'))\n",
    "print(\"Однородность: %0.3f\" % metrics.homogeneity_score(labels, y_pred))\n",
    "print(\"Полнота: %0.3f\" % metrics.completeness_score(labels, y_pred))\n",
    "print(\"V-мера: %0.3f\" % metrics.v_measure_score(labels, y_pred))"
   ]
  },
  {
   "cell_type": "code",
   "execution_count": null,
   "metadata": {
    "colab": {
     "base_uri": "https://localhost:8080/",
     "height": 592
    },
    "id": "2AB8Fpc8f7MX",
    "outputId": "99e50dfd-a2d5-46d6-8973-21ce8b3006c6"
   },
   "outputs": [],
   "source": [
    "# Графики полученных кластеров\n",
    "plt.rcParams['figure.figsize'] = 10, 10\n",
    "plt.scatter(X[:, 0], X[:, 1], c=y_pred, s=200, alpha=.5)\n",
    "plt.scatter(kmeans.cluster_centers_[:, 0], kmeans.cluster_centers_[:, 1], c='red', s=200, marker='+')\n",
    "plt.show()"
   ]
  },
  {
   "cell_type": "code",
   "execution_count": null,
   "metadata": {
    "colab": {
     "base_uri": "https://localhost:8080/",
     "height": 592
    },
    "id": "WLx6LqRZb2sd",
    "outputId": "19876968-0763-48bd-9778-fa2faddc0030"
   },
   "outputs": [],
   "source": [
    "# Построим график истинных классов\n",
    "colors = (\"red\", \"green\", \"blue\", \"yellow\")\n",
    "\n",
    "for i in range(4):\n",
    "    plt.scatter(X[labels==i][:, 0], X[labels==i][:, 1], \\\n",
    "                s=200, alpha=.5, c=colors[i], label=dataset.target_names[i])\n",
    "    plt.legend(loc=2)\n",
    "\n",
    "plt.show()"
   ]
  }
 ],
 "metadata": {
  "colab": {
   "collapsed_sections": [],
   "name": "TextClustering.ipynb",
   "provenance": []
  },
  "kernelspec": {
   "display_name": "Python 3",
   "language": "python",
   "name": "python3"
  },
  "language_info": {
   "codemirror_mode": {
    "name": "ipython",
    "version": 3
   },
   "file_extension": ".py",
   "mimetype": "text/x-python",
   "name": "python",
   "nbconvert_exporter": "python",
   "pygments_lexer": "ipython3",
   "version": "3.11.1"
  }
 },
 "nbformat": 4,
 "nbformat_minor": 0
}
