{
 "cells": [
  {
   "metadata": {},
   "cell_type": "markdown",
   "source": [
    "# Коэффициент силуэта.\n",
    "## Практика\n",
    "В задачах используется датасет из прошлого модуля:"
   ],
   "id": "217716afd4a7da1c"
  },
  {
   "cell_type": "code",
   "id": "initial_id",
   "metadata": {
    "collapsed": true,
    "ExecuteTime": {
     "end_time": "2025-02-04T12:44:15.883856Z",
     "start_time": "2025-02-04T12:44:15.869674Z"
    }
   },
   "source": [
    "import numpy as np\n",
    "import matplotlib.pyplot as plt\n",
    "from sklearn import datasets\n",
    "\n",
    "n_samples = 1500\n",
    "dataset = datasets.make_blobs(n_samples=n_samples, centers=2, center_box=(-7.0, 7.5),\n",
    "                              cluster_std=[1.4, 1.7],\n",
    "                              random_state=42)\n",
    "X_2, _ = datasets.make_blobs(n_samples=n_samples, random_state=170, centers=[[-4, -3]], cluster_std=[1.9])\n",
    "transformation = [[1.2, -0.8], [-0.4, 1.7]]\n",
    "X_2 = np.dot(X_2, transformation)\n",
    "X, y = np.concatenate((dataset[0], X_2)), np.concatenate((dataset[1], np.array([2] * len(X_2))))"
   ],
   "outputs": [],
   "execution_count": 5
  },
  {
   "metadata": {},
   "cell_type": "markdown",
   "source": "Коэффициент силуэта можно посчитать при помощи реализации из библиотеки sklearn:",
   "id": "1499517afbf38ee2"
  },
  {
   "metadata": {
    "ExecuteTime": {
     "end_time": "2025-02-04T12:41:39.310172Z",
     "start_time": "2025-02-04T12:41:38.917114Z"
    }
   },
   "cell_type": "code",
   "source": [
    "from sklearn.cluster import KMeans\n",
    "from sklearn.metrics import silhouette_score\n",
    "\n",
    "# сначала получим предсказанные кластеры при помощи метода кластеризации\n",
    "kmeans = KMeans(n_clusters=3, random_state=42)\n",
    "kmeans.fit(X)\n",
    "kmeans_pred = kmeans.labels_\n",
    "\n",
    "# теперь посчитаем коэффициент силуэта\n",
    "silhouette_score(X=X, labels=kmeans_pred, metric='euclidean')"
   ],
   "id": "5ead8813dc46d326",
   "outputs": [
    {
     "data": {
      "text/plain": [
       "0.5131209788437305"
      ]
     },
     "execution_count": 2,
     "metadata": {},
     "output_type": "execute_result"
    }
   ],
   "execution_count": 2
  },
  {
   "metadata": {},
   "cell_type": "markdown",
   "source": [
    "# Задание 4.11.1\n",
    "\n",
    "Обучите модель GaussianMixture с параметрами n_components=3 и random_state=42 на признаках исходного датасета. Посчитайте коэффициент силуэта для получившейся кластеризации. Ответ округлите до десятых и запишите с точкой."
   ],
   "id": "cd1536b0a5e2b8e2"
  },
  {
   "metadata": {
    "ExecuteTime": {
     "end_time": "2025-02-04T12:44:36.974803Z",
     "start_time": "2025-02-04T12:44:36.474712Z"
    }
   },
   "cell_type": "code",
   "source": [
    "from sklearn.mixture import GaussianMixture\n",
    "\n",
    "gm = GaussianMixture(n_components=3, random_state=42)\n",
    "\n",
    "gm.fit(X)\n",
    "y_pred = gm.predict(X)\n",
    "\n",
    "# теперь посчитаем коэффициент силуэта\n",
    "silhouette_score(X=X, labels=y_pred, metric='euclidean')\n"
   ],
   "id": "ca73dd4ab13bb9e7",
   "outputs": [
    {
     "data": {
      "text/plain": [
       "0.49893287606943293"
      ]
     },
     "execution_count": 7,
     "metadata": {},
     "output_type": "execute_result"
    }
   ],
   "execution_count": 7
  },
  {
   "metadata": {},
   "cell_type": "markdown",
   "source": [
    "# Задание 4.11.2\n",
    "\n",
    "Сравните результаты кластеризации четырёх рассмотренных алгоритмов на исходном датасете при помощи коэффициента силуэта, инициализируйте алгоритмы со следующими параметрами:\n",
    "\n",
    "K-means — n_clusters=3, random_state=42\n",
    "EM-алгоритм (GaussianMixture) — n_components=3, random_state=42\n",
    "Агломеративная кластеризация – n_clusters=3\n",
    "DBSCAN – eps=0.9, min_samples=35\n",
    "Укажите максимальное значение коэффициента силуэта, полученное при помощи данных моделей. Ответ округлите до сотых и запишите с точкой."
   ],
   "id": "2e81315c1883f1fc"
  },
  {
   "metadata": {
    "ExecuteTime": {
     "end_time": "2025-02-04T12:50:01.665170Z",
     "start_time": "2025-02-04T12:50:01.461883Z"
    }
   },
   "cell_type": "code",
   "source": [
    "from sklearn.cluster import KMeans\n",
    "from sklearn.metrics import silhouette_score\n",
    "\n",
    "# сначала получим предсказанные кластеры при помощи метода кластеризации\n",
    "kmeans = KMeans(n_clusters=3, random_state=42)\n",
    "kmeans.fit(X)\n",
    "kmeans_pred = kmeans.labels_\n",
    "\n",
    "# теперь посчитаем коэффициент силуэта\n",
    "silhouette_score(X=X, labels=kmeans_pred, metric='euclidean')"
   ],
   "id": "3b4e5ef2e03df856",
   "outputs": [
    {
     "data": {
      "text/plain": [
       "0.5131209788437305"
      ]
     },
     "execution_count": 19,
     "metadata": {},
     "output_type": "execute_result"
    }
   ],
   "execution_count": 19
  },
  {
   "metadata": {
    "ExecuteTime": {
     "end_time": "2025-02-04T12:49:59.880608Z",
     "start_time": "2025-02-04T12:49:59.698569Z"
    }
   },
   "cell_type": "code",
   "source": [
    "from sklearn.mixture import GaussianMixture\n",
    "\n",
    "gm = GaussianMixture(n_components=3, random_state=42)\n",
    "\n",
    "gm.fit(X)\n",
    "y_pred = gm.predict(X)\n",
    "\n",
    "# теперь посчитаем коэффициент силуэта\n",
    "silhouette_score(X=X, labels=y_pred, metric='euclidean')"
   ],
   "id": "e3251e9c1dbef6a4",
   "outputs": [
    {
     "data": {
      "text/plain": [
       "0.49893287606943293"
      ]
     },
     "execution_count": 18,
     "metadata": {},
     "output_type": "execute_result"
    }
   ],
   "execution_count": 18
  },
  {
   "metadata": {
    "ExecuteTime": {
     "end_time": "2025-02-04T12:49:56.094227Z",
     "start_time": "2025-02-04T12:49:55.816888Z"
    }
   },
   "cell_type": "code",
   "source": [
    "from sklearn.neighbors import kneighbors_graph\n",
    "from sklearn.cluster import AgglomerativeClustering\n",
    "\n",
    "ac = AgglomerativeClustering(n_clusters=3)\n",
    "\n",
    "y_pred = ac.fit_predict(X)\n",
    "\n",
    "# теперь посчитаем коэффициент силуэта\n",
    "silhouette_score(X=X, labels=y_pred, metric='euclidean')"
   ],
   "id": "6429d546f9bfa148",
   "outputs": [
    {
     "data": {
      "text/plain": [
       "0.4811992210663849"
      ]
     },
     "execution_count": 16,
     "metadata": {},
     "output_type": "execute_result"
    }
   ],
   "execution_count": 16
  },
  {
   "metadata": {
    "ExecuteTime": {
     "end_time": "2025-02-04T12:49:57.964897Z",
     "start_time": "2025-02-04T12:49:57.785562Z"
    }
   },
   "cell_type": "code",
   "source": [
    "from sklearn.cluster import DBSCAN\n",
    "\n",
    "dbscan = DBSCAN(eps=0.9, min_samples=35)\n",
    "\n",
    "dbscan.fit(X)\n",
    "\n",
    "y_pred = dbscan.labels_\n",
    "\n",
    "# теперь посчитаем коэффициент силуэта\n",
    "silhouette_score(X=X, labels=y_pred, metric='euclidean')"
   ],
   "id": "e5dd7079b87fa03d",
   "outputs": [
    {
     "data": {
      "text/plain": [
       "0.4454335539277996"
      ]
     },
     "execution_count": 17,
     "metadata": {},
     "output_type": "execute_result"
    }
   ],
   "execution_count": 17
  },
  {
   "metadata": {},
   "cell_type": "markdown",
   "source": [
    "# Задание 4.11.3\n",
    "\n",
    "Подберите оптимальное количество кластеров с помощью коэффициента силуэта. Для этого найдите такое число кластеров, при котором значение коэффициента будет максимальным.\n",
    "\n",
    "В трёх из рассмотренных нами алгоритмов необходимо задать число кластеров при инициализации: K-means, EM-алгоритм и агломеративная кластеризация.\n",
    "\n",
    "Найдите значение коэффициента силуэта для данных алгоритмов при числе кластеров от 2 до 10 включительно. Для K-means и EM-алгоритма установите значение random_state=42.\n",
    "\n",
    "В качестве ответа через пробел введите число кластеров, при котором значение коэффициента силуэта для результатов кластеризации было наибольшим для каждого из алгоритмов. Вводите в следующем порядке: K-means, EM-алгоритм, агломеративная кластеризация."
   ],
   "id": "a2c1d9a527da335b"
  },
  {
   "metadata": {
    "ExecuteTime": {
     "end_time": "2025-02-04T12:59:33.486142Z",
     "start_time": "2025-02-04T12:59:27.334086Z"
    }
   },
   "cell_type": "code",
   "source": [
    "for i in range(2, 11):\n",
    "    print('claster',i)\n",
    "\n",
    "\n",
    "    kmeans = KMeans(n_clusters=i, random_state=42)\n",
    "    kmeans.fit(X)\n",
    "    kmeans_pred = kmeans.labels_\n",
    "    # теперь посчитаем коэффициент силуэта\n",
    "    cl1 = silhouette_score(X=X, labels=kmeans_pred, metric='euclidean')\n",
    "\n",
    "    gm = GaussianMixture(n_components=i, random_state=42)\n",
    "    y_pred = gm.fit_predict(X)\n",
    "    # теперь посчитаем коэффициент силуэта\n",
    "    cl2 = silhouette_score(X=X, labels=y_pred, metric='euclidean')\n",
    "\n",
    "    ac = AgglomerativeClustering(n_clusters=i)\n",
    "    y_pred = ac.fit_predict(X)\n",
    "    # теперь посчитаем коэффициент силуэта\n",
    "    cl3 = silhouette_score(X=X, labels=y_pred, metric='euclidean')\n",
    "\n",
    "\n",
    "    print(cl1,cl2,cl3)\n",
    "\n",
    "\n"
   ],
   "id": "98f19672f1730147",
   "outputs": [
    {
     "name": "stdout",
     "output_type": "stream",
     "text": [
      "claster 2\n",
      "0.4553109501667062 0.45506572865005773 0.40560374862968174\n",
      "claster 3\n",
      "0.5131209788437305 0.49893287606943293 0.4811992210663849\n",
      "claster 4\n",
      "0.5114911234090096 0.510682306926087 0.48470679039805054\n",
      "claster 5\n",
      "0.48124147837648434 0.481377079675046 0.4732978942735451\n",
      "claster 6\n",
      "0.4617161738600555 0.462912077774331 0.4360547281175275\n",
      "claster 7\n",
      "0.39702814018472976 0.44345594385628 0.3610107002721555\n",
      "claster 8\n",
      "0.33335049057121036 0.32796642598251413 0.3470279907723165\n",
      "claster 9\n",
      "0.3295856272928711 0.3096981122180304 0.27831000812401474\n",
      "claster 10\n",
      "0.3325217295314097 0.30558600896830485 0.281314682459535\n"
     ]
    }
   ],
   "execution_count": 28
  }
 ],
 "metadata": {
  "kernelspec": {
   "display_name": "Python 3",
   "language": "python",
   "name": "python3"
  },
  "language_info": {
   "codemirror_mode": {
    "name": "ipython",
    "version": 2
   },
   "file_extension": ".py",
   "mimetype": "text/x-python",
   "name": "python",
   "nbconvert_exporter": "python",
   "pygments_lexer": "ipython2",
   "version": "2.7.6"
  }
 },
 "nbformat": 4,
 "nbformat_minor": 5
}
