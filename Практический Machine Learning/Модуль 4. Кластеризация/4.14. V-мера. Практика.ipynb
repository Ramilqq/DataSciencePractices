{
 "cells": [
  {
   "cell_type": "code",
   "id": "initial_id",
   "metadata": {
    "collapsed": true,
    "ExecuteTime": {
     "end_time": "2025-02-06T11:51:05.306428Z",
     "start_time": "2025-02-06T11:51:03.171190Z"
    }
   },
   "source": [
    "import numpy as np\n",
    "import matplotlib.pyplot as plt\n",
    "from sklearn import datasets\n",
    "\n",
    "n_samples = 1500\n",
    "dataset = datasets.make_blobs(n_samples=n_samples, centers=2, center_box=(-7.0, 7.5),\n",
    "                              cluster_std=[1.4, 1.7],\n",
    "                              random_state=42)\n",
    "X_2, _ = datasets.make_blobs(n_samples=n_samples, random_state=170, centers=[[-4, -3]], cluster_std=[1.9])\n",
    "transformation = [[1.2, -0.8], [-0.4, 1.7]]\n",
    "X_2 = np.dot(X_2, transformation)\n",
    "X, y = np.concatenate((dataset[0], X_2)), np.concatenate((dataset[1], np.array([2] * len(X_2))))"
   ],
   "outputs": [],
   "execution_count": 1
  },
  {
   "metadata": {},
   "cell_type": "markdown",
   "source": "V-меру можно посчитать при помощи реализации из библиотеки sklearn:",
   "id": "c4aeab021a4c8f2c"
  },
  {
   "metadata": {
    "ExecuteTime": {
     "end_time": "2025-02-06T11:51:18.669074Z",
     "start_time": "2025-02-06T11:51:18.460578Z"
    }
   },
   "cell_type": "code",
   "source": [
    "from sklearn.cluster import KMeans\n",
    "from sklearn.metrics.cluster import v_measure_score\n",
    "\n",
    "# сначала получим предсказанные кластеры при помощи метода кластеризации\n",
    "kmeans = KMeans(n_clusters=3, random_state=42)\n",
    "kmeans.fit(X)\n",
    "kmeans_pred = kmeans.labels_\n",
    "\n",
    "# теперь посчитаем однородность\n",
    "v_measure_score(labels_true=y, labels_pred=kmeans_pred)"
   ],
   "id": "5e2d2d5f3704dfcd",
   "outputs": [
    {
     "data": {
      "text/plain": [
       "0.795592702456356"
      ]
     },
     "execution_count": 2,
     "metadata": {},
     "output_type": "execute_result"
    }
   ],
   "execution_count": 2
  },
  {
   "metadata": {},
   "cell_type": "markdown",
   "source": [
    "Задание 4.14.1\n",
    "\n",
    "Обучите модель GaussianMixture с параметрами n_components=3 и random_state=42 на признаках исходного датасета. Посчитайте v-меру для получившейся кластеризации. Ответ округлите до сотых и запишите с точкой."
   ],
   "id": "2b4c5fc057b296b6"
  },
  {
   "metadata": {
    "ExecuteTime": {
     "end_time": "2025-02-06T11:55:35.666039Z",
     "start_time": "2025-02-06T11:55:35.587513Z"
    }
   },
   "cell_type": "code",
   "source": [
    "from sklearn.cluster import DBSCAN\n",
    "from sklearn.cluster import AgglomerativeClustering\n",
    "from sklearn.mixture import GaussianMixture\n",
    "from sklearn.cluster import KMeans\n",
    "\n",
    "gm = GaussianMixture(n_components=3, random_state=42)\n",
    "y_pred = gm.fit_predict(X)\n",
    "cl2 = v_measure_score(labels_true=y, labels_pred=y_pred)\n",
    "\n",
    "cl2\n",
    "\n"
   ],
   "id": "c25a88fe844b68c1",
   "outputs": [
    {
     "data": {
      "text/plain": [
       "0.9332760595996924"
      ]
     },
     "execution_count": 5,
     "metadata": {},
     "output_type": "execute_result"
    }
   ],
   "execution_count": 5
  },
  {
   "metadata": {},
   "cell_type": "markdown",
   "source": [
    "Задание 4.14.2\n",
    "\n",
    "Сравните результаты кластеризации алгоритмов K-means, GaussianMixture, AgglomerativeClustering и DBSCAN на исходном датасете при помощи v-меры, инициализируйте алгоритмы со следующими параметрами:\n",
    "\n",
    "K-means – n_clusters=3, random_state=42\n",
    "\n",
    "GaussianMixture – n_components=3, random_state=42\n",
    "\n",
    "AgglomerativeClustering – n_clusters=3\n",
    "\n",
    "DBSCAN – eps=0.9, min_samples=35\n",
    "\n",
    "В качестве ответа укажите максимальное значение v-меры, полученное при помощи данных моделей. Ответ округлите до сотых и запишите с точкой."
   ],
   "id": "2d425f85fc55d2ec"
  },
  {
   "metadata": {
    "ExecuteTime": {
     "end_time": "2025-02-06T11:56:24.720880Z",
     "start_time": "2025-02-06T11:56:24.393482Z"
    }
   },
   "cell_type": "code",
   "source": [
    "    from sklearn.cluster import DBSCAN\n",
    "    from sklearn.cluster import AgglomerativeClustering\n",
    "    from sklearn.mixture import GaussianMixture\n",
    "    from sklearn.cluster import KMeans\n",
    "\n",
    "    #X = (X - X.mean(axis=0)) / X.std(axis=0)\n",
    "    #X = StandardScaler().fit_transform(X)\n",
    "\n",
    "    kmeans = KMeans(n_clusters=3, random_state=42)\n",
    "    kmeans.fit(X)\n",
    "    y_pred = kmeans.labels_\n",
    "    cl1 = v_measure_score(labels_true=y, labels_pred=y_pred)\n",
    "\n",
    "    gm = GaussianMixture(n_components=3, random_state=42)\n",
    "    y_pred = gm.fit_predict(X)\n",
    "    cl2 = v_measure_score(labels_true=y, labels_pred=y_pred)\n",
    "\n",
    "    ac = AgglomerativeClustering(n_clusters=3)\n",
    "    y_pred = ac.fit_predict(X)\n",
    "    cl3 = v_measure_score(labels_true=y, labels_pred=y_pred)\n",
    "\n",
    "    dbscan = DBSCAN(eps=0.9, min_samples=35)\n",
    "    dbscan.fit(X)\n",
    "    y_pred = dbscan.labels_\n",
    "    cl4 = v_measure_score(labels_true=y, labels_pred=y_pred)\n",
    "\n",
    "    print(cl1, cl2, cl3, cl4)\n",
    "\n"
   ],
   "id": "ffc09396f0390871",
   "outputs": [
    {
     "name": "stdout",
     "output_type": "stream",
     "text": [
      "0.795592702456356 0.9332760595996924 0.703747024360433 0.7732549110297919\n"
     ]
    }
   ],
   "execution_count": 6
  },
  {
   "metadata": {},
   "cell_type": "markdown",
   "source": [
    "Задание 4.14.3\n",
    "\n",
    "Сравним модификации K-means с использованием случайной инициализации центроид и с использованием алгоритма K-means++ для инициализации центроид.\n",
    "\n",
    "Для этого обучим на исходном датасете 2 модели K-means со следующими параметрами:\n",
    "\n",
    "n_clusters=3, init='k-means++', n_init=1, random_state=42\n",
    "\n",
    "n_clusters=3, init='random', n_init=1, random_state=42\n",
    "\n",
    "В качестве ответа укажите максимальное значение v-меры, полученное при помощи данных моделей. Ответ округлите до сотых и запишите с точкой."
   ],
   "id": "60e484e78f81f026"
  },
  {
   "metadata": {
    "ExecuteTime": {
     "end_time": "2025-02-06T11:58:39.254067Z",
     "start_time": "2025-02-06T11:58:39.099935Z"
    }
   },
   "cell_type": "code",
   "source": [
    "from sklearn.cluster import DBSCAN\n",
    "from sklearn.cluster import AgglomerativeClustering\n",
    "from sklearn.mixture import GaussianMixture\n",
    "from sklearn.cluster import KMeans\n",
    "\n",
    "#X = (X - X.mean(axis=0)) / X.std(axis=0)\n",
    "#X = StandardScaler().fit_transform(X)\n",
    "\n",
    "\n",
    "kmeans = KMeans(n_clusters=3, init='k-means++', n_init=1, random_state=42)\n",
    "kmeans.fit(X)\n",
    "y_pred = kmeans.labels_\n",
    "cl1 = v_measure_score(labels_true=y, labels_pred=y_pred)\n",
    "\n",
    "kmeans = KMeans(n_clusters=3, init='random', n_init=1, random_state=42)\n",
    "kmeans.fit(X)\n",
    "y_pred = kmeans.labels_\n",
    "cl2 = v_measure_score(labels_true=y, labels_pred=y_pred)\n",
    "\n",
    "print(cl1, cl2)\n"
   ],
   "id": "d704a25168de38c1",
   "outputs": [
    {
     "name": "stdout",
     "output_type": "stream",
     "text": [
      "0.7911556191133551 0.5990620007488798\n"
     ]
    }
   ],
   "execution_count": 8
  },
  {
   "metadata": {},
   "cell_type": "markdown",
   "source": [
    "Задание 4.14.4\n",
    "\n",
    "Теперь сравним K-means с ещё одной модификацией – K-means mini batch. Воспользоваться реализацией K-means mini batch в библиотеке sklearn можно следующим образом:"
   ],
   "id": "7cde2a9a1fb38209"
  },
  {
   "metadata": {
    "ExecuteTime": {
     "end_time": "2025-02-06T12:01:41.366856Z",
     "start_time": "2025-02-06T12:01:41.260645Z"
    }
   },
   "cell_type": "code",
   "source": [
    "from sklearn.cluster import MiniBatchKMeans\n",
    "from sklearn.cluster import KMeans\n",
    "\n",
    "\n",
    "kmeans_mini_batch = KMeans(n_clusters=3, n_init=1, random_state=42)\n",
    "kmeans_mini_batch.fit(X)\n",
    "kmeans_mini_batch_pred = kmeans_mini_batch.labels_\n",
    "cl1 = v_measure_score(labels_true=y, labels_pred=kmeans_mini_batch_pred)\n",
    "print(cl1)\n",
    "\n",
    "kmeans_mini_batch = MiniBatchKMeans(n_clusters=3, n_init=1, random_state=42)\n",
    "kmeans_mini_batch.fit(X)\n",
    "kmeans_mini_batch_pred = kmeans_mini_batch.labels_\n",
    "cl1 = v_measure_score(labels_true=y, labels_pred=kmeans_mini_batch_pred)\n",
    "print(cl1)\n",
    "\n"
   ],
   "id": "d98a36694ae28b16",
   "outputs": [
    {
     "name": "stdout",
     "output_type": "stream",
     "text": [
      "0.7911556191133551\n",
      "0.7839131923434078\n"
     ]
    }
   ],
   "execution_count": 11
  },
  {
   "metadata": {},
   "cell_type": "markdown",
   "source": [
    "Рассмотрим агломеративную кластеризацию. Сравним, как влияет на качество кластеризации разный тип расстояния между кластерами.\n",
    "\n",
    "Обучите на исходном датасете четыре модели AgglomerativeClustering с параметром n_clusters=3, меняя параметр linkage.\n",
    "\n",
    "В качестве ответа укажите максимальное значение v-меры, полученное при помощи данных моделей. В задании может понадобиться, а может не понадобиться нормализация и это нужно проверить во время решения задания. Ответ округлите до десятых и запишите с точкой."
   ],
   "id": "dfdceffbeb6b35c1"
  },
  {
   "metadata": {
    "ExecuteTime": {
     "end_time": "2025-02-06T12:06:43.170514Z",
     "start_time": "2025-02-06T12:06:42.244950Z"
    }
   },
   "cell_type": "code",
   "source": [
    "from sklearn.cluster import AgglomerativeClustering\n",
    "\n",
    "for i in ['ward', 'complete', 'average', 'single']:\n",
    "    ac = AgglomerativeClustering(n_clusters=3, linkage=i)\n",
    "    y_pred = ac.fit_predict(X)\n",
    "    cl3 = v_measure_score(labels_true=y, labels_pred=y_pred)\n",
    "    print(cl3)\n"
   ],
   "id": "1802dded2b4893f4",
   "outputs": [
    {
     "name": "stdout",
     "output_type": "stream",
     "text": [
      "0.703747024360433\n",
      "0.4105143541946565\n",
      "0.539161632594271\n",
      "0.0008842106330108959\n"
     ]
    }
   ],
   "execution_count": 14
  }
 ],
 "metadata": {
  "kernelspec": {
   "display_name": "Python 3",
   "language": "python",
   "name": "python3"
  },
  "language_info": {
   "codemirror_mode": {
    "name": "ipython",
    "version": 2
   },
   "file_extension": ".py",
   "mimetype": "text/x-python",
   "name": "python",
   "nbconvert_exporter": "python",
   "pygments_lexer": "ipython2",
   "version": "2.7.6"
  }
 },
 "nbformat": 4,
 "nbformat_minor": 5
}
