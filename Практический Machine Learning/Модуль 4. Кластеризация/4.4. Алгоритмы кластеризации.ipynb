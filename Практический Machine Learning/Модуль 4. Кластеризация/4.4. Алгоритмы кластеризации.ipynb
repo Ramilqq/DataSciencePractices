{
 "cells": [
  {
   "metadata": {},
   "cell_type": "markdown",
   "source": [
    "Рассмотрим четыре основных алгоритма кластеризации:\n",
    "\n",
    "1. k-means;\n",
    "2. EM-алгоритм;\n",
    "3. DBSCAN;\n",
    "4. агломеративная кластеризация."
   ],
   "id": "21fdd801cb674eb6"
  }
 ],
 "metadata": {
  "kernelspec": {
   "display_name": "Python 3",
   "language": "python",
   "name": "python3"
  },
  "language_info": {
   "codemirror_mode": {
    "name": "ipython",
    "version": 2
   },
   "file_extension": ".py",
   "mimetype": "text/x-python",
   "name": "python",
   "nbconvert_exporter": "python",
   "pygments_lexer": "ipython2",
   "version": "2.7.6"
  }
 },
 "nbformat": 4,
 "nbformat_minor": 5
}
