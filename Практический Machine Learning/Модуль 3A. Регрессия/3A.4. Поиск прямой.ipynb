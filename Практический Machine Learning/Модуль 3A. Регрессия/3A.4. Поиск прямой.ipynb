{
 "cells": [
  {
   "cell_type": "code",
   "execution_count": null,
   "id": "initial_id",
   "metadata": {
    "collapsed": true
   },
   "outputs": [],
   "source": [
    ""
   ]
  },
  {
   "metadata": {},
   "cell_type": "markdown",
   "source": [
    "Из-за проблем предыдущего метода на практике можно использовать метод оптимизации, который мы изучали ранее — градиентный спуск. То, что мы оптимизируем, выглядит так:\n",
    "\n",
    "L(X;\\beta )=\\frac{1}{n}\\sum_{1}^{n}(x_i^T\\beta -y_i)^{2}\n",
    "\n",
    "Теперь посчитаем градиент:\n",
    "\n",
    "\\begin{equation}\\begin{array}{l} L(X ; \\beta)=\\frac{1}{n} \\sum_{1}^{n}\\left(x_{i}^{T} \\beta-y_{i}\\right)^{2}=\\frac{1}{n} \\sum_{i=1}^{n}\\left(\\left(x_{i}^{T} \\beta\\right)^{2}-2\\left(x_{i}^{T} \\beta\\right) y_{i}+y_{i}^{2}\\right) \\\\ \\frac{d L}{d \\beta_{j}}=\\frac{1}{n} \\sum_{i=1}^{n}\\left(2 x_{i j}^{2} \\beta_{j}-2 x_{i j} y_{i}\\right)=\\frac{1}{n} \\sum_{i=1}^{n} 2 x_{i j}\\left(x_{i j}\\beta_{j}-y_{i}\\right) \\\\ \\nabla_{\\beta} L=\\frac{1}{n} \\sum_{i=1}^{n} 2 x_{i}^{T}\\left(x_{i}\\beta-y_{i}\\right) \\end{array}\\end{equation}\n",
    "\n",
    "Изменим значения параметров на каждом шаге оптимизации в соответствии с формулой градиентного спуска:\n",
    "\n",
    "\\begin{equation}\\beta^{(k)}=\\beta^{(k-1)}-\\alpha \\cdot \\frac{1}{n} \\sum_{i=1}^{n} 2 x_{i}^{T}\\left(x_{i}\\beta^{(k-1)}-y_{i}\\right)\\end{equation}\n",
    "\n",
    "\n",
    "\n",
    "где  \\beta^{(k-1)} — вектор,y_i а  — число;\n",
    "\n",
    "(\\beta^{(k-1)} - y_i)\n",
    "\n",
    "## Коэффициент детерминации\n",
    "это доля дисперсии зависимой переменной, объясняемая рассматриваемой моделью зависимости. Коэффициент можно рассматривать как универсальную меру зависимости одной случайной величины от множества других.\n",
    "\n",
    "R^{2}=1-\\frac{SS_{res}}{SS_{tot}}\n",
    "\n",
    "SS_{res}=\\sum_{1}^{n}e_{i}^{2}=\\sum_{1}^{n}(y_i-\\hat{y}_i)^{2}\n",
    "\n",
    "SS_{tot}=\\sum_{1}^{n}(y_i-\\bar{y})^{2}=n\\hat{\\sigma}_y^{2}\n",
    "\n",
    "\n",
    "\n",
    "Интерпретация\n",
    "* Коэффициент детерминации принимает значения от  до .\n",
    "* Для приемлемых моделей коэффициент должен быть не меньше 50%.\n",
    "* Модели с коэффициентом детерминации выше 80% можно признать достаточно хорошими.\n",
    "* Коэффициент может быть отрицательным, это говорит о крайней неадекватности модели: простое среднее приближает лучше.\n",
    "* Стоит отметить, что коэффициент детерминации довольно часто используется в научных исследованиях (особенно в социальных науках), однако в практических бизнес-задачах он часто бывает несостоятелен для оценки качества модели, и об этом необходимо помнить. Он может принимать очень низкие значения при полностью верной модели и, наоборот, приближаться к единице при неверной модели.  Подробнее об этом можно почитать здесь.\n",
    "\n",
    "\n",
    "\n",
    "\n"
   ],
   "id": "657ff4cf11464646"
  },
  {
   "metadata": {},
   "cell_type": "markdown",
   "source": "# Задание",
   "id": "debc97e89759dc60"
  },
  {
   "metadata": {
    "ExecuteTime": {
     "end_time": "2025-01-22T17:24:15.201725Z",
     "start_time": "2025-01-22T17:24:15.175899Z"
    }
   },
   "cell_type": "code",
   "source": [
    "from sklearn.metrics import r2_score\n",
    "\n",
    "r_var = [1,3,2,5]\n",
    "y_var = [2,3,-1,4]\n",
    "\n",
    "r2_score(y_var , r_var)\n",
    "\n"
   ],
   "id": "408dae6835fd9993",
   "outputs": [
    {
     "data": {
      "text/plain": [
       "0.2142857142857143"
      ]
     },
     "execution_count": 6,
     "metadata": {},
     "output_type": "execute_result"
    }
   ],
   "execution_count": 6
  }
 ],
 "metadata": {
  "kernelspec": {
   "display_name": "Python 3",
   "language": "python",
   "name": "python3"
  },
  "language_info": {
   "codemirror_mode": {
    "name": "ipython",
    "version": 2
   },
   "file_extension": ".py",
   "mimetype": "text/x-python",
   "name": "python",
   "nbconvert_exporter": "python",
   "pygments_lexer": "ipython2",
   "version": "2.7.6"
  }
 },
 "nbformat": 4,
 "nbformat_minor": 5
}
