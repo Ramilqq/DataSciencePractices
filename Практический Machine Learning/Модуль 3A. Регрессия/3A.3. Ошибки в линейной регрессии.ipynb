{
 "cells": [
  {
   "metadata": {},
   "cell_type": "markdown",
   "source": [
    "Есть несколько способов посчитать ошибку, один из них — средняя квадратичная ошибка (mean squared error, MSE). Если  —  набор значений зависимой переменной, которые вернула линейная модель,  — набор истинных значений зависимой переменной, то MSE считается как:\n",
    "\n",
    "\\frac{1}{n}\\sum_{i=1}^{n}(\\hat{y_i} - y_i)^{2}\n",
    "\n",
    "MSE = \\frac{1}{n}\\sum_{i=1}^{n}(\\hat{y_i} - y_i)^{2} , где  — количество предсказанных значений."
   ],
   "id": "f811dba4d6752ef8"
  },
  {
   "metadata": {},
   "cell_type": "markdown",
   "source": "Итак, для каждого значения переменной Х мы имеет реальное значение и предсказанное. Для того, чтобы оценить качество алгоритма, нам надо научиться определять, насколько предсказанное значения отличается от реального. Есть несколько способов это сделать.",
   "id": "55e1f99ce955c4b2"
  },
  {
   "metadata": {},
   "cell_type": "markdown",
   "source": [
    "MAE (Mean Absolute Error). Чтобы посчитать данную метрику, нужно найти все остатки (разницы между предсказанным значением и реальным), взять от каждого из них модуль, сложить их и поделить на количество. Иными словами, нам нужно найти среднее арифметическое модуля отклонения предсказанного значения от реального.\n",
    "\n",
    "\\begin{equation}\\mathrm{MAE}=\\frac{1}{m} \\sum_{i=1}^{m}\\left|a_{i}-y_{i}\\right|\\end{equation}\n"
   ],
   "id": "1c286752885bc847"
  },
  {
   "metadata": {},
   "cell_type": "markdown",
   "source": [
    "\n",
    "MSE (Mean Squared Error). Логика вычисления данной ошибки очень похожа на предыдущую. Разница лишь в том, что вместо модуля разности между предсказанным значением и реальным мы берем квадрат этого модуля:\n",
    "\n",
    "\\begin{equation}\\mathrm{MSE}=\\frac{1}{m} \\sum_{i=1}^{m}\\left|a_{i}-y_{i}\\right|^{2}\\end{equation}\n",
    "\n",
    "Данная метрика является более популярной."
   ],
   "id": "d0a685784f8c08b2"
  },
  {
   "metadata": {},
   "cell_type": "markdown",
   "source": [
    "Также можно встретить ее аналог, RMSE (Root Mean Squared Error). Для получения RMSE надо просто извлечь квадратный корень из MSE:\n",
    "\n",
    "\\begin{equation}\\mathrm{RMSE}=\\sqrt{\\mathrm{MSE}}=\\sqrt{\\frac{1}{m} \\sum_{i=1}^{m}\\left|a_{i}-y_{i}\\right|^{2}}\\end{equation}\n"
   ],
   "id": "543df739636163ea"
  },
  {
   "metadata": {},
   "cell_type": "markdown",
   "source": [
    "MAPE (Mean Absolute Percent Error) — реже используемая, но все равно важная метрика. Для ее вычисления модуль разницы между предсказанием алгоритма и истинным значением мы делим на истинное значение. Потом складываем все результаты (для каждого объекта), делим на количество и умножаем на 100 %. Итак, эта метрика показывает, на сколько процентов в среднем наше предсказание отклоняется от реального значения.\n",
    "\n",
    "\\begin{equation}\\mathrm{MAPE}=100 \\% \\cdot \\frac{1}{m} \\sum_{i=1}^{m} \\frac{\\left|y_{i}-a_{i}\\right|}{\\left|y_{i}\\right|}\\end{equation}\n"
   ],
   "id": "d2433feeee4bb668"
  },
  {
   "metadata": {
    "ExecuteTime": {
     "end_time": "2025-01-22T16:37:48.464467Z",
     "start_time": "2025-01-22T16:37:48.457052Z"
    }
   },
   "cell_type": "code",
   "source": [
    "import pandas as pd               # библиотека для работы с таблицами\n",
    "import numpy as np                # библиотека для работы с матрицами\n",
    "\n",
    "\n",
    "# Рассмотрим очень простой пример. Предположим, что у нас есть показатели уровня счастья для пяти человек:\n",
    "y_happy = [4,20,110,15,23]\n",
    "\n",
    "# Допустим, у нас есть показатели счастья для этих же пяти человек, но предсказанные некоторым алгоритмом:\n",
    "y_happy_pred = [5,15,100,9,21]\n",
    "\n",
    "# Давайте вычислим метрики для этих данных!\n",
    "from sklearn import metrics  # подгружаем метрики"
   ],
   "id": "febc9f26b6746069",
   "outputs": [],
   "execution_count": 7
  },
  {
   "metadata": {
    "ExecuteTime": {
     "end_time": "2025-01-22T16:37:33.643105Z",
     "start_time": "2025-01-22T16:37:33.612157Z"
    }
   },
   "cell_type": "code",
   "source": [
    "#Вычисляем MAE:\n",
    "MAE = metrics.mean_absolute_error(y_happy, y_happy_pred)\n",
    "\n",
    "print(MAE)"
   ],
   "id": "a799b40b57abe2be",
   "outputs": [
    {
     "name": "stdout",
     "output_type": "stream",
     "text": [
      "4.8\n"
     ]
    }
   ],
   "execution_count": 5
  },
  {
   "metadata": {
    "ExecuteTime": {
     "end_time": "2025-01-22T16:37:34.939019Z",
     "start_time": "2025-01-22T16:37:34.878925Z"
    }
   },
   "cell_type": "code",
   "source": [
    "#Вычисляем коэффициент детерминации:\n",
    "\n",
    "R_2 = metrics.r2_score(y_happy, y_happy_pred)\n",
    "print(R_2)"
   ],
   "id": "8f56a8fadacb879c",
   "outputs": [
    {
     "name": "stdout",
     "output_type": "stream",
     "text": [
      "0.9774247946472284\n"
     ]
    }
   ],
   "execution_count": 6
  },
  {
   "metadata": {},
   "cell_type": "markdown",
   "source": [
    "# Задание 3.3.1\n",
    "\n",
    "Чему равна MSE на этих данных ?\n",
    "\n",
    "Предсказанное значение\t1\t3\t2\t5\n",
    "Истинное значение\t2\t3\t-1\t4\n",
    "\n"
   ],
   "id": "54b9b656ad693152"
  },
  {
   "metadata": {
    "ExecuteTime": {
     "end_time": "2025-01-22T16:47:01.849058Z",
     "start_time": "2025-01-22T16:47:01.820829Z"
    }
   },
   "cell_type": "code",
   "source": [
    "y_happy = [1,3,2,5]\n",
    "y_happy_pred = [2,3,-1,4]\n",
    "\n",
    "MSE = metrics.mean_squared_error(y_happy, y_happy_pred)\n",
    "\n",
    "print(MSE)\n"
   ],
   "id": "4d13afcbd73ea43d",
   "outputs": [
    {
     "name": "stdout",
     "output_type": "stream",
     "text": [
      "2.75\n"
     ]
    }
   ],
   "execution_count": 13
  }
 ],
 "metadata": {
  "kernelspec": {
   "display_name": "Python 3",
   "language": "python",
   "name": "python3"
  },
  "language_info": {
   "codemirror_mode": {
    "name": "ipython",
    "version": 2
   },
   "file_extension": ".py",
   "mimetype": "text/x-python",
   "name": "python",
   "nbconvert_exporter": "python",
   "pygments_lexer": "ipython2",
   "version": "2.7.6"
  }
 },
 "nbformat": 4,
 "nbformat_minor": 5
}
